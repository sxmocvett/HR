{
 "cells": [
  {
   "cell_type": "markdown",
   "metadata": {},
   "source": [
    "# Библитеки"
   ]
  },
  {
   "cell_type": "code",
   "execution_count": 8,
   "metadata": {
    "ExecuteTime": {
     "end_time": "2021-09-20T13:45:11.200989Z",
     "start_time": "2021-09-20T13:45:11.180991Z"
    }
   },
   "outputs": [],
   "source": [
    "import pandas as pd\n",
    "import numpy as np\n",
    "from itertools import product\n",
    "\n",
    "import matplotlib.pyplot as plt\n",
    "import seaborn as sns\n",
    "import ppscore as pps\n",
    "\n",
    "from sklearn.preprocessing import PolynomialFeatures\n",
    "from sklearn.model_selection import train_test_split, GridSearchCV\n",
    "from category_encoders import TargetEncoder\n",
    "\n",
    "from sklearn.pipeline import Pipeline\n",
    "from sklearn.compose import ColumnTransformer\n",
    "from imblearn.pipeline import Pipeline as PipelineImb\n",
    "from sklearn.impute import SimpleImputer\n",
    "from sklearn.impute import KNNImputer\n",
    "from sklearn.preprocessing import MinMaxScaler\n",
    "\n",
    "from imblearn.over_sampling import SMOTE\n",
    "\n",
    "from lightgbm import LGBMClassifier\n",
    "from catboost import CatBoostClassifier\n",
    "from sklearn.ensemble import RandomForestClassifier, VotingClassifier\n",
    "from sklearn.neighbors import KNeighborsClassifier\n",
    "from sklearn.linear_model import LogisticRegression\n",
    "\n",
    "from sklearn.metrics import roc_auc_score, f1_score, make_scorer, plot_confusion_matrix, accuracy_score, \\\n",
    "     classification_report, precision_score, recall_score, confusion_matrix, balanced_accuracy_score\n",
    "\n",
    "# for class\n",
    "import scipy.stats as ss\n",
    "import itertools\n",
    "from sklearn import preprocessing\n",
    "from sklearn.feature_selection import VarianceThreshold\n",
    "from sklearn.base import BaseEstimator, TransformerMixin\n",
    "from collections import defaultdict\n",
    "from itertools import product\n",
    "\n",
    "# for detect anomalies\n",
    "from sklearn.neighbors import LocalOutlierFactor\n",
    "from sklearn.cluster import DBSCAN\n",
    "from sklearn.svm import OneClassSVM\n",
    "from sklearn.ensemble import IsolationForest\n",
    "\n",
    "import warnings\n",
    "warnings.filterwarnings(\"ignore\")\n",
    "\n",
    "from Modules.CheckerClass import Checker\n",
    "from Modules.VisualisationClass import Vizualization\n",
    "from Modules.DetectOutliersClass import DetectOutliers"
   ]
  },
  {
   "cell_type": "markdown",
   "metadata": {},
   "source": [
    "# Обзор данных"
   ]
  },
  {
   "cell_type": "code",
   "execution_count": 9,
   "metadata": {
    "ExecuteTime": {
     "end_time": "2021-09-20T13:45:12.139899Z",
     "start_time": "2021-09-20T13:45:12.071031Z"
    }
   },
   "outputs": [
    {
     "name": "stdout",
     "output_type": "stream",
     "text": [
      "Количество строк: 19158, количество столбцов: 14\n"
     ]
    },
    {
     "data": {
      "text/html": [
       "<div>\n",
       "<style scoped>\n",
       "    .dataframe tbody tr th:only-of-type {\n",
       "        vertical-align: middle;\n",
       "    }\n",
       "\n",
       "    .dataframe tbody tr th {\n",
       "        vertical-align: top;\n",
       "    }\n",
       "\n",
       "    .dataframe thead th {\n",
       "        text-align: right;\n",
       "    }\n",
       "</style>\n",
       "<table border=\"1\" class=\"dataframe\">\n",
       "  <thead>\n",
       "    <tr style=\"text-align: right;\">\n",
       "      <th></th>\n",
       "      <th>enrollee_id</th>\n",
       "      <th>city</th>\n",
       "      <th>city_development_index</th>\n",
       "      <th>gender</th>\n",
       "      <th>relevent_experience</th>\n",
       "      <th>enrolled_university</th>\n",
       "      <th>education_level</th>\n",
       "      <th>major_discipline</th>\n",
       "      <th>experience</th>\n",
       "      <th>company_size</th>\n",
       "      <th>company_type</th>\n",
       "      <th>last_new_job</th>\n",
       "      <th>training_hours</th>\n",
       "      <th>target</th>\n",
       "    </tr>\n",
       "  </thead>\n",
       "  <tbody>\n",
       "    <tr>\n",
       "      <th>0</th>\n",
       "      <td>8949</td>\n",
       "      <td>city_103</td>\n",
       "      <td>0.920</td>\n",
       "      <td>Male</td>\n",
       "      <td>Has relevent experience</td>\n",
       "      <td>no_enrollment</td>\n",
       "      <td>Graduate</td>\n",
       "      <td>STEM</td>\n",
       "      <td>&gt;20</td>\n",
       "      <td>NaN</td>\n",
       "      <td>NaN</td>\n",
       "      <td>1</td>\n",
       "      <td>36</td>\n",
       "      <td>1.0</td>\n",
       "    </tr>\n",
       "    <tr>\n",
       "      <th>1</th>\n",
       "      <td>29725</td>\n",
       "      <td>city_40</td>\n",
       "      <td>0.776</td>\n",
       "      <td>Male</td>\n",
       "      <td>No relevent experience</td>\n",
       "      <td>no_enrollment</td>\n",
       "      <td>Graduate</td>\n",
       "      <td>STEM</td>\n",
       "      <td>15</td>\n",
       "      <td>50-99</td>\n",
       "      <td>Pvt Ltd</td>\n",
       "      <td>&gt;4</td>\n",
       "      <td>47</td>\n",
       "      <td>0.0</td>\n",
       "    </tr>\n",
       "    <tr>\n",
       "      <th>2</th>\n",
       "      <td>11561</td>\n",
       "      <td>city_21</td>\n",
       "      <td>0.624</td>\n",
       "      <td>NaN</td>\n",
       "      <td>No relevent experience</td>\n",
       "      <td>Full time course</td>\n",
       "      <td>Graduate</td>\n",
       "      <td>STEM</td>\n",
       "      <td>5</td>\n",
       "      <td>NaN</td>\n",
       "      <td>NaN</td>\n",
       "      <td>never</td>\n",
       "      <td>83</td>\n",
       "      <td>0.0</td>\n",
       "    </tr>\n",
       "    <tr>\n",
       "      <th>3</th>\n",
       "      <td>33241</td>\n",
       "      <td>city_115</td>\n",
       "      <td>0.789</td>\n",
       "      <td>NaN</td>\n",
       "      <td>No relevent experience</td>\n",
       "      <td>NaN</td>\n",
       "      <td>Graduate</td>\n",
       "      <td>Business Degree</td>\n",
       "      <td>&lt;1</td>\n",
       "      <td>NaN</td>\n",
       "      <td>Pvt Ltd</td>\n",
       "      <td>never</td>\n",
       "      <td>52</td>\n",
       "      <td>1.0</td>\n",
       "    </tr>\n",
       "    <tr>\n",
       "      <th>4</th>\n",
       "      <td>666</td>\n",
       "      <td>city_162</td>\n",
       "      <td>0.767</td>\n",
       "      <td>Male</td>\n",
       "      <td>Has relevent experience</td>\n",
       "      <td>no_enrollment</td>\n",
       "      <td>Masters</td>\n",
       "      <td>STEM</td>\n",
       "      <td>&gt;20</td>\n",
       "      <td>50-99</td>\n",
       "      <td>Funded Startup</td>\n",
       "      <td>4</td>\n",
       "      <td>8</td>\n",
       "      <td>0.0</td>\n",
       "    </tr>\n",
       "  </tbody>\n",
       "</table>\n",
       "</div>"
      ],
      "text/plain": [
       "   enrollee_id      city  city_development_index gender  \\\n",
       "0         8949  city_103                   0.920   Male   \n",
       "1        29725   city_40                   0.776   Male   \n",
       "2        11561   city_21                   0.624    NaN   \n",
       "3        33241  city_115                   0.789    NaN   \n",
       "4          666  city_162                   0.767   Male   \n",
       "\n",
       "       relevent_experience enrolled_university education_level  \\\n",
       "0  Has relevent experience       no_enrollment        Graduate   \n",
       "1   No relevent experience       no_enrollment        Graduate   \n",
       "2   No relevent experience    Full time course        Graduate   \n",
       "3   No relevent experience                 NaN        Graduate   \n",
       "4  Has relevent experience       no_enrollment         Masters   \n",
       "\n",
       "  major_discipline experience company_size    company_type last_new_job  \\\n",
       "0             STEM        >20          NaN             NaN            1   \n",
       "1             STEM         15        50-99         Pvt Ltd           >4   \n",
       "2             STEM          5          NaN             NaN        never   \n",
       "3  Business Degree         <1          NaN         Pvt Ltd        never   \n",
       "4             STEM        >20        50-99  Funded Startup            4   \n",
       "\n",
       "   training_hours  target  \n",
       "0              36     1.0  \n",
       "1              47     0.0  \n",
       "2              83     0.0  \n",
       "3              52     1.0  \n",
       "4               8     0.0  "
      ]
     },
     "execution_count": 9,
     "metadata": {},
     "output_type": "execute_result"
    }
   ],
   "source": [
    "data = pd.read_csv('C:/Users/malya/Desktop/Datasets/HR/HR Analytics Job Change of Data Scientists/aug_train.csv')\n",
    "print(f\"Количество строк: {data.shape[0]}, количество столбцов: {data.shape[1]}\")\n",
    "data.head()"
   ]
  },
  {
   "cell_type": "code",
   "execution_count": 10,
   "metadata": {
    "ExecuteTime": {
     "end_time": "2021-09-20T13:45:13.048389Z",
     "start_time": "2021-09-20T13:45:13.027445Z"
    }
   },
   "outputs": [
    {
     "name": "stdout",
     "output_type": "stream",
     "text": [
      "<class 'pandas.core.frame.DataFrame'>\n",
      "RangeIndex: 19158 entries, 0 to 19157\n",
      "Data columns (total 14 columns):\n",
      " #   Column                  Non-Null Count  Dtype  \n",
      "---  ------                  --------------  -----  \n",
      " 0   enrollee_id             19158 non-null  int64  \n",
      " 1   city                    19158 non-null  object \n",
      " 2   city_development_index  19158 non-null  float64\n",
      " 3   gender                  14650 non-null  object \n",
      " 4   relevent_experience     19158 non-null  object \n",
      " 5   enrolled_university     18772 non-null  object \n",
      " 6   education_level         18698 non-null  object \n",
      " 7   major_discipline        16345 non-null  object \n",
      " 8   experience              19093 non-null  object \n",
      " 9   company_size            13220 non-null  object \n",
      " 10  company_type            13018 non-null  object \n",
      " 11  last_new_job            18735 non-null  object \n",
      " 12  training_hours          19158 non-null  int64  \n",
      " 13  target                  19158 non-null  float64\n",
      "dtypes: float64(2), int64(2), object(10)\n",
      "memory usage: 2.0+ MB\n"
     ]
    }
   ],
   "source": [
    "data.info()"
   ]
  },
  {
   "cell_type": "code",
   "execution_count": 11,
   "metadata": {
    "ExecuteTime": {
     "end_time": "2021-09-20T13:45:15.223962Z",
     "start_time": "2021-09-20T13:45:15.203981Z"
    }
   },
   "outputs": [
    {
     "data": {
      "text/html": [
       "<div>\n",
       "<style scoped>\n",
       "    .dataframe tbody tr th:only-of-type {\n",
       "        vertical-align: middle;\n",
       "    }\n",
       "\n",
       "    .dataframe tbody tr th {\n",
       "        vertical-align: top;\n",
       "    }\n",
       "\n",
       "    .dataframe thead th {\n",
       "        text-align: right;\n",
       "    }\n",
       "</style>\n",
       "<table border=\"1\" class=\"dataframe\">\n",
       "  <thead>\n",
       "    <tr style=\"text-align: right;\">\n",
       "      <th></th>\n",
       "      <th>missing</th>\n",
       "    </tr>\n",
       "  </thead>\n",
       "  <tbody>\n",
       "    <tr>\n",
       "      <th>experience</th>\n",
       "      <td>0.339284</td>\n",
       "    </tr>\n",
       "    <tr>\n",
       "      <th>enrolled_university</th>\n",
       "      <td>2.014824</td>\n",
       "    </tr>\n",
       "    <tr>\n",
       "      <th>last_new_job</th>\n",
       "      <td>2.207955</td>\n",
       "    </tr>\n",
       "    <tr>\n",
       "      <th>education_level</th>\n",
       "      <td>2.401086</td>\n",
       "    </tr>\n",
       "    <tr>\n",
       "      <th>major_discipline</th>\n",
       "      <td>14.683161</td>\n",
       "    </tr>\n",
       "    <tr>\n",
       "      <th>gender</th>\n",
       "      <td>23.530640</td>\n",
       "    </tr>\n",
       "    <tr>\n",
       "      <th>company_size</th>\n",
       "      <td>30.994885</td>\n",
       "    </tr>\n",
       "    <tr>\n",
       "      <th>company_type</th>\n",
       "      <td>32.049274</td>\n",
       "    </tr>\n",
       "  </tbody>\n",
       "</table>\n",
       "</div>"
      ],
      "text/plain": [
       "                       missing\n",
       "experience            0.339284\n",
       "enrolled_university   2.014824\n",
       "last_new_job          2.207955\n",
       "education_level       2.401086\n",
       "major_discipline     14.683161\n",
       "gender               23.530640\n",
       "company_size         30.994885\n",
       "company_type         32.049274"
      ]
     },
     "execution_count": 11,
     "metadata": {},
     "output_type": "execute_result"
    }
   ],
   "source": [
    "Checker(data).check_missing(missing_edge=0.1)"
   ]
  },
  {
   "cell_type": "code",
   "execution_count": 12,
   "metadata": {
    "ExecuteTime": {
     "end_time": "2021-09-20T13:45:15.675886Z",
     "start_time": "2021-09-20T13:45:15.615023Z"
    }
   },
   "outputs": [
    {
     "data": {
      "text/plain": [
       "[]"
      ]
     },
     "execution_count": 12,
     "metadata": {},
     "output_type": "execute_result"
    }
   ],
   "source": [
    "Checker(data).constant_values()"
   ]
  },
  {
   "cell_type": "code",
   "execution_count": 13,
   "metadata": {
    "ExecuteTime": {
     "end_time": "2021-09-20T13:45:16.606371Z",
     "start_time": "2021-09-20T13:45:16.002985Z"
    }
   },
   "outputs": [
    {
     "data": {
      "image/png": "[encoded data removed]",
      "text/plain": [
       "<Figure size 360x504 with 1 Axes>"
      ]
     },
     "metadata": {
      "needs_background": "light"
     },
     "output_type": "display_data"
    }
   ],
   "source": [
    "Checker(data).disbalance_target()"
   ]
  },
  {
   "cell_type": "code",
   "execution_count": 14,
   "metadata": {
    "ExecuteTime": {
     "end_time": "2021-09-20T13:45:16.987532Z",
     "start_time": "2021-09-20T13:45:16.960601Z"
    }
   },
   "outputs": [
    {
     "data": {
      "text/plain": [
       "city_development_index  training_hours            0.001920\n",
       "enrollee_id             training_hours            0.000998\n",
       "training_hours          target                   -0.021577\n",
       "enrollee_id             city_development_index   -0.040455\n",
       "city_development_index  target                   -0.341665\n",
       "dtype: float64"
      ]
     },
     "execution_count": 14,
     "metadata": {},
     "output_type": "execute_result"
    }
   ],
   "source": [
    "Checker(data).correlation(corr_edge=0, corr_method='pearson')"
   ]
  },
  {
   "cell_type": "code",
   "execution_count": 15,
   "metadata": {
    "ExecuteTime": {
     "end_time": "2021-09-20T13:45:19.525059Z",
     "start_time": "2021-09-20T13:45:17.308688Z"
    }
   },
   "outputs": [
    {
     "data": {
      "text/plain": [
       "experience           relevent_experience    0.397\n",
       "last_new_job         relevent_experience    0.390\n",
       "relevent_experience  enrolled_university    0.388\n",
       "education_level      relevent_experience    0.317\n",
       "enrolled_university  experience             0.253\n",
       "last_new_job         experience             0.236\n",
       "company_type         relevent_experience    0.205\n",
       "dtype: float64"
      ]
     },
     "execution_count": 15,
     "metadata": {},
     "output_type": "execute_result"
    }
   ],
   "source": [
    "data_kramer = data.copy()\n",
    "data_kramer['target'] = np.where(data_kramer['target']==1, 'A', 'B')\n",
    "Checker(data_kramer).kramer_corr(kramer_edge=0.2)"
   ]
  },
  {
   "cell_type": "code",
   "execution_count": 16,
   "metadata": {
    "ExecuteTime": {
     "end_time": "2021-09-20T13:45:27.098611Z",
     "start_time": "2021-09-20T13:45:19.933972Z"
    }
   },
   "outputs": [
    {
     "data": {
      "text/html": [
       "<div>\n",
       "<style scoped>\n",
       "    .dataframe tbody tr th:only-of-type {\n",
       "        vertical-align: middle;\n",
       "    }\n",
       "\n",
       "    .dataframe tbody tr th {\n",
       "        vertical-align: top;\n",
       "    }\n",
       "\n",
       "    .dataframe thead th {\n",
       "        text-align: right;\n",
       "    }\n",
       "</style>\n",
       "<table border=\"1\" class=\"dataframe\">\n",
       "  <thead>\n",
       "    <tr style=\"text-align: right;\">\n",
       "      <th></th>\n",
       "      <th>x</th>\n",
       "      <th>y</th>\n",
       "      <th>ppscore</th>\n",
       "    </tr>\n",
       "  </thead>\n",
       "  <tbody>\n",
       "    <tr>\n",
       "      <th>16</th>\n",
       "      <td>city</td>\n",
       "      <td>city_development_index</td>\n",
       "      <td>0.995505</td>\n",
       "    </tr>\n",
       "    <tr>\n",
       "      <th>29</th>\n",
       "      <td>city_development_index</td>\n",
       "      <td>city</td>\n",
       "      <td>0.851952</td>\n",
       "    </tr>\n",
       "    <tr>\n",
       "      <th>158</th>\n",
       "      <td>last_new_job</td>\n",
       "      <td>relevent_experience</td>\n",
       "      <td>0.396443</td>\n",
       "    </tr>\n",
       "    <tr>\n",
       "      <th>74</th>\n",
       "      <td>enrolled_university</td>\n",
       "      <td>relevent_experience</td>\n",
       "      <td>0.378410</td>\n",
       "    </tr>\n",
       "    <tr>\n",
       "      <th>116</th>\n",
       "      <td>experience</td>\n",
       "      <td>relevent_experience</td>\n",
       "      <td>0.349823</td>\n",
       "    </tr>\n",
       "    <tr>\n",
       "      <th>88</th>\n",
       "      <td>education_level</td>\n",
       "      <td>relevent_experience</td>\n",
       "      <td>0.262231</td>\n",
       "    </tr>\n",
       "  </tbody>\n",
       "</table>\n",
       "</div>"
      ],
      "text/plain": [
       "                          x                       y   ppscore\n",
       "16                     city  city_development_index  0.995505\n",
       "29   city_development_index                    city  0.851952\n",
       "158            last_new_job     relevent_experience  0.396443\n",
       "74      enrolled_university     relevent_experience  0.378410\n",
       "116              experience     relevent_experience  0.349823\n",
       "88          education_level     relevent_experience  0.262231"
      ]
     },
     "execution_count": 16,
     "metadata": {},
     "output_type": "execute_result"
    }
   ],
   "source": [
    "Checker(data).ppscore(pps_edge=0.2)"
   ]
  },
  {
   "cell_type": "code",
   "execution_count": 11,
   "metadata": {
    "ExecuteTime": {
     "end_time": "2021-06-07T12:15:47.330116Z",
     "start_time": "2021-06-07T12:15:47.318152Z"
    }
   },
   "outputs": [],
   "source": [
    "# Удаление признака 'enrollee_id'\n",
    "del data['enrollee_id']"
   ]
  },
  {
   "cell_type": "code",
   "execution_count": 12,
   "metadata": {
    "ExecuteTime": {
     "end_time": "2021-06-07T12:15:47.449797Z",
     "start_time": "2021-06-07T12:15:47.406911Z"
    }
   },
   "outputs": [
    {
     "name": "stdout",
     "output_type": "stream",
     "text": [
      "Удалено строк - 49\n",
      "Размер данных - 19109 X 13\n"
     ]
    }
   ],
   "source": [
    "def drop_repite_rows(data, columns):\n",
    "    # Удаление повторяющихся строк\n",
    "    data_dropped = data.copy()\n",
    "    data_dropped = data_dropped.drop_duplicates(subset=columns)\n",
    "    print('Удалено строк - {}'. format(data.shape[0] - data_dropped.shape[0]))\n",
    "    print('Размер данных - {} X {}'. format(data_dropped.shape[0], data_dropped.shape[1]))\n",
    "    \n",
    "    return data_dropped\n",
    "\n",
    "data = drop_repite_rows(data, data.columns)"
   ]
  },
  {
   "cell_type": "code",
   "execution_count": 13,
   "metadata": {
    "ExecuteTime": {
     "end_time": "2021-06-07T12:15:47.555517Z",
     "start_time": "2021-06-07T12:15:47.544542Z"
    }
   },
   "outputs": [],
   "source": [
    "# Выделение признаков \n",
    "features = data.drop('target', axis=1)\n",
    "# Выделение target\n",
    "target = data['target']"
   ]
  },
  {
   "cell_type": "code",
   "execution_count": 5,
   "metadata": {
    "ExecuteTime": {
     "end_time": "2021-09-20T13:40:30.016604Z",
     "start_time": "2021-09-20T13:40:26.783251Z"
    }
   },
   "outputs": [
    {
     "data": {
      "image/png": "[encoded data removed]",
      "text/plain": [
       "<Figure size 1400x1750 with 10 Axes>"
      ]
     },
     "metadata": {
      "needs_background": "light"
     },
     "output_type": "display_data"
    }
   ],
   "source": [
    "Vizualization(data).cat_histograms()"
   ]
  },
  {
   "cell_type": "code",
   "execution_count": 16,
   "metadata": {
    "ExecuteTime": {
     "end_time": "2021-06-07T12:15:51.482676Z",
     "start_time": "2021-06-07T12:15:50.908306Z"
    }
   },
   "outputs": [
    {
     "data": {
      "image/png": "[encoded data removed]",
      "text/plain": [
       "<Figure size 1440x1800 with 2 Axes>"
      ]
     },
     "metadata": {
      "needs_background": "light"
     },
     "output_type": "display_data"
    }
   ],
   "source": [
    "Vizualization(features).num_histograms()"
   ]
  },
  {
   "cell_type": "markdown",
   "metadata": {},
   "source": [
    "# Поиск и удаление выбросов"
   ]
  },
  {
   "cell_type": "code",
   "execution_count": 7,
   "metadata": {
    "ExecuteTime": {
     "end_time": "2021-09-20T13:41:10.819401Z",
     "start_time": "2021-09-20T13:41:10.783523Z"
    }
   },
   "outputs": [
    {
     "data": {
      "text/html": [
       "<div>\n",
       "<style scoped>\n",
       "    .dataframe tbody tr th:only-of-type {\n",
       "        vertical-align: middle;\n",
       "    }\n",
       "\n",
       "    .dataframe tbody tr th {\n",
       "        vertical-align: top;\n",
       "    }\n",
       "\n",
       "    .dataframe thead th {\n",
       "        text-align: right;\n",
       "    }\n",
       "</style>\n",
       "<table border=\"1\" class=\"dataframe\">\n",
       "  <thead>\n",
       "    <tr style=\"text-align: right;\">\n",
       "      <th></th>\n",
       "      <th>enrollee_id</th>\n",
       "      <th>city</th>\n",
       "      <th>city_development_index</th>\n",
       "      <th>gender</th>\n",
       "      <th>relevent_experience</th>\n",
       "      <th>enrolled_university</th>\n",
       "      <th>education_level</th>\n",
       "      <th>major_discipline</th>\n",
       "      <th>experience</th>\n",
       "      <th>company_size</th>\n",
       "      <th>company_type</th>\n",
       "      <th>last_new_job</th>\n",
       "      <th>training_hours</th>\n",
       "      <th>anomalies_training_hours_mean_std</th>\n",
       "      <th>target</th>\n",
       "    </tr>\n",
       "  </thead>\n",
       "  <tbody>\n",
       "    <tr>\n",
       "      <th>0</th>\n",
       "      <td>8949</td>\n",
       "      <td>city_103</td>\n",
       "      <td>0.920</td>\n",
       "      <td>Male</td>\n",
       "      <td>Has relevent experience</td>\n",
       "      <td>no_enrollment</td>\n",
       "      <td>Graduate</td>\n",
       "      <td>STEM</td>\n",
       "      <td>&gt;20</td>\n",
       "      <td>NaN</td>\n",
       "      <td>NaN</td>\n",
       "      <td>1</td>\n",
       "      <td>36</td>\n",
       "      <td>1</td>\n",
       "      <td>1.0</td>\n",
       "    </tr>\n",
       "    <tr>\n",
       "      <th>1</th>\n",
       "      <td>29725</td>\n",
       "      <td>city_40</td>\n",
       "      <td>0.776</td>\n",
       "      <td>Male</td>\n",
       "      <td>No relevent experience</td>\n",
       "      <td>no_enrollment</td>\n",
       "      <td>Graduate</td>\n",
       "      <td>STEM</td>\n",
       "      <td>15</td>\n",
       "      <td>50-99</td>\n",
       "      <td>Pvt Ltd</td>\n",
       "      <td>&gt;4</td>\n",
       "      <td>47</td>\n",
       "      <td>1</td>\n",
       "      <td>0.0</td>\n",
       "    </tr>\n",
       "    <tr>\n",
       "      <th>2</th>\n",
       "      <td>11561</td>\n",
       "      <td>city_21</td>\n",
       "      <td>0.624</td>\n",
       "      <td>NaN</td>\n",
       "      <td>No relevent experience</td>\n",
       "      <td>Full time course</td>\n",
       "      <td>Graduate</td>\n",
       "      <td>STEM</td>\n",
       "      <td>5</td>\n",
       "      <td>NaN</td>\n",
       "      <td>NaN</td>\n",
       "      <td>never</td>\n",
       "      <td>83</td>\n",
       "      <td>1</td>\n",
       "      <td>0.0</td>\n",
       "    </tr>\n",
       "    <tr>\n",
       "      <th>3</th>\n",
       "      <td>33241</td>\n",
       "      <td>city_115</td>\n",
       "      <td>0.789</td>\n",
       "      <td>NaN</td>\n",
       "      <td>No relevent experience</td>\n",
       "      <td>NaN</td>\n",
       "      <td>Graduate</td>\n",
       "      <td>Business Degree</td>\n",
       "      <td>&lt;1</td>\n",
       "      <td>NaN</td>\n",
       "      <td>Pvt Ltd</td>\n",
       "      <td>never</td>\n",
       "      <td>52</td>\n",
       "      <td>1</td>\n",
       "      <td>1.0</td>\n",
       "    </tr>\n",
       "    <tr>\n",
       "      <th>4</th>\n",
       "      <td>666</td>\n",
       "      <td>city_162</td>\n",
       "      <td>0.767</td>\n",
       "      <td>Male</td>\n",
       "      <td>Has relevent experience</td>\n",
       "      <td>no_enrollment</td>\n",
       "      <td>Masters</td>\n",
       "      <td>STEM</td>\n",
       "      <td>&gt;20</td>\n",
       "      <td>50-99</td>\n",
       "      <td>Funded Startup</td>\n",
       "      <td>4</td>\n",
       "      <td>8</td>\n",
       "      <td>1</td>\n",
       "      <td>0.0</td>\n",
       "    </tr>\n",
       "    <tr>\n",
       "      <th>...</th>\n",
       "      <td>...</td>\n",
       "      <td>...</td>\n",
       "      <td>...</td>\n",
       "      <td>...</td>\n",
       "      <td>...</td>\n",
       "      <td>...</td>\n",
       "      <td>...</td>\n",
       "      <td>...</td>\n",
       "      <td>...</td>\n",
       "      <td>...</td>\n",
       "      <td>...</td>\n",
       "      <td>...</td>\n",
       "      <td>...</td>\n",
       "      <td>...</td>\n",
       "      <td>...</td>\n",
       "    </tr>\n",
       "    <tr>\n",
       "      <th>19153</th>\n",
       "      <td>7386</td>\n",
       "      <td>city_173</td>\n",
       "      <td>0.878</td>\n",
       "      <td>Male</td>\n",
       "      <td>No relevent experience</td>\n",
       "      <td>no_enrollment</td>\n",
       "      <td>Graduate</td>\n",
       "      <td>Humanities</td>\n",
       "      <td>14</td>\n",
       "      <td>NaN</td>\n",
       "      <td>NaN</td>\n",
       "      <td>1</td>\n",
       "      <td>42</td>\n",
       "      <td>1</td>\n",
       "      <td>1.0</td>\n",
       "    </tr>\n",
       "    <tr>\n",
       "      <th>19154</th>\n",
       "      <td>31398</td>\n",
       "      <td>city_103</td>\n",
       "      <td>0.920</td>\n",
       "      <td>Male</td>\n",
       "      <td>Has relevent experience</td>\n",
       "      <td>no_enrollment</td>\n",
       "      <td>Graduate</td>\n",
       "      <td>STEM</td>\n",
       "      <td>14</td>\n",
       "      <td>NaN</td>\n",
       "      <td>NaN</td>\n",
       "      <td>4</td>\n",
       "      <td>52</td>\n",
       "      <td>1</td>\n",
       "      <td>1.0</td>\n",
       "    </tr>\n",
       "    <tr>\n",
       "      <th>19155</th>\n",
       "      <td>24576</td>\n",
       "      <td>city_103</td>\n",
       "      <td>0.920</td>\n",
       "      <td>Male</td>\n",
       "      <td>Has relevent experience</td>\n",
       "      <td>no_enrollment</td>\n",
       "      <td>Graduate</td>\n",
       "      <td>STEM</td>\n",
       "      <td>&gt;20</td>\n",
       "      <td>50-99</td>\n",
       "      <td>Pvt Ltd</td>\n",
       "      <td>4</td>\n",
       "      <td>44</td>\n",
       "      <td>1</td>\n",
       "      <td>0.0</td>\n",
       "    </tr>\n",
       "    <tr>\n",
       "      <th>19156</th>\n",
       "      <td>5756</td>\n",
       "      <td>city_65</td>\n",
       "      <td>0.802</td>\n",
       "      <td>Male</td>\n",
       "      <td>Has relevent experience</td>\n",
       "      <td>no_enrollment</td>\n",
       "      <td>High School</td>\n",
       "      <td>NaN</td>\n",
       "      <td>&lt;1</td>\n",
       "      <td>500-999</td>\n",
       "      <td>Pvt Ltd</td>\n",
       "      <td>2</td>\n",
       "      <td>97</td>\n",
       "      <td>1</td>\n",
       "      <td>0.0</td>\n",
       "    </tr>\n",
       "    <tr>\n",
       "      <th>19157</th>\n",
       "      <td>23834</td>\n",
       "      <td>city_67</td>\n",
       "      <td>0.855</td>\n",
       "      <td>NaN</td>\n",
       "      <td>No relevent experience</td>\n",
       "      <td>no_enrollment</td>\n",
       "      <td>Primary School</td>\n",
       "      <td>NaN</td>\n",
       "      <td>2</td>\n",
       "      <td>NaN</td>\n",
       "      <td>NaN</td>\n",
       "      <td>1</td>\n",
       "      <td>127</td>\n",
       "      <td>1</td>\n",
       "      <td>0.0</td>\n",
       "    </tr>\n",
       "  </tbody>\n",
       "</table>\n",
       "<p>19158 rows × 15 columns</p>\n",
       "</div>"
      ],
      "text/plain": [
       "       enrollee_id      city  city_development_index gender  \\\n",
       "0             8949  city_103                   0.920   Male   \n",
       "1            29725   city_40                   0.776   Male   \n",
       "2            11561   city_21                   0.624    NaN   \n",
       "3            33241  city_115                   0.789    NaN   \n",
       "4              666  city_162                   0.767   Male   \n",
       "...            ...       ...                     ...    ...   \n",
       "19153         7386  city_173                   0.878   Male   \n",
       "19154        31398  city_103                   0.920   Male   \n",
       "19155        24576  city_103                   0.920   Male   \n",
       "19156         5756   city_65                   0.802   Male   \n",
       "19157        23834   city_67                   0.855    NaN   \n",
       "\n",
       "           relevent_experience enrolled_university education_level  \\\n",
       "0      Has relevent experience       no_enrollment        Graduate   \n",
       "1       No relevent experience       no_enrollment        Graduate   \n",
       "2       No relevent experience    Full time course        Graduate   \n",
       "3       No relevent experience                 NaN        Graduate   \n",
       "4      Has relevent experience       no_enrollment         Masters   \n",
       "...                        ...                 ...             ...   \n",
       "19153   No relevent experience       no_enrollment        Graduate   \n",
       "19154  Has relevent experience       no_enrollment        Graduate   \n",
       "19155  Has relevent experience       no_enrollment        Graduate   \n",
       "19156  Has relevent experience       no_enrollment     High School   \n",
       "19157   No relevent experience       no_enrollment  Primary School   \n",
       "\n",
       "      major_discipline experience company_size    company_type last_new_job  \\\n",
       "0                 STEM        >20          NaN             NaN            1   \n",
       "1                 STEM         15        50-99         Pvt Ltd           >4   \n",
       "2                 STEM          5          NaN             NaN        never   \n",
       "3      Business Degree         <1          NaN         Pvt Ltd        never   \n",
       "4                 STEM        >20        50-99  Funded Startup            4   \n",
       "...                ...        ...          ...             ...          ...   \n",
       "19153       Humanities         14          NaN             NaN            1   \n",
       "19154             STEM         14          NaN             NaN            4   \n",
       "19155             STEM        >20        50-99         Pvt Ltd            4   \n",
       "19156              NaN         <1      500-999         Pvt Ltd            2   \n",
       "19157              NaN          2          NaN             NaN            1   \n",
       "\n",
       "       training_hours  anomalies_training_hours_mean_std  target  \n",
       "0                  36                                  1     1.0  \n",
       "1                  47                                  1     0.0  \n",
       "2                  83                                  1     0.0  \n",
       "3                  52                                  1     1.0  \n",
       "4                   8                                  1     0.0  \n",
       "...               ...                                ...     ...  \n",
       "19153              42                                  1     1.0  \n",
       "19154              52                                  1     1.0  \n",
       "19155              44                                  1     0.0  \n",
       "19156              97                                  1     0.0  \n",
       "19157             127                                  1     0.0  \n",
       "\n",
       "[19158 rows x 15 columns]"
      ]
     },
     "execution_count": 7,
     "metadata": {},
     "output_type": "execute_result"
    }
   ],
   "source": [
    "test = DetectOutliers(data).outlier_detect_mean_std('training_hours')\n",
    "test"
   ]
  },
  {
   "cell_type": "markdown",
   "metadata": {},
   "source": [
    "# Feature Engineering"
   ]
  },
  {
   "cell_type": "code",
   "execution_count": 19,
   "metadata": {
    "ExecuteTime": {
     "end_time": "2021-06-07T12:16:32.038289Z",
     "start_time": "2021-06-07T12:16:32.024292Z"
    }
   },
   "outputs": [],
   "source": [
    "# Создадим наборы категориальных и количественных переменных\n",
    "# Разделяем по при признаку object и не object\n",
    "cat_columns_ =  features.select_dtypes(include='object').columns.tolist()\n",
    "num_columns_ =  features.select_dtypes(exclude='object').columns.tolist()"
   ]
  },
  {
   "cell_type": "markdown",
   "metadata": {},
   "source": [
    "## Количественные признаки"
   ]
  },
  {
   "cell_type": "code",
   "execution_count": 20,
   "metadata": {
    "ExecuteTime": {
     "end_time": "2021-06-07T12:16:32.843165Z",
     "start_time": "2021-06-07T12:16:32.800223Z"
    }
   },
   "outputs": [
    {
     "data": {
      "text/html": [
       "<div>\n",
       "<style scoped>\n",
       "    .dataframe tbody tr th:only-of-type {\n",
       "        vertical-align: middle;\n",
       "    }\n",
       "\n",
       "    .dataframe tbody tr th {\n",
       "        vertical-align: top;\n",
       "    }\n",
       "\n",
       "    .dataframe thead th {\n",
       "        text-align: right;\n",
       "    }\n",
       "</style>\n",
       "<table border=\"1\" class=\"dataframe\">\n",
       "  <thead>\n",
       "    <tr style=\"text-align: right;\">\n",
       "      <th></th>\n",
       "      <th>city</th>\n",
       "      <th>city_development_index</th>\n",
       "      <th>gender</th>\n",
       "      <th>relevent_experience</th>\n",
       "      <th>enrolled_university</th>\n",
       "      <th>education_level</th>\n",
       "      <th>major_discipline</th>\n",
       "      <th>experience</th>\n",
       "      <th>company_size</th>\n",
       "      <th>company_type</th>\n",
       "      <th>last_new_job</th>\n",
       "      <th>training_hours</th>\n",
       "      <th>city_development_index^2</th>\n",
       "      <th>city_development_index training_hours</th>\n",
       "      <th>training_hours^2</th>\n",
       "    </tr>\n",
       "  </thead>\n",
       "  <tbody>\n",
       "    <tr>\n",
       "      <th>0</th>\n",
       "      <td>city_103</td>\n",
       "      <td>0.920</td>\n",
       "      <td>Male</td>\n",
       "      <td>Has relevent experience</td>\n",
       "      <td>no_enrollment</td>\n",
       "      <td>Graduate</td>\n",
       "      <td>STEM</td>\n",
       "      <td>&gt;20</td>\n",
       "      <td>NaN</td>\n",
       "      <td>NaN</td>\n",
       "      <td>1</td>\n",
       "      <td>36.0</td>\n",
       "      <td>0.846400</td>\n",
       "      <td>33.120</td>\n",
       "      <td>1296.0</td>\n",
       "    </tr>\n",
       "    <tr>\n",
       "      <th>1</th>\n",
       "      <td>city_40</td>\n",
       "      <td>0.776</td>\n",
       "      <td>Male</td>\n",
       "      <td>No relevent experience</td>\n",
       "      <td>no_enrollment</td>\n",
       "      <td>Graduate</td>\n",
       "      <td>STEM</td>\n",
       "      <td>15</td>\n",
       "      <td>50-99</td>\n",
       "      <td>Pvt Ltd</td>\n",
       "      <td>&gt;4</td>\n",
       "      <td>47.0</td>\n",
       "      <td>0.602176</td>\n",
       "      <td>36.472</td>\n",
       "      <td>2209.0</td>\n",
       "    </tr>\n",
       "    <tr>\n",
       "      <th>2</th>\n",
       "      <td>city_21</td>\n",
       "      <td>0.624</td>\n",
       "      <td>NaN</td>\n",
       "      <td>No relevent experience</td>\n",
       "      <td>Full time course</td>\n",
       "      <td>Graduate</td>\n",
       "      <td>STEM</td>\n",
       "      <td>5</td>\n",
       "      <td>NaN</td>\n",
       "      <td>NaN</td>\n",
       "      <td>never</td>\n",
       "      <td>83.0</td>\n",
       "      <td>0.389376</td>\n",
       "      <td>51.792</td>\n",
       "      <td>6889.0</td>\n",
       "    </tr>\n",
       "    <tr>\n",
       "      <th>3</th>\n",
       "      <td>city_115</td>\n",
       "      <td>0.789</td>\n",
       "      <td>NaN</td>\n",
       "      <td>No relevent experience</td>\n",
       "      <td>NaN</td>\n",
       "      <td>Graduate</td>\n",
       "      <td>Business Degree</td>\n",
       "      <td>&lt;1</td>\n",
       "      <td>NaN</td>\n",
       "      <td>Pvt Ltd</td>\n",
       "      <td>never</td>\n",
       "      <td>52.0</td>\n",
       "      <td>0.622521</td>\n",
       "      <td>41.028</td>\n",
       "      <td>2704.0</td>\n",
       "    </tr>\n",
       "    <tr>\n",
       "      <th>4</th>\n",
       "      <td>city_162</td>\n",
       "      <td>0.767</td>\n",
       "      <td>Male</td>\n",
       "      <td>Has relevent experience</td>\n",
       "      <td>no_enrollment</td>\n",
       "      <td>Masters</td>\n",
       "      <td>STEM</td>\n",
       "      <td>&gt;20</td>\n",
       "      <td>50-99</td>\n",
       "      <td>Funded Startup</td>\n",
       "      <td>4</td>\n",
       "      <td>8.0</td>\n",
       "      <td>0.588289</td>\n",
       "      <td>6.136</td>\n",
       "      <td>64.0</td>\n",
       "    </tr>\n",
       "  </tbody>\n",
       "</table>\n",
       "</div>"
      ],
      "text/plain": [
       "       city  city_development_index gender      relevent_experience  \\\n",
       "0  city_103                   0.920   Male  Has relevent experience   \n",
       "1   city_40                   0.776   Male   No relevent experience   \n",
       "2   city_21                   0.624    NaN   No relevent experience   \n",
       "3  city_115                   0.789    NaN   No relevent experience   \n",
       "4  city_162                   0.767   Male  Has relevent experience   \n",
       "\n",
       "  enrolled_university education_level major_discipline experience  \\\n",
       "0       no_enrollment        Graduate             STEM        >20   \n",
       "1       no_enrollment        Graduate             STEM         15   \n",
       "2    Full time course        Graduate             STEM          5   \n",
       "3                 NaN        Graduate  Business Degree         <1   \n",
       "4       no_enrollment         Masters             STEM        >20   \n",
       "\n",
       "  company_size    company_type last_new_job  training_hours  \\\n",
       "0          NaN             NaN            1            36.0   \n",
       "1        50-99         Pvt Ltd           >4            47.0   \n",
       "2          NaN             NaN        never            83.0   \n",
       "3          NaN         Pvt Ltd        never            52.0   \n",
       "4        50-99  Funded Startup            4             8.0   \n",
       "\n",
       "   city_development_index^2  city_development_index training_hours  \\\n",
       "0                  0.846400                                 33.120   \n",
       "1                  0.602176                                 36.472   \n",
       "2                  0.389376                                 51.792   \n",
       "3                  0.622521                                 41.028   \n",
       "4                  0.588289                                  6.136   \n",
       "\n",
       "   training_hours^2  \n",
       "0            1296.0  \n",
       "1            2209.0  \n",
       "2            6889.0  \n",
       "3            2704.0  \n",
       "4              64.0  "
      ]
     },
     "execution_count": 20,
     "metadata": {},
     "output_type": "execute_result"
    }
   ],
   "source": [
    "def poly_nam_features(data, features, N):\n",
    "    \"\"\"\n",
    "    Объединение значений 2-х (3-х) количественных признаков\n",
    "    Args:\n",
    "        data - датафрейм\n",
    "        features - список количественных признаков\n",
    "        N - порядок генерируемого признака (полинома)\n",
    "    \"\"\"\n",
    "    poly = PolynomialFeatures(degree=N,\n",
    "                              include_bias=False,\n",
    "                              interaction_only=False)\n",
    "    poly.fit(data[features])\n",
    "    values = poly.transform(data[features])\n",
    "    poly_features = poly.get_feature_names()\n",
    "    features_ = poly.get_feature_names()[:len(features)]\n",
    "\n",
    "    j = -1\n",
    "    for k in features_:\n",
    "        j += 1\n",
    "        for i in range(len(poly_features)):\n",
    "            if poly_features[i].endswith(k):\n",
    "                poly_features[i] = poly_features[i].replace(k, features[j])\n",
    "    j = -1\n",
    "    for k in features_:\n",
    "        j += 1\n",
    "        for i in range(len(poly_features)):\n",
    "            if poly_features[i].startswith(k+' ') or poly_features[i].startswith(k+'^'):\n",
    "                poly_features[i] = poly_features[i].replace(k, features[j])      \n",
    "\n",
    "\n",
    "    return pd.DataFrame(values, columns=poly_features, index=data.index)\n",
    "\n",
    "new_features_poly = poly_nam_features(features, num_columns_, 2)\n",
    "features[new_features_poly.columns] = new_features_poly\n",
    "features.head()"
   ]
  },
  {
   "cell_type": "markdown",
   "metadata": {},
   "source": [
    "# Train test split"
   ]
  },
  {
   "cell_type": "code",
   "execution_count": 21,
   "metadata": {
    "ExecuteTime": {
     "end_time": "2021-06-07T12:16:34.178385Z",
     "start_time": "2021-06-07T12:16:34.160522Z"
    }
   },
   "outputs": [
    {
     "name": "stdout",
     "output_type": "stream",
     "text": [
      "Размер X_train - 13376 X 15\n",
      "Размер X_valid - 5733 X 15\n"
     ]
    }
   ],
   "source": [
    "X_train, X_valid, y_train, y_valid = train_test_split(features,\n",
    "                                                      target,\n",
    "                                                      test_size=0.3,\n",
    "                                                      stratify=target,\n",
    "                                                      random_state=16)\n",
    "print('Размер X_train - {} X {}'. format(X_train.shape[0], X_train.shape[1]))\n",
    "print('Размер X_valid - {} X {}'. format(X_valid.shape[0], X_valid.shape[1]))"
   ]
  },
  {
   "cell_type": "code",
   "execution_count": 22,
   "metadata": {
    "ExecuteTime": {
     "end_time": "2021-06-07T12:16:34.677487Z",
     "start_time": "2021-06-07T12:16:34.662493Z"
    }
   },
   "outputs": [],
   "source": [
    "def check_diff_categories(data, test_data):\n",
    "    \"\"\"\n",
    "    Проверка наличия одних и тех же категорий в train и test\n",
    "    \"\"\"\n",
    "    uni_lists = []\n",
    "    uni_f = []\n",
    "    cat_columns = data.select_dtypes(include='object').columns.tolist()\n",
    "    \n",
    "    for f in cat_columns:\n",
    "        unique_cat_data = data[f].unique().tolist()\n",
    "        unique_cat_test_data = test_data[f].unique().tolist()\n",
    "        diff_cat = list(set(unique_cat_data) - set(unique_cat_test_data))\n",
    "        if len(diff_cat) > 0:\n",
    "            uni_lists.append(diff_cat)\n",
    "            uni_f.append(f)\n",
    "        uni_dict = dict(zip(uni_f, uni_lists))\n",
    "        \n",
    "    return uni_dict"
   ]
  },
  {
   "cell_type": "code",
   "execution_count": 23,
   "metadata": {
    "ExecuteTime": {
     "end_time": "2021-06-07T12:16:35.175489Z",
     "start_time": "2021-06-07T12:16:35.152534Z"
    }
   },
   "outputs": [
    {
     "data": {
      "text/plain": [
       "{'city': ['city_167', 'city_140', 'city_121', 'city_139', 'city_129']}"
      ]
     },
     "execution_count": 23,
     "metadata": {},
     "output_type": "execute_result"
    }
   ],
   "source": [
    "check_diff_categories(X_train, X_valid)"
   ]
  },
  {
   "cell_type": "code",
   "execution_count": 24,
   "metadata": {
    "ExecuteTime": {
     "end_time": "2021-06-07T12:16:35.666697Z",
     "start_time": "2021-06-07T12:16:35.636778Z"
    }
   },
   "outputs": [
    {
     "data": {
      "text/plain": [
       "{'city': ['city_171']}"
      ]
     },
     "execution_count": 24,
     "metadata": {},
     "output_type": "execute_result"
    }
   ],
   "source": [
    "check_diff_categories(X_valid, X_train)"
   ]
  },
  {
   "cell_type": "markdown",
   "metadata": {},
   "source": [
    "## Укрупнение редких категорий"
   ]
  },
  {
   "cell_type": "code",
   "execution_count": 25,
   "metadata": {
    "ExecuteTime": {
     "end_time": "2021-06-07T12:16:37.831025Z",
     "start_time": "2021-06-07T12:16:37.816044Z"
    }
   },
   "outputs": [],
   "source": [
    "class RareGrouper(BaseEstimator, TransformerMixin):\n",
    "    '''\n",
    "        Укрупняет редкие категории классов в рамках одного признака\n",
    "        Параметры:\n",
    "            threshold: минимально допустимая относительная частота,\n",
    "            при которой не происходит замены\n",
    "    '''\n",
    "\n",
    "    def __init__(self, threshold=0.01):\n",
    "        self.d = defaultdict(list)\n",
    "        self.threshold = threshold\n",
    "\n",
    "    def fit(self, X, y=None):\n",
    "        n_obs = len(X)\n",
    "        for col in X.columns:\n",
    "            rel_freq = X[col].value_counts(dropna=False) / n_obs\n",
    "            self.d[col] = rel_freq[rel_freq >= self.threshold].index.tolist()\n",
    "        return self\n",
    "\n",
    "    def transform(self, X):\n",
    "        X = X.copy()\n",
    "        for col in X.columns:\n",
    "            X[col] = np.where(X[col].isin(self.d[col]), X[col], 'Other')\n",
    "        return X"
   ]
  },
  {
   "cell_type": "code",
   "execution_count": 26,
   "metadata": {
    "ExecuteTime": {
     "end_time": "2021-06-07T12:16:38.404495Z",
     "start_time": "2021-06-07T12:16:38.384484Z"
    }
   },
   "outputs": [],
   "source": [
    "# Создадим наборы категориальных и количественных переменных\n",
    "# Разделяем по при признаку object и не object\n",
    "cat_columns_ =  X_train.select_dtypes(include='object').columns.tolist()\n",
    "num_columns_ =  X_train.select_dtypes(exclude='object').columns.tolist()"
   ]
  },
  {
   "cell_type": "code",
   "execution_count": 27,
   "metadata": {
    "ExecuteTime": {
     "end_time": "2021-06-07T12:16:38.959923Z",
     "start_time": "2021-06-07T12:16:38.875149Z"
    }
   },
   "outputs": [],
   "source": [
    "for col in cat_columns_:\n",
    "    raregrouper = RareGrouper(threshold=(30/20000))\n",
    "    raregrouper.fit(X_train[[col]])\n",
    "    X_train[col] = raregrouper.transform(X_train[[col]])\n",
    "    X_valid[col] = raregrouper.transform(X_valid[[col]])"
   ]
  },
  {
   "cell_type": "code",
   "execution_count": 28,
   "metadata": {
    "ExecuteTime": {
     "end_time": "2021-06-07T12:16:39.326822Z",
     "start_time": "2021-06-07T12:16:39.300860Z"
    }
   },
   "outputs": [
    {
     "data": {
      "text/plain": [
       "{}"
      ]
     },
     "execution_count": 28,
     "metadata": {},
     "output_type": "execute_result"
    }
   ],
   "source": [
    "# X_train - X_test\n",
    "check_diff_categories(X_train, X_valid)"
   ]
  },
  {
   "cell_type": "code",
   "execution_count": 29,
   "metadata": {
    "ExecuteTime": {
     "end_time": "2021-06-07T12:16:39.772531Z",
     "start_time": "2021-06-07T12:16:39.755551Z"
    }
   },
   "outputs": [
    {
     "data": {
      "text/plain": [
       "{}"
      ]
     },
     "execution_count": 29,
     "metadata": {},
     "output_type": "execute_result"
    }
   ],
   "source": [
    "# X_test - X_train\n",
    "check_diff_categories(X_valid, X_train)"
   ]
  },
  {
   "cell_type": "markdown",
   "metadata": {},
   "source": [
    "## TargetEncoding"
   ]
  },
  {
   "cell_type": "code",
   "execution_count": 30,
   "metadata": {
    "ExecuteTime": {
     "end_time": "2021-06-07T12:16:41.835700Z",
     "start_time": "2021-06-07T12:16:41.819731Z"
    }
   },
   "outputs": [],
   "source": [
    "X_train_te = X_train.copy()\n",
    "X_valid_te = X_valid.copy()"
   ]
  },
  {
   "cell_type": "code",
   "execution_count": 31,
   "metadata": {
    "ExecuteTime": {
     "end_time": "2021-06-07T12:16:42.209080Z",
     "start_time": "2021-06-07T12:16:42.184152Z"
    }
   },
   "outputs": [],
   "source": [
    "X_train_te = pd.concat([X_train_te, y_train], axis='columns')\n",
    "X_valid_te = pd.concat([X_valid_te, y_valid], axis='columns')"
   ]
  },
  {
   "cell_type": "code",
   "execution_count": 32,
   "metadata": {
    "ExecuteTime": {
     "end_time": "2021-06-07T12:16:42.822388Z",
     "start_time": "2021-06-07T12:16:42.552779Z"
    }
   },
   "outputs": [],
   "source": [
    "for col in cat_columns_:\n",
    "    encoder = TargetEncoder(handle_missing='return_nan')\n",
    "    encoder.fit(X_train_te[col], X_train_te['target'])\n",
    "    X_train_te[col] = encoder.transform(X_train_te[col], X_train_te['target'])\n",
    "    X_valid_te[col] = encoder.transform(X_valid_te[col], X_valid_te['target'])"
   ]
  },
  {
   "cell_type": "code",
   "execution_count": 33,
   "metadata": {
    "ExecuteTime": {
     "end_time": "2021-06-07T12:16:43.071150Z",
     "start_time": "2021-06-07T12:16:43.059196Z"
    }
   },
   "outputs": [],
   "source": [
    "del X_train_te['target']\n",
    "del X_valid_te['target']"
   ]
  },
  {
   "cell_type": "code",
   "execution_count": 34,
   "metadata": {
    "ExecuteTime": {
     "end_time": "2021-06-07T12:16:43.592173Z",
     "start_time": "2021-06-07T12:16:43.563251Z"
    }
   },
   "outputs": [
    {
     "data": {
      "text/html": [
       "<div>\n",
       "<style scoped>\n",
       "    .dataframe tbody tr th:only-of-type {\n",
       "        vertical-align: middle;\n",
       "    }\n",
       "\n",
       "    .dataframe tbody tr th {\n",
       "        vertical-align: top;\n",
       "    }\n",
       "\n",
       "    .dataframe thead th {\n",
       "        text-align: right;\n",
       "    }\n",
       "</style>\n",
       "<table border=\"1\" class=\"dataframe\">\n",
       "  <thead>\n",
       "    <tr style=\"text-align: right;\">\n",
       "      <th></th>\n",
       "      <th>city</th>\n",
       "      <th>city_development_index</th>\n",
       "      <th>gender</th>\n",
       "      <th>relevent_experience</th>\n",
       "      <th>enrolled_university</th>\n",
       "      <th>education_level</th>\n",
       "      <th>major_discipline</th>\n",
       "      <th>experience</th>\n",
       "      <th>company_size</th>\n",
       "      <th>company_type</th>\n",
       "      <th>last_new_job</th>\n",
       "      <th>training_hours</th>\n",
       "      <th>city_development_index^2</th>\n",
       "      <th>city_development_index training_hours</th>\n",
       "      <th>training_hours^2</th>\n",
       "    </tr>\n",
       "  </thead>\n",
       "  <tbody>\n",
       "    <tr>\n",
       "      <th>7638</th>\n",
       "      <td>0.272727</td>\n",
       "      <td>0.745</td>\n",
       "      <td>0.227979</td>\n",
       "      <td>0.214427</td>\n",
       "      <td>0.210718</td>\n",
       "      <td>0.211166</td>\n",
       "      <td>0.262731</td>\n",
       "      <td>0.170526</td>\n",
       "      <td>0.174869</td>\n",
       "      <td>0.178373</td>\n",
       "      <td>0.179965</td>\n",
       "      <td>4.0</td>\n",
       "      <td>0.555025</td>\n",
       "      <td>2.980</td>\n",
       "      <td>16.0</td>\n",
       "    </tr>\n",
       "    <tr>\n",
       "      <th>7112</th>\n",
       "      <td>0.147059</td>\n",
       "      <td>0.843</td>\n",
       "      <td>NaN</td>\n",
       "      <td>0.338748</td>\n",
       "      <td>0.383686</td>\n",
       "      <td>0.281918</td>\n",
       "      <td>0.262731</td>\n",
       "      <td>0.307371</td>\n",
       "      <td>NaN</td>\n",
       "      <td>0.230530</td>\n",
       "      <td>NaN</td>\n",
       "      <td>28.0</td>\n",
       "      <td>0.710649</td>\n",
       "      <td>23.604</td>\n",
       "      <td>784.0</td>\n",
       "    </tr>\n",
       "    <tr>\n",
       "      <th>17323</th>\n",
       "      <td>0.217478</td>\n",
       "      <td>0.920</td>\n",
       "      <td>0.227979</td>\n",
       "      <td>0.214427</td>\n",
       "      <td>0.210718</td>\n",
       "      <td>0.281918</td>\n",
       "      <td>0.262731</td>\n",
       "      <td>0.178462</td>\n",
       "      <td>0.151856</td>\n",
       "      <td>0.178373</td>\n",
       "      <td>0.179965</td>\n",
       "      <td>67.0</td>\n",
       "      <td>0.846400</td>\n",
       "      <td>61.640</td>\n",
       "      <td>4489.0</td>\n",
       "    </tr>\n",
       "    <tr>\n",
       "      <th>13304</th>\n",
       "      <td>0.257576</td>\n",
       "      <td>0.754</td>\n",
       "      <td>0.227979</td>\n",
       "      <td>0.214427</td>\n",
       "      <td>0.247884</td>\n",
       "      <td>0.281918</td>\n",
       "      <td>0.262731</td>\n",
       "      <td>0.360825</td>\n",
       "      <td>0.186113</td>\n",
       "      <td>0.230530</td>\n",
       "      <td>0.264026</td>\n",
       "      <td>166.0</td>\n",
       "      <td>0.568516</td>\n",
       "      <td>125.164</td>\n",
       "      <td>27556.0</td>\n",
       "    </tr>\n",
       "    <tr>\n",
       "      <th>15043</th>\n",
       "      <td>0.227194</td>\n",
       "      <td>0.920</td>\n",
       "      <td>NaN</td>\n",
       "      <td>0.338748</td>\n",
       "      <td>0.383686</td>\n",
       "      <td>0.190645</td>\n",
       "      <td>NaN</td>\n",
       "      <td>0.342640</td>\n",
       "      <td>NaN</td>\n",
       "      <td>NaN</td>\n",
       "      <td>0.264026</td>\n",
       "      <td>143.0</td>\n",
       "      <td>0.846400</td>\n",
       "      <td>131.560</td>\n",
       "      <td>20449.0</td>\n",
       "    </tr>\n",
       "  </tbody>\n",
       "</table>\n",
       "</div>"
      ],
      "text/plain": [
       "           city  city_development_index    gender  relevent_experience  \\\n",
       "7638   0.272727                   0.745  0.227979             0.214427   \n",
       "7112   0.147059                   0.843       NaN             0.338748   \n",
       "17323  0.217478                   0.920  0.227979             0.214427   \n",
       "13304  0.257576                   0.754  0.227979             0.214427   \n",
       "15043  0.227194                   0.920       NaN             0.338748   \n",
       "\n",
       "       enrolled_university  education_level  major_discipline  experience  \\\n",
       "7638              0.210718         0.211166          0.262731    0.170526   \n",
       "7112              0.383686         0.281918          0.262731    0.307371   \n",
       "17323             0.210718         0.281918          0.262731    0.178462   \n",
       "13304             0.247884         0.281918          0.262731    0.360825   \n",
       "15043             0.383686         0.190645               NaN    0.342640   \n",
       "\n",
       "       company_size  company_type  last_new_job  training_hours  \\\n",
       "7638       0.174869      0.178373      0.179965             4.0   \n",
       "7112            NaN      0.230530           NaN            28.0   \n",
       "17323      0.151856      0.178373      0.179965            67.0   \n",
       "13304      0.186113      0.230530      0.264026           166.0   \n",
       "15043           NaN           NaN      0.264026           143.0   \n",
       "\n",
       "       city_development_index^2  city_development_index training_hours  \\\n",
       "7638                   0.555025                                  2.980   \n",
       "7112                   0.710649                                 23.604   \n",
       "17323                  0.846400                                 61.640   \n",
       "13304                  0.568516                                125.164   \n",
       "15043                  0.846400                                131.560   \n",
       "\n",
       "       training_hours^2  \n",
       "7638               16.0  \n",
       "7112              784.0  \n",
       "17323            4489.0  \n",
       "13304           27556.0  \n",
       "15043           20449.0  "
      ]
     },
     "execution_count": 34,
     "metadata": {},
     "output_type": "execute_result"
    }
   ],
   "source": [
    "X_train_te.head()"
   ]
  },
  {
   "cell_type": "markdown",
   "metadata": {},
   "source": [
    "# Modeling"
   ]
  },
  {
   "cell_type": "code",
   "execution_count": 35,
   "metadata": {
    "ExecuteTime": {
     "end_time": "2021-06-07T12:16:47.046265Z",
     "start_time": "2021-06-07T12:16:47.035297Z"
    }
   },
   "outputs": [],
   "source": [
    "# Обзорные таблицы с метриками лучших моделей\n",
    "bestmodels_accuracy_list = []\n",
    "bestmodels_metrics_list = []"
   ]
  },
  {
   "cell_type": "markdown",
   "metadata": {},
   "source": [
    "## CatBoost + SimpleImputer"
   ]
  },
  {
   "cell_type": "markdown",
   "metadata": {},
   "source": [
    "### Подготовка"
   ]
  },
  {
   "cell_type": "code",
   "execution_count": 36,
   "metadata": {
    "ExecuteTime": {
     "end_time": "2021-06-07T12:16:48.080218Z",
     "start_time": "2021-06-07T12:16:48.067255Z"
    }
   },
   "outputs": [],
   "source": [
    "cat_columns =  X_train.select_dtypes(include='object').columns.tolist()\n",
    "num_columns =  X_valid.select_dtypes(exclude='object').columns.tolist()"
   ]
  },
  {
   "cell_type": "code",
   "execution_count": 37,
   "metadata": {
    "ExecuteTime": {
     "end_time": "2021-06-07T12:16:48.617779Z",
     "start_time": "2021-06-07T12:16:48.601623Z"
    }
   },
   "outputs": [],
   "source": [
    "num_of_cat_cols = len(cat_columns)\n",
    "cat_features_indices = [col for col in range(num_of_cat_cols)]"
   ]
  },
  {
   "cell_type": "markdown",
   "metadata": {},
   "source": [
    "### Модель"
   ]
  },
  {
   "cell_type": "code",
   "execution_count": 38,
   "metadata": {
    "ExecuteTime": {
     "end_time": "2021-06-07T12:16:49.452339Z",
     "start_time": "2021-06-07T12:16:49.439378Z"
    }
   },
   "outputs": [],
   "source": [
    "# Конвейер для категориальных переменных\n",
    "catbst_cat_pipe = Pipeline([('imp', SimpleImputer())])\n",
    "# Конвейер для количественных переменных\n",
    "catbst_num_pipe = Pipeline([('imp', SimpleImputer())])\n",
    "# Трансформер\n",
    "catbst_transformers = [('cat', catbst_cat_pipe, cat_columns),\n",
    "                       ('num', catbst_num_pipe, num_columns)]\n",
    "catbst_transformer = ColumnTransformer(transformers=catbst_transformers)"
   ]
  },
  {
   "cell_type": "code",
   "execution_count": 39,
   "metadata": {
    "ExecuteTime": {
     "end_time": "2021-06-07T12:16:50.312206Z",
     "start_time": "2021-06-07T12:16:50.300247Z"
    }
   },
   "outputs": [],
   "source": [
    "# Экземпляр CatBoost\n",
    "catbst = CatBoostClassifier(n_estimators=100,\n",
    "                            logging_level='Silent',\n",
    "                            random_state=16,\n",
    "                            cat_features=cat_features_indices)"
   ]
  },
  {
   "cell_type": "code",
   "execution_count": 40,
   "metadata": {
    "ExecuteTime": {
     "end_time": "2021-06-07T12:16:54.471575Z",
     "start_time": "2021-06-07T12:16:54.467587Z"
    }
   },
   "outputs": [],
   "source": [
    "# Параметры для GridSearchCV\n",
    "catbst_param_grid = {\n",
    "    'tf__cat__imp__strategy': ['most_frequent', 'constant'],\n",
    "    'tf__num__imp__strategy': ['mean', 'median'],\n",
    "    'catboost__max_depth': [2, 3, 4, 6, 8]\n",
    "}"
   ]
  },
  {
   "cell_type": "code",
   "execution_count": 42,
   "metadata": {
    "ExecuteTime": {
     "end_time": "2021-06-07T12:17:01.399627Z",
     "start_time": "2021-06-07T12:17:01.392645Z"
    }
   },
   "outputs": [],
   "source": [
    "# Итоговый конвейер\n",
    "model = Pipeline([('tf', catbst_transformer),\n",
    "                  ('catboost', catbst)])"
   ]
  },
  {
   "cell_type": "code",
   "execution_count": 43,
   "metadata": {
    "ExecuteTime": {
     "end_time": "2021-06-07T12:17:01.948751Z",
     "start_time": "2021-06-07T12:17:01.942728Z"
    }
   },
   "outputs": [],
   "source": [
    "# Итоговый GridSearchCV\n",
    "catbst_gs_simp = GridSearchCV(model,\n",
    "                              catbst_param_grid,\n",
    "                              cv=5,\n",
    "                              return_train_score=False,\n",
    "                              scoring=make_scorer(balanced_accuracy_score))"
   ]
  },
  {
   "cell_type": "code",
   "execution_count": 44,
   "metadata": {
    "ExecuteTime": {
     "end_time": "2021-06-07T12:21:17.977335Z",
     "start_time": "2021-06-07T12:17:08.963924Z"
    }
   },
   "outputs": [
    {
     "data": {
      "text/plain": [
       "GridSearchCV(cv=5,\n",
       "             estimator=Pipeline(steps=[('tf',\n",
       "                                        ColumnTransformer(transformers=[('cat',\n",
       "                                                                         Pipeline(steps=[('imp',\n",
       "                                                                                          SimpleImputer())]),\n",
       "                                                                         ['city',\n",
       "                                                                          'gender',\n",
       "                                                                          'relevent_experience',\n",
       "                                                                          'enrolled_university',\n",
       "                                                                          'education_level',\n",
       "                                                                          'major_discipline',\n",
       "                                                                          'experience',\n",
       "                                                                          'company_size',\n",
       "                                                                          'company_type',\n",
       "                                                                          'last_new_job']),\n",
       "                                                                        ('num',\n",
       "                                                                         Pipeline(steps=[('imp',\n",
       "                                                                                          SimpleImputer())]),\n",
       "                                                                         ['city_devel...\n",
       "                                                                          'city_development_index^2',\n",
       "                                                                          'city_development_index '\n",
       "                                                                          'training_hours',\n",
       "                                                                          'training_hours^2'])])),\n",
       "                                       ('catboost',\n",
       "                                        <catboost.core.CatBoostClassifier object at 0x00000238527C6208>)]),\n",
       "             param_grid={'catboost__max_depth': [2, 3, 4, 6, 8],\n",
       "                         'tf__cat__imp__strategy': ['most_frequent',\n",
       "                                                    'constant'],\n",
       "                         'tf__num__imp__strategy': ['mean', 'median']},\n",
       "             scoring=make_scorer(balanced_accuracy_score))"
      ]
     },
     "execution_count": 44,
     "metadata": {},
     "output_type": "execute_result"
    }
   ],
   "source": [
    "catbst_gs_simp.fit(X_train, y_train)"
   ]
  },
  {
   "cell_type": "markdown",
   "metadata": {},
   "source": [
    "### Результаты"
   ]
  },
  {
   "cell_type": "code",
   "execution_count": 45,
   "metadata": {
    "ExecuteTime": {
     "end_time": "2021-06-07T12:21:18.356282Z",
     "start_time": "2021-06-07T12:21:18.344313Z"
    }
   },
   "outputs": [
    {
     "data": {
      "text/plain": [
       "{'catboost__max_depth': 6,\n",
       " 'tf__cat__imp__strategy': 'constant',\n",
       " 'tf__num__imp__strategy': 'mean'}"
      ]
     },
     "execution_count": 45,
     "metadata": {},
     "output_type": "execute_result"
    }
   ],
   "source": [
    "catbst_gs_simp.best_params_"
   ]
  },
  {
   "cell_type": "code",
   "execution_count": 46,
   "metadata": {
    "ExecuteTime": {
     "end_time": "2021-06-07T12:21:18.732555Z",
     "start_time": "2021-06-07T12:21:18.711619Z"
    }
   },
   "outputs": [
    {
     "data": {
      "text/plain": [
       "0.7212205129733416"
      ]
     },
     "execution_count": 46,
     "metadata": {},
     "output_type": "execute_result"
    }
   ],
   "source": [
    "catbst_gs_simp.best_score_"
   ]
  },
  {
   "cell_type": "code",
   "execution_count": 47,
   "metadata": {
    "ExecuteTime": {
     "end_time": "2021-06-07T12:21:19.057550Z",
     "start_time": "2021-06-07T12:21:18.984900Z"
    }
   },
   "outputs": [],
   "source": [
    "y_pred = catbst_gs_simp.predict(X_valid)\n",
    "y_pred_proba = catbst_gs_simp.predict_proba(X_valid)"
   ]
  },
  {
   "cell_type": "code",
   "execution_count": 48,
   "metadata": {
    "ExecuteTime": {
     "end_time": "2021-06-07T12:21:19.395542Z",
     "start_time": "2021-06-07T12:21:19.382064Z"
    }
   },
   "outputs": [],
   "source": [
    "cm = confusion_matrix(y_valid, y_pred)"
   ]
  },
  {
   "cell_type": "code",
   "execution_count": 49,
   "metadata": {
    "ExecuteTime": {
     "end_time": "2021-06-07T12:21:19.740245Z",
     "start_time": "2021-06-07T12:21:19.714774Z"
    }
   },
   "outputs": [],
   "source": [
    "def plot_confusion_matrix(confusion_matrix):\n",
    "    # Матрица ошибок\n",
    "    group_names = ['True Neg', 'False Pos', 'False Neg', 'True Pos']\n",
    "    group_counts = [\"{0:0.0f}\".format(value) for value in cm.flatten()]\n",
    "    group_percentages = [\"{0:.2%}\".format(value) for value in cm.flatten()/np.sum(cm)]\n",
    "    labels = [f\"{v1}\\n{v2}\\n{v3}\" for v1, v2, v3 in zip(group_names, group_counts, group_percentages)]\n",
    "    labels = np.asarray(labels).reshape(2, 2)\n",
    "    \n",
    "    plt.figure(dpi=100)\n",
    "    sns.heatmap(cm, annot=labels, fmt='', cmap='Blues')\n",
    "    plt.title('Confusion_matrix')\n",
    "    plt.xlabel(\"Predicted Label\")\n",
    "    plt.ylabel(\"True Label\")"
   ]
  },
  {
   "cell_type": "code",
   "execution_count": 50,
   "metadata": {
    "ExecuteTime": {
     "end_time": "2021-06-07T12:21:20.195936Z",
     "start_time": "2021-06-07T12:21:20.022527Z"
    }
   },
   "outputs": [
    {
     "data": {
      "image/png": "[encoded data removed]",
      "text/plain": [
       "<Figure size 600x400 with 2 Axes>"
      ]
     },
     "metadata": {
      "needs_background": "light"
     },
     "output_type": "display_data"
    }
   ],
   "source": [
    "plot_confusion_matrix(cm)"
   ]
  },
  {
   "cell_type": "code",
   "execution_count": 51,
   "metadata": {
    "ExecuteTime": {
     "end_time": "2021-06-07T12:21:20.535456Z",
     "start_time": "2021-06-07T12:21:20.513793Z"
    }
   },
   "outputs": [],
   "source": [
    "# Результаты обучения модели \n",
    "cat_results = pd.DataFrame(catbst_gs_simp.cv_results_)\n",
    "table = cat_results.pivot_table(values='mean_test_score',\n",
    "                                index=['param_catboost__max_depth', 'param_tf__cat__imp__strategy', 'param_tf__num__imp__strategy'])\n",
    "table = table.sort_values(by='mean_test_score', ascending=False)"
   ]
  },
  {
   "cell_type": "code",
   "execution_count": 52,
   "metadata": {
    "ExecuteTime": {
     "end_time": "2021-06-07T12:21:20.911340Z",
     "start_time": "2021-06-07T12:21:20.898373Z"
    }
   },
   "outputs": [],
   "source": [
    "# Запись лучшего значения для итогового сравнения моделей\n",
    "best = catbst_gs_simp.cv_results_['mean_test_score'].max()\n",
    "model_result_1 = pd.DataFrame([best], index=['CatBoost + SimpleImputer'], columns=['mean_test_score'])\n",
    "bestmodels_accuracy_list.append(model_result_1)"
   ]
  },
  {
   "cell_type": "code",
   "execution_count": 53,
   "metadata": {
    "ExecuteTime": {
     "end_time": "2021-06-07T12:21:21.486360Z",
     "start_time": "2021-06-07T12:21:21.416540Z"
    }
   },
   "outputs": [],
   "source": [
    "def get_scores(y_true, y_pred, y_pred_proba, name):\n",
    "    # Таблица с метриками обученной модели\n",
    "    report = pd.DataFrame(columns=['Accuracy', \n",
    "                                   'ROC-AUC',\n",
    "                                   'F1', \n",
    "                                   'Precision_0', \n",
    "                                   'Precision_1', \n",
    "                                   'Recall_0', \n",
    "                                   'Recall_1'], \n",
    "                          index=[name])\n",
    "    report['Accuracy'] = accuracy_score(y_true, y_pred)\n",
    "    report['ROC-AUC'] = roc_auc_score(y_true, y_pred_proba[:, 1])\n",
    "    report['F1'] = f1_score(y_true, y_pred)\n",
    "    report['Precision_0'] = precision_score(y_true, y_pred, pos_label=0)\n",
    "    report['Precision_1'] = precision_score(y_true, y_pred, pos_label=1)\n",
    "    report['Recall_0'] = recall_score(y_true, y_pred, pos_label=0)\n",
    "    report['Recall_1'] = recall_score(y_true, y_pred, pos_label=1)\n",
    "    return report\n",
    "\n",
    "# Запись значений метрик для итогового сравнения моделей\n",
    "model_metrics_1 = get_scores(y_valid, y_pred, y_pred_proba, 'CatBoost + SimpleImputer')\n",
    "bestmodels_metrics_list.append(model_metrics_1)"
   ]
  },
  {
   "cell_type": "markdown",
   "metadata": {},
   "source": [
    "## CatBoost + SMOTE + SimpleImputer"
   ]
  },
  {
   "cell_type": "markdown",
   "metadata": {},
   "source": [
    "### Подготовка"
   ]
  },
  {
   "cell_type": "code",
   "execution_count": 54,
   "metadata": {
    "ExecuteTime": {
     "end_time": "2021-06-07T12:21:22.009403Z",
     "start_time": "2021-06-07T12:21:21.996437Z"
    }
   },
   "outputs": [],
   "source": [
    "cat_columns =  X_train_te.select_dtypes(include='object').columns.tolist()\n",
    "num_columns =  X_valid_te.select_dtypes(exclude='object').columns.tolist()"
   ]
  },
  {
   "cell_type": "code",
   "execution_count": 55,
   "metadata": {
    "ExecuteTime": {
     "end_time": "2021-06-07T12:21:22.388455Z",
     "start_time": "2021-06-07T12:21:22.376613Z"
    }
   },
   "outputs": [],
   "source": [
    "num_of_cat_cols = len(cat_columns)\n",
    "cat_features_indices = [col for col in range(num_of_cat_cols)]"
   ]
  },
  {
   "cell_type": "markdown",
   "metadata": {},
   "source": [
    "### Модель"
   ]
  },
  {
   "cell_type": "code",
   "execution_count": 56,
   "metadata": {
    "ExecuteTime": {
     "end_time": "2021-06-07T12:21:22.757150Z",
     "start_time": "2021-06-07T12:21:22.744185Z"
    }
   },
   "outputs": [],
   "source": [
    "# Конвейер для категориальных переменных\n",
    "catbst_cat_pipe = PipelineImb([('imp', SimpleImputer())])\n",
    "# Конвейер для всех количественных переменных\n",
    "catbst_num_pipe = PipelineImb([('imp', SimpleImputer()),\n",
    "                              ('norm', MinMaxScaler())])\n",
    "\n",
    "\n",
    "catbst_transformers = [('cat', catbst_cat_pipe, cat_columns),\n",
    "                       ('num', catbst_num_pipe, num_columns)]\n",
    "\n",
    "# Трансформер\n",
    "catbst_transformer = ColumnTransformer(transformers=catbst_transformers)"
   ]
  },
  {
   "cell_type": "code",
   "execution_count": 57,
   "metadata": {
    "ExecuteTime": {
     "end_time": "2021-06-07T12:21:23.114847Z",
     "start_time": "2021-06-07T12:21:23.102879Z"
    }
   },
   "outputs": [],
   "source": [
    "# Экземпляр CatBoost\n",
    "catbst = CatBoostClassifier(n_estimators=100,\n",
    "                            logging_level='Silent',\n",
    "                            random_state=16,\n",
    "                            cat_features=cat_features_indices)"
   ]
  },
  {
   "cell_type": "code",
   "execution_count": 58,
   "metadata": {
    "ExecuteTime": {
     "end_time": "2021-06-07T12:21:23.469818Z",
     "start_time": "2021-06-07T12:21:23.457646Z"
    }
   },
   "outputs": [],
   "source": [
    "# Параметры для GridSearchCV\n",
    "catbst_param_grid = {\n",
    "    'tf__cat__imp__strategy': ['most_frequent', 'constant'],\n",
    "    'tf__num__imp__strategy': ['mean', 'median'],\n",
    "    'catboost__max_depth': [2, 3, 4, 6, 8]\n",
    "}"
   ]
  },
  {
   "cell_type": "code",
   "execution_count": 59,
   "metadata": {
    "ExecuteTime": {
     "end_time": "2021-06-07T12:21:23.836795Z",
     "start_time": "2021-06-07T12:21:23.823832Z"
    }
   },
   "outputs": [],
   "source": [
    "# Итоговый конвейер\n",
    "model = PipelineImb([('tf', catbst_transformer),\n",
    "                     ('sampling', SMOTE()),\n",
    "                     ('catboost', catbst)])"
   ]
  },
  {
   "cell_type": "code",
   "execution_count": 60,
   "metadata": {
    "ExecuteTime": {
     "end_time": "2021-06-07T12:21:24.192713Z",
     "start_time": "2021-06-07T12:21:24.178714Z"
    }
   },
   "outputs": [],
   "source": [
    "# Итоговый GridSearchCV\n",
    "catbst_gs_ossimp = GridSearchCV(model,\n",
    "                              catbst_param_grid,\n",
    "                              cv=5,\n",
    "                              return_train_score=False,\n",
    "                              scoring=make_scorer(balanced_accuracy_score))"
   ]
  },
  {
   "cell_type": "code",
   "execution_count": 61,
   "metadata": {
    "ExecuteTime": {
     "end_time": "2021-06-07T12:23:01.175788Z",
     "start_time": "2021-06-07T12:21:24.593436Z"
    }
   },
   "outputs": [
    {
     "data": {
      "text/plain": [
       "GridSearchCV(cv=5,\n",
       "             estimator=Pipeline(steps=[('tf',\n",
       "                                        ColumnTransformer(transformers=[('cat',\n",
       "                                                                         Pipeline(steps=[('imp',\n",
       "                                                                                          SimpleImputer())]),\n",
       "                                                                         []),\n",
       "                                                                        ('num',\n",
       "                                                                         Pipeline(steps=[('imp',\n",
       "                                                                                          SimpleImputer()),\n",
       "                                                                                         ('norm',\n",
       "                                                                                          MinMaxScaler())]),\n",
       "                                                                         ['city',\n",
       "                                                                          'city_development_index',\n",
       "                                                                          'gender',\n",
       "                                                                          'relevent_experience',\n",
       "                                                                          'enrolled_university',\n",
       "                                                                          'education_level',\n",
       "                                                                          'major_discipline',\n",
       "                                                                          'experience',\n",
       "                                                                          'compa...\n",
       "                                                                          'city_development_index '\n",
       "                                                                          'training_hours',\n",
       "                                                                          'training_hours^2'])])),\n",
       "                                       ('sampling', SMOTE()),\n",
       "                                       ('catboost',\n",
       "                                        <catboost.core.CatBoostClassifier object at 0x0000023854137A88>)]),\n",
       "             param_grid={'catboost__max_depth': [2, 3, 4, 6, 8],\n",
       "                         'tf__cat__imp__strategy': ['most_frequent',\n",
       "                                                    'constant'],\n",
       "                         'tf__num__imp__strategy': ['mean', 'median']},\n",
       "             scoring=make_scorer(balanced_accuracy_score))"
      ]
     },
     "execution_count": 61,
     "metadata": {},
     "output_type": "execute_result"
    }
   ],
   "source": [
    "catbst_gs_ossimp.fit(X_train_te, y_train)"
   ]
  },
  {
   "cell_type": "markdown",
   "metadata": {},
   "source": [
    "### Результаты"
   ]
  },
  {
   "cell_type": "code",
   "execution_count": 62,
   "metadata": {
    "ExecuteTime": {
     "end_time": "2021-06-07T12:23:01.638562Z",
     "start_time": "2021-06-07T12:23:01.624589Z"
    }
   },
   "outputs": [
    {
     "data": {
      "text/plain": [
       "{'catboost__max_depth': 2,\n",
       " 'tf__cat__imp__strategy': 'most_frequent',\n",
       " 'tf__num__imp__strategy': 'mean'}"
      ]
     },
     "execution_count": 62,
     "metadata": {},
     "output_type": "execute_result"
    }
   ],
   "source": [
    "catbst_gs_ossimp.best_params_"
   ]
  },
  {
   "cell_type": "code",
   "execution_count": 63,
   "metadata": {
    "ExecuteTime": {
     "end_time": "2021-06-07T12:23:02.101311Z",
     "start_time": "2021-06-07T12:23:02.090431Z"
    }
   },
   "outputs": [
    {
     "data": {
      "text/plain": [
       "0.758261150151198"
      ]
     },
     "execution_count": 63,
     "metadata": {},
     "output_type": "execute_result"
    }
   ],
   "source": [
    "catbst_gs_ossimp.best_score_"
   ]
  },
  {
   "cell_type": "code",
   "execution_count": 64,
   "metadata": {
    "ExecuteTime": {
     "end_time": "2021-06-07T12:23:02.513120Z",
     "start_time": "2021-06-07T12:23:02.470849Z"
    }
   },
   "outputs": [],
   "source": [
    "y_pred = catbst_gs_ossimp.predict(X_valid_te)\n",
    "y_pred_proba = catbst_gs_ossimp.predict_proba(X_valid_te)"
   ]
  },
  {
   "cell_type": "code",
   "execution_count": 65,
   "metadata": {
    "ExecuteTime": {
     "end_time": "2021-06-07T12:23:03.012126Z",
     "start_time": "2021-06-07T12:23:02.998216Z"
    }
   },
   "outputs": [],
   "source": [
    "cm = confusion_matrix(y_valid, y_pred)"
   ]
  },
  {
   "cell_type": "code",
   "execution_count": 66,
   "metadata": {
    "ExecuteTime": {
     "end_time": "2021-06-07T12:23:03.799548Z",
     "start_time": "2021-06-07T12:23:03.446491Z"
    }
   },
   "outputs": [
    {
     "data": {
      "image/png": "[encoded data removed]",
      "text/plain": [
       "<Figure size 600x400 with 2 Axes>"
      ]
     },
     "metadata": {
      "needs_background": "light"
     },
     "output_type": "display_data"
    }
   ],
   "source": [
    "plot_confusion_matrix(cm)"
   ]
  },
  {
   "cell_type": "code",
   "execution_count": 67,
   "metadata": {
    "ExecuteTime": {
     "end_time": "2021-06-07T12:23:04.453801Z",
     "start_time": "2021-06-07T12:23:04.426871Z"
    }
   },
   "outputs": [
    {
     "data": {
      "text/html": [
       "<div>\n",
       "<style scoped>\n",
       "    .dataframe tbody tr th:only-of-type {\n",
       "        vertical-align: middle;\n",
       "    }\n",
       "\n",
       "    .dataframe tbody tr th {\n",
       "        vertical-align: top;\n",
       "    }\n",
       "\n",
       "    .dataframe thead th {\n",
       "        text-align: right;\n",
       "    }\n",
       "</style>\n",
       "<table border=\"1\" class=\"dataframe\">\n",
       "  <thead>\n",
       "    <tr style=\"text-align: right;\">\n",
       "      <th></th>\n",
       "      <th></th>\n",
       "      <th></th>\n",
       "      <th>mean_test_score</th>\n",
       "    </tr>\n",
       "    <tr>\n",
       "      <th>param_catboost__max_depth</th>\n",
       "      <th>param_tf__cat__imp__strategy</th>\n",
       "      <th>param_tf__num__imp__strategy</th>\n",
       "      <th></th>\n",
       "    </tr>\n",
       "  </thead>\n",
       "  <tbody>\n",
       "    <tr>\n",
       "      <th rowspan=\"2\" valign=\"top\">2</th>\n",
       "      <th>most_frequent</th>\n",
       "      <th>mean</th>\n",
       "      <td>0.758261</td>\n",
       "    </tr>\n",
       "    <tr>\n",
       "      <th>constant</th>\n",
       "      <th>mean</th>\n",
       "      <td>0.757263</td>\n",
       "    </tr>\n",
       "    <tr>\n",
       "      <th rowspan=\"2\" valign=\"top\">3</th>\n",
       "      <th>most_frequent</th>\n",
       "      <th>mean</th>\n",
       "      <td>0.754453</td>\n",
       "    </tr>\n",
       "    <tr>\n",
       "      <th>constant</th>\n",
       "      <th>mean</th>\n",
       "      <td>0.754305</td>\n",
       "    </tr>\n",
       "    <tr>\n",
       "      <th rowspan=\"2\" valign=\"top\">4</th>\n",
       "      <th>most_frequent</th>\n",
       "      <th>mean</th>\n",
       "      <td>0.751702</td>\n",
       "    </tr>\n",
       "    <tr>\n",
       "      <th>constant</th>\n",
       "      <th>mean</th>\n",
       "      <td>0.751702</td>\n",
       "    </tr>\n",
       "    <tr>\n",
       "      <th rowspan=\"2\" valign=\"top\">6</th>\n",
       "      <th>constant</th>\n",
       "      <th>mean</th>\n",
       "      <td>0.748548</td>\n",
       "    </tr>\n",
       "    <tr>\n",
       "      <th>most_frequent</th>\n",
       "      <th>mean</th>\n",
       "      <td>0.744654</td>\n",
       "    </tr>\n",
       "    <tr>\n",
       "      <th rowspan=\"2\" valign=\"top\">8</th>\n",
       "      <th>most_frequent</th>\n",
       "      <th>mean</th>\n",
       "      <td>0.740650</td>\n",
       "    </tr>\n",
       "    <tr>\n",
       "      <th>constant</th>\n",
       "      <th>mean</th>\n",
       "      <td>0.739097</td>\n",
       "    </tr>\n",
       "    <tr>\n",
       "      <th rowspan=\"2\" valign=\"top\">2</th>\n",
       "      <th>constant</th>\n",
       "      <th>median</th>\n",
       "      <td>0.716588</td>\n",
       "    </tr>\n",
       "    <tr>\n",
       "      <th>most_frequent</th>\n",
       "      <th>median</th>\n",
       "      <td>0.716549</td>\n",
       "    </tr>\n",
       "    <tr>\n",
       "      <th rowspan=\"2\" valign=\"top\">3</th>\n",
       "      <th>most_frequent</th>\n",
       "      <th>median</th>\n",
       "      <td>0.715286</td>\n",
       "    </tr>\n",
       "    <tr>\n",
       "      <th>constant</th>\n",
       "      <th>median</th>\n",
       "      <td>0.713831</td>\n",
       "    </tr>\n",
       "    <tr>\n",
       "      <th>6</th>\n",
       "      <th>constant</th>\n",
       "      <th>median</th>\n",
       "      <td>0.713225</td>\n",
       "    </tr>\n",
       "    <tr>\n",
       "      <th>4</th>\n",
       "      <th>constant</th>\n",
       "      <th>median</th>\n",
       "      <td>0.712829</td>\n",
       "    </tr>\n",
       "    <tr>\n",
       "      <th>8</th>\n",
       "      <th>constant</th>\n",
       "      <th>median</th>\n",
       "      <td>0.712024</td>\n",
       "    </tr>\n",
       "    <tr>\n",
       "      <th>6</th>\n",
       "      <th>most_frequent</th>\n",
       "      <th>median</th>\n",
       "      <td>0.711723</td>\n",
       "    </tr>\n",
       "    <tr>\n",
       "      <th>4</th>\n",
       "      <th>most_frequent</th>\n",
       "      <th>median</th>\n",
       "      <td>0.709371</td>\n",
       "    </tr>\n",
       "    <tr>\n",
       "      <th>8</th>\n",
       "      <th>most_frequent</th>\n",
       "      <th>median</th>\n",
       "      <td>0.709270</td>\n",
       "    </tr>\n",
       "  </tbody>\n",
       "</table>\n",
       "</div>"
      ],
      "text/plain": [
       "                                                                                     mean_test_score\n",
       "param_catboost__max_depth param_tf__cat__imp__strategy param_tf__num__imp__strategy                 \n",
       "2                         most_frequent                mean                                 0.758261\n",
       "                          constant                     mean                                 0.757263\n",
       "3                         most_frequent                mean                                 0.754453\n",
       "                          constant                     mean                                 0.754305\n",
       "4                         most_frequent                mean                                 0.751702\n",
       "                          constant                     mean                                 0.751702\n",
       "6                         constant                     mean                                 0.748548\n",
       "                          most_frequent                mean                                 0.744654\n",
       "8                         most_frequent                mean                                 0.740650\n",
       "                          constant                     mean                                 0.739097\n",
       "2                         constant                     median                               0.716588\n",
       "                          most_frequent                median                               0.716549\n",
       "3                         most_frequent                median                               0.715286\n",
       "                          constant                     median                               0.713831\n",
       "6                         constant                     median                               0.713225\n",
       "4                         constant                     median                               0.712829\n",
       "8                         constant                     median                               0.712024\n",
       "6                         most_frequent                median                               0.711723\n",
       "4                         most_frequent                median                               0.709371\n",
       "8                         most_frequent                median                               0.709270"
      ]
     },
     "execution_count": 67,
     "metadata": {},
     "output_type": "execute_result"
    }
   ],
   "source": [
    "# Результаты обучения модели \n",
    "cat_results = pd.DataFrame(catbst_gs_ossimp.cv_results_)\n",
    "table = cat_results.pivot_table(values='mean_test_score',\n",
    "                                index=['param_catboost__max_depth', \\\n",
    "                                       'param_tf__cat__imp__strategy', \\\n",
    "                                       'param_tf__num__imp__strategy'])\n",
    "table.sort_values(by='mean_test_score', ascending=False)"
   ]
  },
  {
   "cell_type": "code",
   "execution_count": 68,
   "metadata": {
    "ExecuteTime": {
     "end_time": "2021-06-07T12:23:04.909211Z",
     "start_time": "2021-06-07T12:23:04.895618Z"
    }
   },
   "outputs": [],
   "source": [
    "# Запись лучшего значения для итогового сравнения моделей\n",
    "best = catbst_gs_ossimp.cv_results_['mean_test_score'].max()\n",
    "model_result_2 = pd.DataFrame([best], index=['CatBoost + SMOTE + SimpleImputer'], columns=['mean_test_score'])\n",
    "bestmodels_accuracy_list.append(model_result_2)"
   ]
  },
  {
   "cell_type": "code",
   "execution_count": 69,
   "metadata": {
    "ExecuteTime": {
     "end_time": "2021-06-07T12:23:05.617117Z",
     "start_time": "2021-06-07T12:23:05.559659Z"
    }
   },
   "outputs": [],
   "source": [
    "# Запись значений метрик для итогового сравнения моделей\n",
    "model_metrics_2 = get_scores(y_valid, y_pred, y_pred_proba, 'CatBoost + SMOTE + SimpleImputer')\n",
    "bestmodels_metrics_list.append(model_metrics_2)"
   ]
  },
  {
   "cell_type": "markdown",
   "metadata": {},
   "source": [
    "## CatBoost + KNNImputer"
   ]
  },
  {
   "cell_type": "markdown",
   "metadata": {},
   "source": [
    "### Подготовка"
   ]
  },
  {
   "cell_type": "code",
   "execution_count": 70,
   "metadata": {
    "ExecuteTime": {
     "end_time": "2021-06-07T12:23:06.176112Z",
     "start_time": "2021-06-07T12:23:06.162509Z"
    }
   },
   "outputs": [],
   "source": [
    "cat_columns =  X_train_te.select_dtypes(include='object').columns.tolist()\n",
    "num_columns =  X_valid_te.select_dtypes(exclude='object').columns.tolist()"
   ]
  },
  {
   "cell_type": "code",
   "execution_count": 71,
   "metadata": {
    "ExecuteTime": {
     "end_time": "2021-06-07T12:23:06.730937Z",
     "start_time": "2021-06-07T12:23:06.716974Z"
    }
   },
   "outputs": [],
   "source": [
    "num_of_cat_cols = len(cat_columns)\n",
    "cat_features_indices = [col for col in range(num_of_cat_cols)]"
   ]
  },
  {
   "cell_type": "markdown",
   "metadata": {},
   "source": [
    "### Модель"
   ]
  },
  {
   "cell_type": "code",
   "execution_count": 72,
   "metadata": {
    "ExecuteTime": {
     "end_time": "2021-06-07T12:23:07.175941Z",
     "start_time": "2021-06-07T12:23:07.162405Z"
    }
   },
   "outputs": [],
   "source": [
    "catbst_mix_pipe = Pipeline([('scaler', MinMaxScaler())])\n",
    "\n",
    "catbst_transformers = [('mix', catbst_mix_pipe, num_columns)]\n",
    "catbst_transformer = ColumnTransformer(transformers=catbst_transformers)"
   ]
  },
  {
   "cell_type": "code",
   "execution_count": 73,
   "metadata": {
    "ExecuteTime": {
     "end_time": "2021-06-07T12:23:07.607663Z",
     "start_time": "2021-06-07T12:23:07.594697Z"
    }
   },
   "outputs": [],
   "source": [
    "# Экземпляр CatBoost\n",
    "catbst = CatBoostClassifier(n_estimators=100,\n",
    "                            logging_level='Silent',\n",
    "                            random_state=16,\n",
    "                            cat_features=cat_features_indices)"
   ]
  },
  {
   "cell_type": "code",
   "execution_count": 74,
   "metadata": {
    "ExecuteTime": {
     "end_time": "2021-06-07T12:23:08.053034Z",
     "start_time": "2021-06-07T12:23:08.040042Z"
    }
   },
   "outputs": [],
   "source": [
    "# Итоговый конвейер\n",
    "model = Pipeline([('tf', catbst_transformer),\n",
    "                  ('imputer', KNNImputer()),\n",
    "                  ('catboost', catbst)])"
   ]
  },
  {
   "cell_type": "code",
   "execution_count": 75,
   "metadata": {
    "ExecuteTime": {
     "end_time": "2021-06-07T12:23:08.459443Z",
     "start_time": "2021-06-07T12:23:08.444996Z"
    }
   },
   "outputs": [],
   "source": [
    "# Параметры для GridSearchCV\n",
    "catbst_param_grid = {\n",
    "    'catboost__max_depth': [2, 3, 4, 6, 8],\n",
    "    'imputer__n_neighbors': [13, 17, 21]\n",
    "}"
   ]
  },
  {
   "cell_type": "code",
   "execution_count": 76,
   "metadata": {
    "ExecuteTime": {
     "end_time": "2021-06-07T12:23:08.890514Z",
     "start_time": "2021-06-07T12:23:08.877548Z"
    }
   },
   "outputs": [],
   "source": [
    "# Итоговый GridSearchCV\n",
    "catbst_gs_knn = GridSearchCV(model,\n",
    "                              catbst_param_grid,\n",
    "                              cv=5,\n",
    "                              return_train_score=False,\n",
    "                              scoring=make_scorer(balanced_accuracy_score))"
   ]
  },
  {
   "cell_type": "code",
   "execution_count": 77,
   "metadata": {
    "ExecuteTime": {
     "end_time": "2021-06-07T12:32:59.435301Z",
     "start_time": "2021-06-07T12:23:09.427425Z"
    }
   },
   "outputs": [
    {
     "data": {
      "text/plain": [
       "GridSearchCV(cv=5,\n",
       "             estimator=Pipeline(steps=[('tf',\n",
       "                                        ColumnTransformer(transformers=[('mix',\n",
       "                                                                         Pipeline(steps=[('scaler',\n",
       "                                                                                          MinMaxScaler())]),\n",
       "                                                                         ['city',\n",
       "                                                                          'city_development_index',\n",
       "                                                                          'gender',\n",
       "                                                                          'relevent_experience',\n",
       "                                                                          'enrolled_university',\n",
       "                                                                          'education_level',\n",
       "                                                                          'major_discipline',\n",
       "                                                                          'experience',\n",
       "                                                                          'company_size',\n",
       "                                                                          'company_type',\n",
       "                                                                          'last_new_job',\n",
       "                                                                          'training_hours',\n",
       "                                                                          'city_development_index^2',\n",
       "                                                                          'city_development_index '\n",
       "                                                                          'training_hours',\n",
       "                                                                          'training_hours^2'])])),\n",
       "                                       ('imputer', KNNImputer()),\n",
       "                                       ('catboost',\n",
       "                                        <catboost.core.CatBoostClassifier object at 0x0000023853FC9EC8>)]),\n",
       "             param_grid={'catboost__max_depth': [2, 3, 4, 6, 8],\n",
       "                         'imputer__n_neighbors': [13, 17, 21]},\n",
       "             scoring=make_scorer(balanced_accuracy_score))"
      ]
     },
     "execution_count": 77,
     "metadata": {},
     "output_type": "execute_result"
    }
   ],
   "source": [
    "catbst_gs_knn.fit(X_train_te, y_train)"
   ]
  },
  {
   "cell_type": "markdown",
   "metadata": {},
   "source": [
    "### Результаты"
   ]
  },
  {
   "cell_type": "code",
   "execution_count": 78,
   "metadata": {
    "ExecuteTime": {
     "end_time": "2021-06-07T12:32:59.872184Z",
     "start_time": "2021-06-07T12:32:59.859168Z"
    }
   },
   "outputs": [
    {
     "data": {
      "text/plain": [
       "{'catboost__max_depth': 6, 'imputer__n_neighbors': 21}"
      ]
     },
     "execution_count": 78,
     "metadata": {},
     "output_type": "execute_result"
    }
   ],
   "source": [
    "catbst_gs_knn.best_params_"
   ]
  },
  {
   "cell_type": "code",
   "execution_count": 79,
   "metadata": {
    "ExecuteTime": {
     "end_time": "2021-06-07T12:33:00.315003Z",
     "start_time": "2021-06-07T12:33:00.302983Z"
    }
   },
   "outputs": [
    {
     "data": {
      "text/plain": [
       "0.6908602738515008"
      ]
     },
     "execution_count": 79,
     "metadata": {},
     "output_type": "execute_result"
    }
   ],
   "source": [
    "catbst_gs_knn.best_score_"
   ]
  },
  {
   "cell_type": "code",
   "execution_count": 80,
   "metadata": {
    "ExecuteTime": {
     "end_time": "2021-06-07T12:33:07.129868Z",
     "start_time": "2021-06-07T12:33:00.730838Z"
    }
   },
   "outputs": [],
   "source": [
    "y_pred = catbst_gs_knn.predict(X_valid_te)\n",
    "y_pred_proba = catbst_gs_knn.predict_proba(X_valid_te)"
   ]
  },
  {
   "cell_type": "code",
   "execution_count": 81,
   "metadata": {
    "ExecuteTime": {
     "end_time": "2021-06-07T12:33:07.576742Z",
     "start_time": "2021-06-07T12:33:07.562780Z"
    }
   },
   "outputs": [],
   "source": [
    "cm = confusion_matrix(y_valid, y_pred)"
   ]
  },
  {
   "cell_type": "code",
   "execution_count": 82,
   "metadata": {
    "ExecuteTime": {
     "end_time": "2021-06-07T12:33:08.325789Z",
     "start_time": "2021-06-07T12:33:08.028534Z"
    }
   },
   "outputs": [
    {
     "data": {
      "image/png": "[encoded data removed]",
      "text/plain": [
       "<Figure size 600x400 with 2 Axes>"
      ]
     },
     "metadata": {
      "needs_background": "light"
     },
     "output_type": "display_data"
    }
   ],
   "source": [
    "plot_confusion_matrix(cm)"
   ]
  },
  {
   "cell_type": "code",
   "execution_count": 83,
   "metadata": {
    "ExecuteTime": {
     "end_time": "2021-06-07T12:33:08.774216Z",
     "start_time": "2021-06-07T12:33:08.744241Z"
    }
   },
   "outputs": [
    {
     "data": {
      "text/html": [
       "<div>\n",
       "<style scoped>\n",
       "    .dataframe tbody tr th:only-of-type {\n",
       "        vertical-align: middle;\n",
       "    }\n",
       "\n",
       "    .dataframe tbody tr th {\n",
       "        vertical-align: top;\n",
       "    }\n",
       "\n",
       "    .dataframe thead th {\n",
       "        text-align: right;\n",
       "    }\n",
       "</style>\n",
       "<table border=\"1\" class=\"dataframe\">\n",
       "  <thead>\n",
       "    <tr style=\"text-align: right;\">\n",
       "      <th></th>\n",
       "      <th></th>\n",
       "      <th>mean_test_score</th>\n",
       "    </tr>\n",
       "    <tr>\n",
       "      <th>param_catboost__max_depth</th>\n",
       "      <th>param_imputer__n_neighbors</th>\n",
       "      <th></th>\n",
       "    </tr>\n",
       "  </thead>\n",
       "  <tbody>\n",
       "    <tr>\n",
       "      <th rowspan=\"2\" valign=\"top\">6</th>\n",
       "      <th>21</th>\n",
       "      <td>0.690860</td>\n",
       "    </tr>\n",
       "    <tr>\n",
       "      <th>13</th>\n",
       "      <td>0.690304</td>\n",
       "    </tr>\n",
       "    <tr>\n",
       "      <th rowspan=\"3\" valign=\"top\">4</th>\n",
       "      <th>21</th>\n",
       "      <td>0.690301</td>\n",
       "    </tr>\n",
       "    <tr>\n",
       "      <th>17</th>\n",
       "      <td>0.689453</td>\n",
       "    </tr>\n",
       "    <tr>\n",
       "      <th>13</th>\n",
       "      <td>0.688546</td>\n",
       "    </tr>\n",
       "    <tr>\n",
       "      <th>6</th>\n",
       "      <th>17</th>\n",
       "      <td>0.687563</td>\n",
       "    </tr>\n",
       "    <tr>\n",
       "      <th rowspan=\"3\" valign=\"top\">8</th>\n",
       "      <th>21</th>\n",
       "      <td>0.687007</td>\n",
       "    </tr>\n",
       "    <tr>\n",
       "      <th>13</th>\n",
       "      <td>0.686060</td>\n",
       "    </tr>\n",
       "    <tr>\n",
       "      <th>17</th>\n",
       "      <td>0.681114</td>\n",
       "    </tr>\n",
       "    <tr>\n",
       "      <th rowspan=\"3\" valign=\"top\">3</th>\n",
       "      <th>17</th>\n",
       "      <td>0.680397</td>\n",
       "    </tr>\n",
       "    <tr>\n",
       "      <th>21</th>\n",
       "      <td>0.680299</td>\n",
       "    </tr>\n",
       "    <tr>\n",
       "      <th>13</th>\n",
       "      <td>0.675443</td>\n",
       "    </tr>\n",
       "    <tr>\n",
       "      <th rowspan=\"3\" valign=\"top\">2</th>\n",
       "      <th>21</th>\n",
       "      <td>0.668941</td>\n",
       "    </tr>\n",
       "    <tr>\n",
       "      <th>17</th>\n",
       "      <td>0.664236</td>\n",
       "    </tr>\n",
       "    <tr>\n",
       "      <th>13</th>\n",
       "      <td>0.663482</td>\n",
       "    </tr>\n",
       "  </tbody>\n",
       "</table>\n",
       "</div>"
      ],
      "text/plain": [
       "                                                      mean_test_score\n",
       "param_catboost__max_depth param_imputer__n_neighbors                 \n",
       "6                         21                                 0.690860\n",
       "                          13                                 0.690304\n",
       "4                         21                                 0.690301\n",
       "                          17                                 0.689453\n",
       "                          13                                 0.688546\n",
       "6                         17                                 0.687563\n",
       "8                         21                                 0.687007\n",
       "                          13                                 0.686060\n",
       "                          17                                 0.681114\n",
       "3                         17                                 0.680397\n",
       "                          21                                 0.680299\n",
       "                          13                                 0.675443\n",
       "2                         21                                 0.668941\n",
       "                          17                                 0.664236\n",
       "                          13                                 0.663482"
      ]
     },
     "execution_count": 83,
     "metadata": {},
     "output_type": "execute_result"
    }
   ],
   "source": [
    "cat_results = pd.DataFrame(catbst_gs_knn.cv_results_)\n",
    "table = cat_results.pivot_table(values='mean_test_score',\n",
    "                                index=['param_catboost__max_depth', 'param_imputer__n_neighbors'])\n",
    "table.sort_values(by='mean_test_score', ascending=False)"
   ]
  },
  {
   "cell_type": "code",
   "execution_count": 84,
   "metadata": {
    "ExecuteTime": {
     "end_time": "2021-06-07T12:33:09.200023Z",
     "start_time": "2021-06-07T12:33:09.187058Z"
    }
   },
   "outputs": [],
   "source": [
    "best = catbst_gs_knn.cv_results_['mean_test_score'].max()\n",
    "model_result_3 = pd.DataFrame([best], index=['CatBoost + KNNImputer'], columns=['mean_test_score'])\n",
    "bestmodels_accuracy_list.append(model_result_3)"
   ]
  },
  {
   "cell_type": "code",
   "execution_count": 85,
   "metadata": {
    "ExecuteTime": {
     "end_time": "2021-06-07T12:33:09.660717Z",
     "start_time": "2021-06-07T12:33:09.616909Z"
    }
   },
   "outputs": [],
   "source": [
    "model_metrics_3 = get_scores(y_valid, y_pred, y_pred_proba, 'CatBoost + KNNImputer')\n",
    "bestmodels_metrics_list.append(model_metrics_3)"
   ]
  },
  {
   "cell_type": "markdown",
   "metadata": {},
   "source": [
    "## RandomForestClassifier + SimpleImputer"
   ]
  },
  {
   "cell_type": "markdown",
   "metadata": {},
   "source": [
    "### Подготовка"
   ]
  },
  {
   "cell_type": "code",
   "execution_count": 86,
   "metadata": {
    "ExecuteTime": {
     "end_time": "2021-06-07T12:33:10.108891Z",
     "start_time": "2021-06-07T12:33:10.094964Z"
    }
   },
   "outputs": [],
   "source": [
    "cat_columns =  X_train_te.select_dtypes(include='object').columns.tolist()\n",
    "num_columns =  X_valid_te.select_dtypes(exclude='object').columns.tolist()"
   ]
  },
  {
   "cell_type": "markdown",
   "metadata": {},
   "source": [
    "### Модель"
   ]
  },
  {
   "cell_type": "code",
   "execution_count": 87,
   "metadata": {
    "ExecuteTime": {
     "end_time": "2021-06-07T12:33:10.559701Z",
     "start_time": "2021-06-07T12:33:10.546761Z"
    }
   },
   "outputs": [],
   "source": [
    "randforest_cat_pipe = Pipeline([('imp', SimpleImputer())])\n",
    "randforest_num_pipe = Pipeline([('imp', SimpleImputer())])\n",
    "randforest_transformers = [('cat', randforest_cat_pipe, cat_columns),\n",
    "                           ('num', randforest_num_pipe, num_columns)]\n",
    "randfor_transformer = ColumnTransformer(transformers=randforest_transformers)"
   ]
  },
  {
   "cell_type": "code",
   "execution_count": 88,
   "metadata": {
    "ExecuteTime": {
     "end_time": "2021-06-07T12:33:11.017614Z",
     "start_time": "2021-06-07T12:33:11.003515Z"
    }
   },
   "outputs": [],
   "source": [
    "randfor = RandomForestClassifier(n_estimators=50)"
   ]
  },
  {
   "cell_type": "code",
   "execution_count": 89,
   "metadata": {
    "ExecuteTime": {
     "end_time": "2021-06-07T12:33:11.468037Z",
     "start_time": "2021-06-07T12:33:11.454570Z"
    }
   },
   "outputs": [],
   "source": [
    "# Итоговый конвейер\n",
    "randfor_pipe = Pipeline([('tf', randfor_transformer),\n",
    "                        ('randforest', randfor)])"
   ]
  },
  {
   "cell_type": "code",
   "execution_count": 90,
   "metadata": {
    "ExecuteTime": {
     "end_time": "2021-06-07T12:33:11.935955Z",
     "start_time": "2021-06-07T12:33:11.922470Z"
    }
   },
   "outputs": [],
   "source": [
    "# Параметры для GridSearchCV\n",
    "randfor_param_grid = {\n",
    "    'tf__cat__imp__strategy': ['most_frequent', 'constant'],\n",
    "    'tf__num__imp__strategy': ['mean', 'median'],\n",
    "    'randforest__max_depth':[2, 3, 4, 6]\n",
    "}"
   ]
  },
  {
   "cell_type": "code",
   "execution_count": 91,
   "metadata": {
    "ExecuteTime": {
     "end_time": "2021-06-07T12:33:12.445130Z",
     "start_time": "2021-06-07T12:33:12.431111Z"
    }
   },
   "outputs": [],
   "source": [
    "# Итоговый GridSearchCV\n",
    "randfor_gs_simp = GridSearchCV(randfor_pipe,\n",
    "                               randfor_param_grid,\n",
    "                               cv=5,\n",
    "                               return_train_score=False,\n",
    "                               scoring=make_scorer(balanced_accuracy_score))"
   ]
  },
  {
   "cell_type": "code",
   "execution_count": 92,
   "metadata": {
    "ExecuteTime": {
     "end_time": "2021-06-07T12:33:37.234404Z",
     "start_time": "2021-06-07T12:33:12.999228Z"
    }
   },
   "outputs": [
    {
     "data": {
      "text/plain": [
       "GridSearchCV(cv=5,\n",
       "             estimator=Pipeline(steps=[('tf',\n",
       "                                        ColumnTransformer(transformers=[('cat',\n",
       "                                                                         Pipeline(steps=[('imp',\n",
       "                                                                                          SimpleImputer())]),\n",
       "                                                                         []),\n",
       "                                                                        ('num',\n",
       "                                                                         Pipeline(steps=[('imp',\n",
       "                                                                                          SimpleImputer())]),\n",
       "                                                                         ['city',\n",
       "                                                                          'city_development_index',\n",
       "                                                                          'gender',\n",
       "                                                                          'relevent_experience',\n",
       "                                                                          'enrolled_university',\n",
       "                                                                          'education_level',\n",
       "                                                                          'major_discipline',\n",
       "                                                                          'experience',\n",
       "                                                                          'company_size',\n",
       "                                                                          'company_type',...\n",
       "                                                                          'training_hours',\n",
       "                                                                          'city_development_index^2',\n",
       "                                                                          'city_development_index '\n",
       "                                                                          'training_hours',\n",
       "                                                                          'training_hours^2'])])),\n",
       "                                       ('randforest',\n",
       "                                        RandomForestClassifier(n_estimators=50))]),\n",
       "             param_grid={'randforest__max_depth': [2, 3, 4, 6],\n",
       "                         'tf__cat__imp__strategy': ['most_frequent',\n",
       "                                                    'constant'],\n",
       "                         'tf__num__imp__strategy': ['mean', 'median']},\n",
       "             scoring=make_scorer(balanced_accuracy_score))"
      ]
     },
     "execution_count": 92,
     "metadata": {},
     "output_type": "execute_result"
    }
   ],
   "source": [
    "randfor_gs_simp.fit(X_train_te, y_train)"
   ]
  },
  {
   "cell_type": "markdown",
   "metadata": {},
   "source": [
    "### Результаты"
   ]
  },
  {
   "cell_type": "code",
   "execution_count": 93,
   "metadata": {
    "ExecuteTime": {
     "end_time": "2021-06-07T12:33:37.815007Z",
     "start_time": "2021-06-07T12:33:37.800990Z"
    }
   },
   "outputs": [
    {
     "data": {
      "text/plain": [
       "{'randforest__max_depth': 6,\n",
       " 'tf__cat__imp__strategy': 'most_frequent',\n",
       " 'tf__num__imp__strategy': 'mean'}"
      ]
     },
     "execution_count": 93,
     "metadata": {},
     "output_type": "execute_result"
    }
   ],
   "source": [
    "randfor_gs_simp.best_params_"
   ]
  },
  {
   "cell_type": "code",
   "execution_count": 94,
   "metadata": {
    "ExecuteTime": {
     "end_time": "2021-06-07T12:33:38.531347Z",
     "start_time": "2021-06-07T12:33:38.391720Z"
    }
   },
   "outputs": [],
   "source": [
    "y_pred = randfor_gs_simp.predict(X_valid_te)\n",
    "y_pred_proba = randfor_gs_simp.predict_proba(X_valid_te)"
   ]
  },
  {
   "cell_type": "code",
   "execution_count": 95,
   "metadata": {
    "ExecuteTime": {
     "end_time": "2021-06-07T12:33:39.118981Z",
     "start_time": "2021-06-07T12:33:39.105310Z"
    }
   },
   "outputs": [],
   "source": [
    "cm = confusion_matrix(y_valid, y_pred)"
   ]
  },
  {
   "cell_type": "code",
   "execution_count": 96,
   "metadata": {
    "ExecuteTime": {
     "end_time": "2021-06-07T12:33:39.811135Z",
     "start_time": "2021-06-07T12:33:39.629619Z"
    }
   },
   "outputs": [
    {
     "data": {
      "image/png": "[encoded data removed]",
      "text/plain": [
       "<Figure size 600x400 with 2 Axes>"
      ]
     },
     "metadata": {
      "needs_background": "light"
     },
     "output_type": "display_data"
    }
   ],
   "source": [
    "plot_confusion_matrix(cm)"
   ]
  },
  {
   "cell_type": "code",
   "execution_count": 97,
   "metadata": {
    "ExecuteTime": {
     "end_time": "2021-06-07T12:33:40.308282Z",
     "start_time": "2021-06-07T12:33:40.278363Z"
    }
   },
   "outputs": [
    {
     "data": {
      "text/html": [
       "<div>\n",
       "<style scoped>\n",
       "    .dataframe tbody tr th:only-of-type {\n",
       "        vertical-align: middle;\n",
       "    }\n",
       "\n",
       "    .dataframe tbody tr th {\n",
       "        vertical-align: top;\n",
       "    }\n",
       "\n",
       "    .dataframe thead th {\n",
       "        text-align: right;\n",
       "    }\n",
       "</style>\n",
       "<table border=\"1\" class=\"dataframe\">\n",
       "  <thead>\n",
       "    <tr style=\"text-align: right;\">\n",
       "      <th></th>\n",
       "      <th></th>\n",
       "      <th></th>\n",
       "      <th>mean_test_score</th>\n",
       "    </tr>\n",
       "    <tr>\n",
       "      <th>param_randforest__max_depth</th>\n",
       "      <th>param_tf__cat__imp__strategy</th>\n",
       "      <th>param_tf__num__imp__strategy</th>\n",
       "      <th></th>\n",
       "    </tr>\n",
       "  </thead>\n",
       "  <tbody>\n",
       "    <tr>\n",
       "      <th rowspan=\"4\" valign=\"top\">6</th>\n",
       "      <th>most_frequent</th>\n",
       "      <th>mean</th>\n",
       "      <td>0.671645</td>\n",
       "    </tr>\n",
       "    <tr>\n",
       "      <th>constant</th>\n",
       "      <th>mean</th>\n",
       "      <td>0.669847</td>\n",
       "    </tr>\n",
       "    <tr>\n",
       "      <th>most_frequent</th>\n",
       "      <th>median</th>\n",
       "      <td>0.661544</td>\n",
       "    </tr>\n",
       "    <tr>\n",
       "      <th>constant</th>\n",
       "      <th>median</th>\n",
       "      <td>0.661244</td>\n",
       "    </tr>\n",
       "    <tr>\n",
       "      <th rowspan=\"3\" valign=\"top\">4</th>\n",
       "      <th>most_frequent</th>\n",
       "      <th>median</th>\n",
       "      <td>0.661095</td>\n",
       "    </tr>\n",
       "    <tr>\n",
       "      <th rowspan=\"2\" valign=\"top\">constant</th>\n",
       "      <th>mean</th>\n",
       "      <td>0.660246</td>\n",
       "    </tr>\n",
       "    <tr>\n",
       "      <th>median</th>\n",
       "      <td>0.659995</td>\n",
       "    </tr>\n",
       "    <tr>\n",
       "      <th rowspan=\"3\" valign=\"top\">3</th>\n",
       "      <th>constant</th>\n",
       "      <th>mean</th>\n",
       "      <td>0.659693</td>\n",
       "    </tr>\n",
       "    <tr>\n",
       "      <th>most_frequent</th>\n",
       "      <th>median</th>\n",
       "      <td>0.658594</td>\n",
       "    </tr>\n",
       "    <tr>\n",
       "      <th>constant</th>\n",
       "      <th>median</th>\n",
       "      <td>0.658193</td>\n",
       "    </tr>\n",
       "    <tr>\n",
       "      <th>4</th>\n",
       "      <th>most_frequent</th>\n",
       "      <th>mean</th>\n",
       "      <td>0.658093</td>\n",
       "    </tr>\n",
       "    <tr>\n",
       "      <th>3</th>\n",
       "      <th>most_frequent</th>\n",
       "      <th>mean</th>\n",
       "      <td>0.652441</td>\n",
       "    </tr>\n",
       "    <tr>\n",
       "      <th rowspan=\"4\" valign=\"top\">2</th>\n",
       "      <th rowspan=\"2\" valign=\"top\">constant</th>\n",
       "      <th>mean</th>\n",
       "      <td>0.632875</td>\n",
       "    </tr>\n",
       "    <tr>\n",
       "      <th>median</th>\n",
       "      <td>0.622668</td>\n",
       "    </tr>\n",
       "    <tr>\n",
       "      <th rowspan=\"2\" valign=\"top\">most_frequent</th>\n",
       "      <th>mean</th>\n",
       "      <td>0.617271</td>\n",
       "    </tr>\n",
       "    <tr>\n",
       "      <th>median</th>\n",
       "      <td>0.613969</td>\n",
       "    </tr>\n",
       "  </tbody>\n",
       "</table>\n",
       "</div>"
      ],
      "text/plain": [
       "                                                                                       mean_test_score\n",
       "param_randforest__max_depth param_tf__cat__imp__strategy param_tf__num__imp__strategy                 \n",
       "6                           most_frequent                mean                                 0.671645\n",
       "                            constant                     mean                                 0.669847\n",
       "                            most_frequent                median                               0.661544\n",
       "                            constant                     median                               0.661244\n",
       "4                           most_frequent                median                               0.661095\n",
       "                            constant                     mean                                 0.660246\n",
       "                                                         median                               0.659995\n",
       "3                           constant                     mean                                 0.659693\n",
       "                            most_frequent                median                               0.658594\n",
       "                            constant                     median                               0.658193\n",
       "4                           most_frequent                mean                                 0.658093\n",
       "3                           most_frequent                mean                                 0.652441\n",
       "2                           constant                     mean                                 0.632875\n",
       "                                                         median                               0.622668\n",
       "                            most_frequent                mean                                 0.617271\n",
       "                                                         median                               0.613969"
      ]
     },
     "execution_count": 97,
     "metadata": {},
     "output_type": "execute_result"
    }
   ],
   "source": [
    "ranforest_results = pd.DataFrame(randfor_gs_simp.cv_results_)\n",
    "table = ranforest_results.pivot_table(values='mean_test_score',\n",
    "                                index=['param_randforest__max_depth', 'param_tf__cat__imp__strategy', 'param_tf__num__imp__strategy'])\n",
    "table.sort_values(by='mean_test_score', ascending=False)"
   ]
  },
  {
   "cell_type": "code",
   "execution_count": 98,
   "metadata": {
    "ExecuteTime": {
     "end_time": "2021-06-07T12:33:40.825084Z",
     "start_time": "2021-06-07T12:33:40.820882Z"
    }
   },
   "outputs": [],
   "source": [
    "best = randfor_gs_simp.cv_results_['mean_test_score'].max()\n",
    "model_result_4 = pd.DataFrame([best], index=['RandomForestClassifier + SimpleImputer'], columns=['mean_test_score'])\n",
    "bestmodels_accuracy_list.append(model_result_4)"
   ]
  },
  {
   "cell_type": "code",
   "execution_count": 99,
   "metadata": {
    "ExecuteTime": {
     "end_time": "2021-06-07T12:33:41.336570Z",
     "start_time": "2021-06-07T12:33:41.298981Z"
    }
   },
   "outputs": [],
   "source": [
    "model_metrics_4 = get_scores(y_valid, y_pred, y_pred_proba, 'RandomForestClassifier + SimpleImputer')\n",
    "bestmodels_metrics_list.append(model_metrics_4)"
   ]
  },
  {
   "cell_type": "markdown",
   "metadata": {},
   "source": [
    "## RandomForestClassifier + SMOTE + SimpleImputer"
   ]
  },
  {
   "cell_type": "markdown",
   "metadata": {},
   "source": [
    "### Подготовка"
   ]
  },
  {
   "cell_type": "code",
   "execution_count": 100,
   "metadata": {
    "ExecuteTime": {
     "end_time": "2021-06-07T12:33:41.894612Z",
     "start_time": "2021-06-07T12:33:41.870577Z"
    }
   },
   "outputs": [],
   "source": [
    "cat_columns =  X_train_te.select_dtypes(include='object').columns.tolist()\n",
    "num_columns =  X_valid_te.select_dtypes(exclude='object').columns.tolist()"
   ]
  },
  {
   "cell_type": "markdown",
   "metadata": {},
   "source": [
    "### Модель"
   ]
  },
  {
   "cell_type": "code",
   "execution_count": 172,
   "metadata": {
    "ExecuteTime": {
     "end_time": "2021-06-07T13:05:24.380709Z",
     "start_time": "2021-06-07T13:05:24.362757Z"
    }
   },
   "outputs": [],
   "source": [
    "randforest_cat_pipe = PipelineImb([('imp', SimpleImputer())])\n",
    "randforest_num_pipe = PipelineImb([('imp', SimpleImputer()),\n",
    "                                  ('norm', MinMaxScaler())])\n",
    "randforest_transformers = [('cat', randforest_cat_pipe, cat_columns),\n",
    "                           ('num', randforest_num_pipe, num_columns)]\n",
    "randfor_transformer = ColumnTransformer(transformers=randforest_transformers)"
   ]
  },
  {
   "cell_type": "code",
   "execution_count": 173,
   "metadata": {
    "ExecuteTime": {
     "end_time": "2021-06-07T13:05:25.480058Z",
     "start_time": "2021-06-07T13:05:25.467560Z"
    }
   },
   "outputs": [],
   "source": [
    "# Создаем экземпляр класса CatBoost\n",
    "randfor = RandomForestClassifier(n_estimators=50)"
   ]
  },
  {
   "cell_type": "code",
   "execution_count": 174,
   "metadata": {
    "ExecuteTime": {
     "end_time": "2021-06-07T13:05:26.485533Z",
     "start_time": "2021-06-07T13:05:26.472514Z"
    }
   },
   "outputs": [],
   "source": [
    "# Итоговый конвейер\n",
    "model = PipelineImb([('tf', randfor_transformer),\n",
    "                     ('sampling', SMOTE()),\n",
    "                     ('randforest', randfor)])"
   ]
  },
  {
   "cell_type": "code",
   "execution_count": 175,
   "metadata": {
    "ExecuteTime": {
     "end_time": "2021-06-07T13:05:27.534311Z",
     "start_time": "2021-06-07T13:05:27.522343Z"
    }
   },
   "outputs": [],
   "source": [
    "# Параметры для GridSearchCV\n",
    "randfor_param_grid = {\n",
    "    'tf__cat__imp__strategy': ['most_frequent', 'constant'],\n",
    "    'tf__num__imp__strategy': ['mean', 'median'],\n",
    "    'randforest__max_depth': [2, 3, 4, 6, 8]\n",
    "}"
   ]
  },
  {
   "cell_type": "code",
   "execution_count": 176,
   "metadata": {
    "ExecuteTime": {
     "end_time": "2021-06-07T13:05:30.007048Z",
     "start_time": "2021-06-07T13:05:29.991091Z"
    }
   },
   "outputs": [],
   "source": [
    "# Итоговый GridSearchCV\n",
    "randfor_gs_ossimp = GridSearchCV(model,\n",
    "                                 randfor_param_grid,\n",
    "                                 cv=5,\n",
    "                                 return_train_score=False,\n",
    "                                 scoring=make_scorer(balanced_accuracy_score))"
   ]
  },
  {
   "cell_type": "code",
   "execution_count": 106,
   "metadata": {
    "ExecuteTime": {
     "end_time": "2021-06-07T12:34:44.481929Z",
     "start_time": "2021-06-07T12:33:45.192559Z"
    }
   },
   "outputs": [
    {
     "data": {
      "text/plain": [
       "GridSearchCV(cv=5,\n",
       "             estimator=Pipeline(steps=[('tf',\n",
       "                                        ColumnTransformer(transformers=[('cat',\n",
       "                                                                         Pipeline(steps=[('imp',\n",
       "                                                                                          SimpleImputer())]),\n",
       "                                                                         []),\n",
       "                                                                        ('num',\n",
       "                                                                         Pipeline(steps=[('imp',\n",
       "                                                                                          SimpleImputer()),\n",
       "                                                                                         ('norm',\n",
       "                                                                                          MinMaxScaler())]),\n",
       "                                                                         ['city',\n",
       "                                                                          'city_development_index',\n",
       "                                                                          'gender',\n",
       "                                                                          'relevent_experience',\n",
       "                                                                          'enrolled_university',\n",
       "                                                                          'education_level',\n",
       "                                                                          'major_discipline',\n",
       "                                                                          'experience',\n",
       "                                                                          'compa...\n",
       "                                                                          'city_development_index^2',\n",
       "                                                                          'city_development_index '\n",
       "                                                                          'training_hours',\n",
       "                                                                          'training_hours^2'])])),\n",
       "                                       ('sampling', SMOTE()),\n",
       "                                       ('randforest',\n",
       "                                        RandomForestClassifier(n_estimators=50))]),\n",
       "             param_grid={'randforest__max_depth': [2, 3, 4, 6, 8],\n",
       "                         'tf__cat__imp__strategy': ['most_frequent',\n",
       "                                                    'constant'],\n",
       "                         'tf__num__imp__strategy': ['mean', 'median']},\n",
       "             scoring=make_scorer(balanced_accuracy_score))"
      ]
     },
     "execution_count": 106,
     "metadata": {},
     "output_type": "execute_result"
    }
   ],
   "source": [
    "randfor_gs_ossimp.fit(X_train_te, y_train)"
   ]
  },
  {
   "cell_type": "markdown",
   "metadata": {},
   "source": [
    "### Результаты"
   ]
  },
  {
   "cell_type": "code",
   "execution_count": 107,
   "metadata": {
    "ExecuteTime": {
     "end_time": "2021-06-07T12:34:45.286832Z",
     "start_time": "2021-06-07T12:34:45.274847Z"
    }
   },
   "outputs": [
    {
     "data": {
      "text/plain": [
       "{'randforest__max_depth': 8,\n",
       " 'tf__cat__imp__strategy': 'most_frequent',\n",
       " 'tf__num__imp__strategy': 'mean'}"
      ]
     },
     "execution_count": 107,
     "metadata": {},
     "output_type": "execute_result"
    }
   ],
   "source": [
    "randfor_gs_ossimp.best_params_"
   ]
  },
  {
   "cell_type": "code",
   "execution_count": 108,
   "metadata": {
    "ExecuteTime": {
     "end_time": "2021-06-07T12:34:46.007849Z",
     "start_time": "2021-06-07T12:34:45.994472Z"
    }
   },
   "outputs": [
    {
     "data": {
      "text/plain": [
       "0.7711677131346614"
      ]
     },
     "execution_count": 108,
     "metadata": {},
     "output_type": "execute_result"
    }
   ],
   "source": [
    "randfor_gs_ossimp.best_score_"
   ]
  },
  {
   "cell_type": "code",
   "execution_count": 109,
   "metadata": {
    "ExecuteTime": {
     "end_time": "2021-06-07T12:34:46.805214Z",
     "start_time": "2021-06-07T12:34:46.686530Z"
    }
   },
   "outputs": [],
   "source": [
    "y_pred = randfor_gs_ossimp.predict(X_valid_te)\n",
    "y_pred_proba = randfor_gs_ossimp.predict_proba(X_valid_te)"
   ]
  },
  {
   "cell_type": "code",
   "execution_count": 110,
   "metadata": {
    "ExecuteTime": {
     "end_time": "2021-06-07T12:34:47.392242Z",
     "start_time": "2021-06-07T12:34:47.379277Z"
    }
   },
   "outputs": [],
   "source": [
    "cm = confusion_matrix(y_valid, y_pred)"
   ]
  },
  {
   "cell_type": "code",
   "execution_count": 111,
   "metadata": {
    "ExecuteTime": {
     "end_time": "2021-06-07T12:34:48.174972Z",
     "start_time": "2021-06-07T12:34:48.020886Z"
    }
   },
   "outputs": [
    {
     "data": {
      "image/png": "[encoded data removed]",
      "text/plain": [
       "<Figure size 600x400 with 2 Axes>"
      ]
     },
     "metadata": {
      "needs_background": "light"
     },
     "output_type": "display_data"
    }
   ],
   "source": [
    "plot_confusion_matrix(cm)"
   ]
  },
  {
   "cell_type": "code",
   "execution_count": 112,
   "metadata": {
    "ExecuteTime": {
     "end_time": "2021-06-07T12:34:48.797916Z",
     "start_time": "2021-06-07T12:34:48.770951Z"
    }
   },
   "outputs": [
    {
     "data": {
      "text/html": [
       "<div>\n",
       "<style scoped>\n",
       "    .dataframe tbody tr th:only-of-type {\n",
       "        vertical-align: middle;\n",
       "    }\n",
       "\n",
       "    .dataframe tbody tr th {\n",
       "        vertical-align: top;\n",
       "    }\n",
       "\n",
       "    .dataframe thead th {\n",
       "        text-align: right;\n",
       "    }\n",
       "</style>\n",
       "<table border=\"1\" class=\"dataframe\">\n",
       "  <thead>\n",
       "    <tr style=\"text-align: right;\">\n",
       "      <th></th>\n",
       "      <th></th>\n",
       "      <th></th>\n",
       "      <th>mean_test_score</th>\n",
       "    </tr>\n",
       "    <tr>\n",
       "      <th>param_randforest__max_depth</th>\n",
       "      <th>param_tf__cat__imp__strategy</th>\n",
       "      <th>param_tf__num__imp__strategy</th>\n",
       "      <th></th>\n",
       "    </tr>\n",
       "  </thead>\n",
       "  <tbody>\n",
       "    <tr>\n",
       "      <th rowspan=\"2\" valign=\"top\">8</th>\n",
       "      <th>most_frequent</th>\n",
       "      <th>mean</th>\n",
       "      <td>0.771168</td>\n",
       "    </tr>\n",
       "    <tr>\n",
       "      <th>constant</th>\n",
       "      <th>mean</th>\n",
       "      <td>0.768169</td>\n",
       "    </tr>\n",
       "    <tr>\n",
       "      <th rowspan=\"2\" valign=\"top\">6</th>\n",
       "      <th>constant</th>\n",
       "      <th>mean</th>\n",
       "      <td>0.768098</td>\n",
       "    </tr>\n",
       "    <tr>\n",
       "      <th>most_frequent</th>\n",
       "      <th>mean</th>\n",
       "      <td>0.766101</td>\n",
       "    </tr>\n",
       "    <tr>\n",
       "      <th rowspan=\"2\" valign=\"top\">4</th>\n",
       "      <th>constant</th>\n",
       "      <th>mean</th>\n",
       "      <td>0.763025</td>\n",
       "    </tr>\n",
       "    <tr>\n",
       "      <th>most_frequent</th>\n",
       "      <th>mean</th>\n",
       "      <td>0.761385</td>\n",
       "    </tr>\n",
       "    <tr>\n",
       "      <th rowspan=\"2\" valign=\"top\">3</th>\n",
       "      <th>constant</th>\n",
       "      <th>mean</th>\n",
       "      <td>0.754635</td>\n",
       "    </tr>\n",
       "    <tr>\n",
       "      <th>most_frequent</th>\n",
       "      <th>mean</th>\n",
       "      <td>0.753177</td>\n",
       "    </tr>\n",
       "    <tr>\n",
       "      <th rowspan=\"2\" valign=\"top\">8</th>\n",
       "      <th>constant</th>\n",
       "      <th>median</th>\n",
       "      <td>0.727172</td>\n",
       "    </tr>\n",
       "    <tr>\n",
       "      <th>most_frequent</th>\n",
       "      <th>median</th>\n",
       "      <td>0.726518</td>\n",
       "    </tr>\n",
       "    <tr>\n",
       "      <th>6</th>\n",
       "      <th>constant</th>\n",
       "      <th>median</th>\n",
       "      <td>0.722259</td>\n",
       "    </tr>\n",
       "    <tr>\n",
       "      <th>2</th>\n",
       "      <th>constant</th>\n",
       "      <th>mean</th>\n",
       "      <td>0.722070</td>\n",
       "    </tr>\n",
       "    <tr>\n",
       "      <th>6</th>\n",
       "      <th>most_frequent</th>\n",
       "      <th>median</th>\n",
       "      <td>0.719808</td>\n",
       "    </tr>\n",
       "    <tr>\n",
       "      <th>2</th>\n",
       "      <th>most_frequent</th>\n",
       "      <th>mean</th>\n",
       "      <td>0.715348</td>\n",
       "    </tr>\n",
       "    <tr>\n",
       "      <th rowspan=\"2\" valign=\"top\">4</th>\n",
       "      <th>most_frequent</th>\n",
       "      <th>median</th>\n",
       "      <td>0.711494</td>\n",
       "    </tr>\n",
       "    <tr>\n",
       "      <th>constant</th>\n",
       "      <th>median</th>\n",
       "      <td>0.710391</td>\n",
       "    </tr>\n",
       "    <tr>\n",
       "      <th rowspan=\"2\" valign=\"top\">3</th>\n",
       "      <th>constant</th>\n",
       "      <th>median</th>\n",
       "      <td>0.700720</td>\n",
       "    </tr>\n",
       "    <tr>\n",
       "      <th>most_frequent</th>\n",
       "      <th>median</th>\n",
       "      <td>0.700363</td>\n",
       "    </tr>\n",
       "    <tr>\n",
       "      <th rowspan=\"2\" valign=\"top\">2</th>\n",
       "      <th>most_frequent</th>\n",
       "      <th>median</th>\n",
       "      <td>0.689295</td>\n",
       "    </tr>\n",
       "    <tr>\n",
       "      <th>constant</th>\n",
       "      <th>median</th>\n",
       "      <td>0.688157</td>\n",
       "    </tr>\n",
       "  </tbody>\n",
       "</table>\n",
       "</div>"
      ],
      "text/plain": [
       "                                                                                       mean_test_score\n",
       "param_randforest__max_depth param_tf__cat__imp__strategy param_tf__num__imp__strategy                 \n",
       "8                           most_frequent                mean                                 0.771168\n",
       "                            constant                     mean                                 0.768169\n",
       "6                           constant                     mean                                 0.768098\n",
       "                            most_frequent                mean                                 0.766101\n",
       "4                           constant                     mean                                 0.763025\n",
       "                            most_frequent                mean                                 0.761385\n",
       "3                           constant                     mean                                 0.754635\n",
       "                            most_frequent                mean                                 0.753177\n",
       "8                           constant                     median                               0.727172\n",
       "                            most_frequent                median                               0.726518\n",
       "6                           constant                     median                               0.722259\n",
       "2                           constant                     mean                                 0.722070\n",
       "6                           most_frequent                median                               0.719808\n",
       "2                           most_frequent                mean                                 0.715348\n",
       "4                           most_frequent                median                               0.711494\n",
       "                            constant                     median                               0.710391\n",
       "3                           constant                     median                               0.700720\n",
       "                            most_frequent                median                               0.700363\n",
       "2                           most_frequent                median                               0.689295\n",
       "                            constant                     median                               0.688157"
      ]
     },
     "execution_count": 112,
     "metadata": {},
     "output_type": "execute_result"
    }
   ],
   "source": [
    "ranforest_results = pd.DataFrame(randfor_gs_ossimp.cv_results_)\n",
    "table = ranforest_results.pivot_table(values='mean_test_score',\n",
    "                                index=['param_randforest__max_depth', 'param_tf__cat__imp__strategy', 'param_tf__num__imp__strategy'])\n",
    "table.sort_values(by='mean_test_score', ascending=False)"
   ]
  },
  {
   "cell_type": "code",
   "execution_count": 113,
   "metadata": {
    "ExecuteTime": {
     "end_time": "2021-06-07T12:34:49.385634Z",
     "start_time": "2021-06-07T12:34:49.370250Z"
    }
   },
   "outputs": [],
   "source": [
    "best = randfor_gs_ossimp.cv_results_['mean_test_score'].max()\n",
    "model_result_5 = pd.DataFrame([best], index=['RandomForestClassifier + SMOTE + SimpleImputer'], columns=['mean_test_score'])\n",
    "bestmodels_accuracy_list.append(model_result_5)"
   ]
  },
  {
   "cell_type": "code",
   "execution_count": 114,
   "metadata": {
    "ExecuteTime": {
     "end_time": "2021-06-07T12:34:50.029270Z",
     "start_time": "2021-06-07T12:34:50.003082Z"
    }
   },
   "outputs": [],
   "source": [
    "model_metrics_5 = get_scores(y_valid, y_pred, y_pred_proba, 'RandomForestClassifier + SMOTE + SimpleImputer')\n",
    "bestmodels_metrics_list.append(model_metrics_5)"
   ]
  },
  {
   "cell_type": "markdown",
   "metadata": {},
   "source": [
    "## RandomForestClassifier + KNNImputer"
   ]
  },
  {
   "cell_type": "markdown",
   "metadata": {},
   "source": [
    "### Подготовка"
   ]
  },
  {
   "cell_type": "code",
   "execution_count": 115,
   "metadata": {
    "ExecuteTime": {
     "end_time": "2021-06-07T12:34:50.648494Z",
     "start_time": "2021-06-07T12:34:50.635313Z"
    }
   },
   "outputs": [],
   "source": [
    "cat_columns =  X_train_te.select_dtypes(include='object').columns.tolist()\n",
    "num_columns =  X_valid_te.select_dtypes(exclude='object').columns.tolist()"
   ]
  },
  {
   "cell_type": "markdown",
   "metadata": {},
   "source": [
    "### Модель"
   ]
  },
  {
   "cell_type": "code",
   "execution_count": 116,
   "metadata": {
    "ExecuteTime": {
     "end_time": "2021-06-07T12:34:51.265855Z",
     "start_time": "2021-06-07T12:34:51.252324Z"
    }
   },
   "outputs": [],
   "source": [
    "randforest_mix_pipe = Pipeline([('scaler', MinMaxScaler())])\n",
    "\n",
    "randforest_transformers = [('mix', randforest_mix_pipe, num_columns)]\n",
    "randfor_transformer = ColumnTransformer(transformers=randforest_transformers)"
   ]
  },
  {
   "cell_type": "code",
   "execution_count": 117,
   "metadata": {
    "ExecuteTime": {
     "end_time": "2021-06-07T12:34:51.869950Z",
     "start_time": "2021-06-07T12:34:51.854620Z"
    }
   },
   "outputs": [],
   "source": [
    "# Создаем экземпляр класса CatBoost\n",
    "randfor = RandomForestClassifier(n_estimators=50)"
   ]
  },
  {
   "cell_type": "code",
   "execution_count": 118,
   "metadata": {
    "ExecuteTime": {
     "end_time": "2021-06-07T12:34:52.465874Z",
     "start_time": "2021-06-07T12:34:52.448665Z"
    }
   },
   "outputs": [],
   "source": [
    "# Итоговый конвейер\n",
    "model = Pipeline([('tf', randfor_transformer),\n",
    "                  ('imputer', KNNImputer()),\n",
    "                  ('randforest', randfor)])"
   ]
  },
  {
   "cell_type": "code",
   "execution_count": 119,
   "metadata": {
    "ExecuteTime": {
     "end_time": "2021-06-07T12:34:53.059542Z",
     "start_time": "2021-06-07T12:34:53.047574Z"
    }
   },
   "outputs": [],
   "source": [
    "# Параметры для GridSearchCV\n",
    "randfor_param_grid = {\n",
    "    'randforest__max_depth': [2, 3, 4, 6, 8],\n",
    "    'imputer__n_neighbors': [13, 17, 21]\n",
    "}"
   ]
  },
  {
   "cell_type": "code",
   "execution_count": 120,
   "metadata": {
    "ExecuteTime": {
     "end_time": "2021-06-07T12:34:53.676039Z",
     "start_time": "2021-06-07T12:34:53.651697Z"
    }
   },
   "outputs": [],
   "source": [
    "# Итоговый GridSearchCV\n",
    "randfor_gs_knn = GridSearchCV(model,\n",
    "                              randfor_param_grid,\n",
    "                              cv=5,\n",
    "                              return_train_score=False,\n",
    "                              scoring=make_scorer(balanced_accuracy_score))"
   ]
  },
  {
   "cell_type": "code",
   "execution_count": 121,
   "metadata": {
    "ExecuteTime": {
     "end_time": "2021-06-07T12:44:00.587691Z",
     "start_time": "2021-06-07T12:34:54.275315Z"
    }
   },
   "outputs": [
    {
     "data": {
      "text/plain": [
       "GridSearchCV(cv=5,\n",
       "             estimator=Pipeline(steps=[('tf',\n",
       "                                        ColumnTransformer(transformers=[('mix',\n",
       "                                                                         Pipeline(steps=[('scaler',\n",
       "                                                                                          MinMaxScaler())]),\n",
       "                                                                         ['city',\n",
       "                                                                          'city_development_index',\n",
       "                                                                          'gender',\n",
       "                                                                          'relevent_experience',\n",
       "                                                                          'enrolled_university',\n",
       "                                                                          'education_level',\n",
       "                                                                          'major_discipline',\n",
       "                                                                          'experience',\n",
       "                                                                          'company_size',\n",
       "                                                                          'company_type',\n",
       "                                                                          'last_new_job',\n",
       "                                                                          'training_hours',\n",
       "                                                                          'city_development_index^2',\n",
       "                                                                          'city_development_index '\n",
       "                                                                          'training_hours',\n",
       "                                                                          'training_hours^2'])])),\n",
       "                                       ('imputer', KNNImputer()),\n",
       "                                       ('randforest',\n",
       "                                        RandomForestClassifier(n_estimators=50))]),\n",
       "             param_grid={'imputer__n_neighbors': [13, 17, 21],\n",
       "                         'randforest__max_depth': [2, 3, 4, 6, 8]},\n",
       "             scoring=make_scorer(balanced_accuracy_score))"
      ]
     },
     "execution_count": 121,
     "metadata": {},
     "output_type": "execute_result"
    }
   ],
   "source": [
    "randfor_gs_knn.fit(X_train_te, y_train)"
   ]
  },
  {
   "cell_type": "markdown",
   "metadata": {},
   "source": [
    "### Результаты"
   ]
  },
  {
   "cell_type": "code",
   "execution_count": 122,
   "metadata": {
    "ExecuteTime": {
     "end_time": "2021-06-07T12:44:01.326200Z",
     "start_time": "2021-06-07T12:44:01.313106Z"
    }
   },
   "outputs": [
    {
     "data": {
      "text/plain": [
       "{'imputer__n_neighbors': 21, 'randforest__max_depth': 8}"
      ]
     },
     "execution_count": 122,
     "metadata": {},
     "output_type": "execute_result"
    }
   ],
   "source": [
    "randfor_gs_knn.best_params_"
   ]
  },
  {
   "cell_type": "code",
   "execution_count": 123,
   "metadata": {
    "ExecuteTime": {
     "end_time": "2021-06-07T12:44:01.982704Z",
     "start_time": "2021-06-07T12:44:01.969705Z"
    }
   },
   "outputs": [
    {
     "data": {
      "text/plain": [
       "0.6714505821793768"
      ]
     },
     "execution_count": 123,
     "metadata": {},
     "output_type": "execute_result"
    }
   ],
   "source": [
    "randfor_gs_knn.best_score_"
   ]
  },
  {
   "cell_type": "code",
   "execution_count": 124,
   "metadata": {
    "ExecuteTime": {
     "end_time": "2021-06-07T12:44:09.273526Z",
     "start_time": "2021-06-07T12:44:02.599576Z"
    }
   },
   "outputs": [],
   "source": [
    "y_pred = randfor_gs_knn.predict(X_valid_te)\n",
    "y_pred_proba = randfor_gs_knn.predict_proba(X_valid_te)"
   ]
  },
  {
   "cell_type": "code",
   "execution_count": 125,
   "metadata": {
    "ExecuteTime": {
     "end_time": "2021-06-07T12:44:10.016544Z",
     "start_time": "2021-06-07T12:44:10.003579Z"
    }
   },
   "outputs": [],
   "source": [
    "cm = confusion_matrix(y_valid, y_pred)"
   ]
  },
  {
   "cell_type": "code",
   "execution_count": 126,
   "metadata": {
    "ExecuteTime": {
     "end_time": "2021-06-07T12:44:10.874581Z",
     "start_time": "2021-06-07T12:44:10.677053Z"
    }
   },
   "outputs": [
    {
     "data": {
      "image/png": "[encoded data removed]",
      "text/plain": [
       "<Figure size 600x400 with 2 Axes>"
      ]
     },
     "metadata": {
      "needs_background": "light"
     },
     "output_type": "display_data"
    }
   ],
   "source": [
    "plot_confusion_matrix(cm)"
   ]
  },
  {
   "cell_type": "code",
   "execution_count": 127,
   "metadata": {
    "ExecuteTime": {
     "end_time": "2021-06-07T12:44:11.535957Z",
     "start_time": "2021-06-07T12:44:11.505942Z"
    }
   },
   "outputs": [
    {
     "data": {
      "text/html": [
       "<div>\n",
       "<style scoped>\n",
       "    .dataframe tbody tr th:only-of-type {\n",
       "        vertical-align: middle;\n",
       "    }\n",
       "\n",
       "    .dataframe tbody tr th {\n",
       "        vertical-align: top;\n",
       "    }\n",
       "\n",
       "    .dataframe thead th {\n",
       "        text-align: right;\n",
       "    }\n",
       "</style>\n",
       "<table border=\"1\" class=\"dataframe\">\n",
       "  <thead>\n",
       "    <tr style=\"text-align: right;\">\n",
       "      <th></th>\n",
       "      <th></th>\n",
       "      <th>mean_test_score</th>\n",
       "    </tr>\n",
       "    <tr>\n",
       "      <th>param_randforest__max_depth</th>\n",
       "      <th>param_imputer__n_neighbors</th>\n",
       "      <th></th>\n",
       "    </tr>\n",
       "  </thead>\n",
       "  <tbody>\n",
       "    <tr>\n",
       "      <th rowspan=\"3\" valign=\"top\">8</th>\n",
       "      <th>21</th>\n",
       "      <td>0.671451</td>\n",
       "    </tr>\n",
       "    <tr>\n",
       "      <th>13</th>\n",
       "      <td>0.670548</td>\n",
       "    </tr>\n",
       "    <tr>\n",
       "      <th>17</th>\n",
       "      <td>0.669401</td>\n",
       "    </tr>\n",
       "    <tr>\n",
       "      <th>6</th>\n",
       "      <th>21</th>\n",
       "      <td>0.664745</td>\n",
       "    </tr>\n",
       "    <tr>\n",
       "      <th>4</th>\n",
       "      <th>17</th>\n",
       "      <td>0.662144</td>\n",
       "    </tr>\n",
       "    <tr>\n",
       "      <th>6</th>\n",
       "      <th>13</th>\n",
       "      <td>0.661445</td>\n",
       "    </tr>\n",
       "    <tr>\n",
       "      <th>4</th>\n",
       "      <th>21</th>\n",
       "      <td>0.661395</td>\n",
       "    </tr>\n",
       "    <tr>\n",
       "      <th>6</th>\n",
       "      <th>17</th>\n",
       "      <td>0.661246</td>\n",
       "    </tr>\n",
       "    <tr>\n",
       "      <th>4</th>\n",
       "      <th>13</th>\n",
       "      <td>0.660044</td>\n",
       "    </tr>\n",
       "    <tr>\n",
       "      <th rowspan=\"3\" valign=\"top\">3</th>\n",
       "      <th>17</th>\n",
       "      <td>0.659243</td>\n",
       "    </tr>\n",
       "    <tr>\n",
       "      <th>13</th>\n",
       "      <td>0.656243</td>\n",
       "    </tr>\n",
       "    <tr>\n",
       "      <th>21</th>\n",
       "      <td>0.651989</td>\n",
       "    </tr>\n",
       "    <tr>\n",
       "      <th rowspan=\"3\" valign=\"top\">2</th>\n",
       "      <th>21</th>\n",
       "      <td>0.605814</td>\n",
       "    </tr>\n",
       "    <tr>\n",
       "      <th>17</th>\n",
       "      <td>0.595962</td>\n",
       "    </tr>\n",
       "    <tr>\n",
       "      <th>13</th>\n",
       "      <td>0.587804</td>\n",
       "    </tr>\n",
       "  </tbody>\n",
       "</table>\n",
       "</div>"
      ],
      "text/plain": [
       "                                                        mean_test_score\n",
       "param_randforest__max_depth param_imputer__n_neighbors                 \n",
       "8                           21                                 0.671451\n",
       "                            13                                 0.670548\n",
       "                            17                                 0.669401\n",
       "6                           21                                 0.664745\n",
       "4                           17                                 0.662144\n",
       "6                           13                                 0.661445\n",
       "4                           21                                 0.661395\n",
       "6                           17                                 0.661246\n",
       "4                           13                                 0.660044\n",
       "3                           17                                 0.659243\n",
       "                            13                                 0.656243\n",
       "                            21                                 0.651989\n",
       "2                           21                                 0.605814\n",
       "                            17                                 0.595962\n",
       "                            13                                 0.587804"
      ]
     },
     "execution_count": 127,
     "metadata": {},
     "output_type": "execute_result"
    }
   ],
   "source": [
    "ranforest_results = pd.DataFrame(randfor_gs_knn.cv_results_)\n",
    "table = ranforest_results.pivot_table(values='mean_test_score',\n",
    "                                index=['param_randforest__max_depth', 'param_imputer__n_neighbors'])\n",
    "table.sort_values(by='mean_test_score', ascending=False)"
   ]
  },
  {
   "cell_type": "code",
   "execution_count": 128,
   "metadata": {
    "ExecuteTime": {
     "end_time": "2021-06-07T12:44:12.212983Z",
     "start_time": "2021-06-07T12:44:12.201018Z"
    }
   },
   "outputs": [],
   "source": [
    "best = randfor_gs_knn.cv_results_['mean_test_score'].max()\n",
    "model_result_6 = pd.DataFrame([best], index=['RandomForestClassifier + KNNImputer'], columns=['mean_test_score'])\n",
    "bestmodels_accuracy_list.append(model_result_6)"
   ]
  },
  {
   "cell_type": "code",
   "execution_count": 129,
   "metadata": {
    "ExecuteTime": {
     "end_time": "2021-06-07T12:44:12.887728Z",
     "start_time": "2021-06-07T12:44:12.858128Z"
    }
   },
   "outputs": [],
   "source": [
    "model_metrics_6 = get_scores(y_valid, y_pred, y_pred_proba, 'RandomForestClassifier + KNNImputer')\n",
    "bestmodels_metrics_list.append(model_metrics_6)"
   ]
  },
  {
   "cell_type": "markdown",
   "metadata": {},
   "source": [
    "## VotingClsf by LogisticRegression & LGBMClassifier & KNNClassifier + SimpleImputer"
   ]
  },
  {
   "cell_type": "markdown",
   "metadata": {},
   "source": [
    "### Подготовка"
   ]
  },
  {
   "cell_type": "code",
   "execution_count": 130,
   "metadata": {
    "ExecuteTime": {
     "end_time": "2021-06-07T12:44:13.552642Z",
     "start_time": "2021-06-07T12:44:13.539634Z"
    }
   },
   "outputs": [],
   "source": [
    "cat_columns =  X_train_te.select_dtypes(include='object').columns.tolist()\n",
    "num_columns =  X_valid_te.select_dtypes(exclude='object').columns.tolist()"
   ]
  },
  {
   "cell_type": "markdown",
   "metadata": {},
   "source": [
    "### Модель"
   ]
  },
  {
   "cell_type": "code",
   "execution_count": 131,
   "metadata": {
    "ExecuteTime": {
     "end_time": "2021-06-07T12:44:14.220385Z",
     "start_time": "2021-06-07T12:44:14.206371Z"
    }
   },
   "outputs": [],
   "source": [
    "# Конвейер для количественных переменных\n",
    "stacking_num_pipe = Pipeline([('imp', SimpleImputer()),\n",
    "                              ('scaler', MinMaxScaler())])\n",
    "# Конвейер для категориальных переменных\n",
    "stacking_cat_pipe = Pipeline([('imp', SimpleImputer())])\n",
    "\n",
    "# Создание трансформера\n",
    "stacking_transformers = [('num', stacking_num_pipe, num_columns),\n",
    "                         ('cat', stacking_cat_pipe, cat_columns)]\n",
    "\n",
    "stack_transformer = ColumnTransformer(transformers=stacking_transformers)"
   ]
  },
  {
   "cell_type": "code",
   "execution_count": 132,
   "metadata": {
    "ExecuteTime": {
     "end_time": "2021-06-07T12:44:14.990683Z",
     "start_time": "2021-06-07T12:44:14.977449Z"
    }
   },
   "outputs": [],
   "source": [
    "lgbmclsf = LGBMClassifier(n_estimators=50)\n",
    "knnclsf = KNeighborsClassifier()\n",
    "lrclsf = LogisticRegression()\n",
    "clf_st = VotingClassifier(estimators=[('lr', lrclsf), ('lgbm', lgbmclsf), ('knn', knnclsf)], voting='soft')"
   ]
  },
  {
   "cell_type": "code",
   "execution_count": 133,
   "metadata": {
    "ExecuteTime": {
     "end_time": "2021-06-07T12:44:15.683280Z",
     "start_time": "2021-06-07T12:44:15.669378Z"
    }
   },
   "outputs": [],
   "source": [
    "# Итоговый конвейер\n",
    "model = Pipeline([('tf', stack_transformer),\n",
    "                  ('stack', clf_st)])"
   ]
  },
  {
   "cell_type": "code",
   "execution_count": 134,
   "metadata": {
    "ExecuteTime": {
     "end_time": "2021-06-07T12:44:16.512156Z",
     "start_time": "2021-06-07T12:44:16.498970Z"
    }
   },
   "outputs": [],
   "source": [
    "stack_grid = {\n",
    "    'tf__cat__imp__strategy': ['most_frequent', 'constant'],\n",
    "    'tf__num__imp__strategy': ['mean', 'median'],\n",
    "    'stack__lr__C': [1, 2],\n",
    "    'stack__lgbm__max_depth':[2, 4],\n",
    "    'stack__knn__n_neighbors':[3, 7]\n",
    "}"
   ]
  },
  {
   "cell_type": "code",
   "execution_count": 135,
   "metadata": {
    "ExecuteTime": {
     "end_time": "2021-06-07T12:44:17.265032Z",
     "start_time": "2021-06-07T12:44:17.252068Z"
    }
   },
   "outputs": [],
   "source": [
    "stack_gs = GridSearchCV(model,\n",
    "                        stack_grid,\n",
    "                        cv=5,\n",
    "                        return_train_score=False,\n",
    "                        scoring=make_scorer(balanced_accuracy_score))"
   ]
  },
  {
   "cell_type": "code",
   "execution_count": 136,
   "metadata": {
    "ExecuteTime": {
     "end_time": "2021-06-07T12:45:52.339963Z",
     "start_time": "2021-06-07T12:44:18.126399Z"
    }
   },
   "outputs": [
    {
     "data": {
      "text/plain": [
       "GridSearchCV(cv=5,\n",
       "             estimator=Pipeline(steps=[('tf',\n",
       "                                        ColumnTransformer(transformers=[('num',\n",
       "                                                                         Pipeline(steps=[('imp',\n",
       "                                                                                          SimpleImputer()),\n",
       "                                                                                         ('scaler',\n",
       "                                                                                          MinMaxScaler())]),\n",
       "                                                                         ['city',\n",
       "                                                                          'city_development_index',\n",
       "                                                                          'gender',\n",
       "                                                                          'relevent_experience',\n",
       "                                                                          'enrolled_university',\n",
       "                                                                          'education_level',\n",
       "                                                                          'major_discipline',\n",
       "                                                                          'experience',\n",
       "                                                                          'company_size',\n",
       "                                                                          'company_type',\n",
       "                                                                          'last_new_job',\n",
       "                                                                          'training_ho...\n",
       "                                                                      LogisticRegression()),\n",
       "                                                                     ('lgbm',\n",
       "                                                                      LGBMClassifier(n_estimators=50)),\n",
       "                                                                     ('knn',\n",
       "                                                                      KNeighborsClassifier())],\n",
       "                                                         voting='soft'))]),\n",
       "             param_grid={'stack__knn__n_neighbors': [3, 7],\n",
       "                         'stack__lgbm__max_depth': [2, 4],\n",
       "                         'stack__lr__C': [1, 2],\n",
       "                         'tf__cat__imp__strategy': ['most_frequent',\n",
       "                                                    'constant'],\n",
       "                         'tf__num__imp__strategy': ['mean', 'median']},\n",
       "             scoring=make_scorer(balanced_accuracy_score))"
      ]
     },
     "execution_count": 136,
     "metadata": {},
     "output_type": "execute_result"
    }
   ],
   "source": [
    "stack_gs.fit(X_train_te, y_train)"
   ]
  },
  {
   "cell_type": "markdown",
   "metadata": {},
   "source": [
    "### Результаты"
   ]
  },
  {
   "cell_type": "code",
   "execution_count": 137,
   "metadata": {
    "ExecuteTime": {
     "end_time": "2021-06-07T12:45:53.209633Z",
     "start_time": "2021-06-07T12:45:53.196212Z"
    }
   },
   "outputs": [
    {
     "data": {
      "text/plain": [
       "{'stack__knn__n_neighbors': 7,\n",
       " 'stack__lgbm__max_depth': 4,\n",
       " 'stack__lr__C': 2,\n",
       " 'tf__cat__imp__strategy': 'most_frequent',\n",
       " 'tf__num__imp__strategy': 'mean'}"
      ]
     },
     "execution_count": 137,
     "metadata": {},
     "output_type": "execute_result"
    }
   ],
   "source": [
    "stack_gs.best_params_"
   ]
  },
  {
   "cell_type": "code",
   "execution_count": 138,
   "metadata": {
    "ExecuteTime": {
     "end_time": "2021-06-07T12:45:54.049669Z",
     "start_time": "2021-06-07T12:45:54.036683Z"
    }
   },
   "outputs": [
    {
     "data": {
      "text/plain": [
       "0.6564893159854465"
      ]
     },
     "execution_count": 138,
     "metadata": {},
     "output_type": "execute_result"
    }
   ],
   "source": [
    "stack_gs.best_score_"
   ]
  },
  {
   "cell_type": "code",
   "execution_count": 139,
   "metadata": {
    "ExecuteTime": {
     "end_time": "2021-06-07T12:45:57.010726Z",
     "start_time": "2021-06-07T12:45:54.975652Z"
    }
   },
   "outputs": [],
   "source": [
    "y_pred = stack_gs.predict(X_valid_te)\n",
    "y_pred_proba = stack_gs.predict_proba(X_valid_te)"
   ]
  },
  {
   "cell_type": "code",
   "execution_count": 140,
   "metadata": {
    "ExecuteTime": {
     "end_time": "2021-06-07T12:45:58.043447Z",
     "start_time": "2021-06-07T12:45:58.029544Z"
    }
   },
   "outputs": [],
   "source": [
    "cm = confusion_matrix(y_valid, y_pred)"
   ]
  },
  {
   "cell_type": "code",
   "execution_count": 141,
   "metadata": {
    "ExecuteTime": {
     "end_time": "2021-06-07T12:45:59.158274Z",
     "start_time": "2021-06-07T12:45:58.944873Z"
    }
   },
   "outputs": [
    {
     "data": {
      "image/png": "[encoded data removed]",
      "text/plain": [
       "<Figure size 600x400 with 2 Axes>"
      ]
     },
     "metadata": {
      "needs_background": "light"
     },
     "output_type": "display_data"
    }
   ],
   "source": [
    "plot_confusion_matrix(cm)"
   ]
  },
  {
   "cell_type": "code",
   "execution_count": 142,
   "metadata": {
    "ExecuteTime": {
     "end_time": "2021-06-07T12:46:00.291710Z",
     "start_time": "2021-06-07T12:46:00.249822Z"
    }
   },
   "outputs": [
    {
     "data": {
      "text/html": [
       "<div>\n",
       "<style scoped>\n",
       "    .dataframe tbody tr th:only-of-type {\n",
       "        vertical-align: middle;\n",
       "    }\n",
       "\n",
       "    .dataframe tbody tr th {\n",
       "        vertical-align: top;\n",
       "    }\n",
       "\n",
       "    .dataframe thead th {\n",
       "        text-align: right;\n",
       "    }\n",
       "</style>\n",
       "<table border=\"1\" class=\"dataframe\">\n",
       "  <thead>\n",
       "    <tr style=\"text-align: right;\">\n",
       "      <th></th>\n",
       "      <th></th>\n",
       "      <th></th>\n",
       "      <th></th>\n",
       "      <th></th>\n",
       "      <th>mean_test_score</th>\n",
       "    </tr>\n",
       "    <tr>\n",
       "      <th>param_tf__num__imp__strategy</th>\n",
       "      <th>param_tf__cat__imp__strategy</th>\n",
       "      <th>param_stack__lr__C</th>\n",
       "      <th>param_stack__lgbm__max_depth</th>\n",
       "      <th>param_stack__knn__n_neighbors</th>\n",
       "      <th></th>\n",
       "    </tr>\n",
       "  </thead>\n",
       "  <tbody>\n",
       "    <tr>\n",
       "      <th rowspan=\"4\" valign=\"top\">mean</th>\n",
       "      <th>constant</th>\n",
       "      <th>2</th>\n",
       "      <th>4</th>\n",
       "      <th>7</th>\n",
       "      <td>0.656489</td>\n",
       "    </tr>\n",
       "    <tr>\n",
       "      <th rowspan=\"2\" valign=\"top\">most_frequent</th>\n",
       "      <th>2</th>\n",
       "      <th>4</th>\n",
       "      <th>7</th>\n",
       "      <td>0.656489</td>\n",
       "    </tr>\n",
       "    <tr>\n",
       "      <th>1</th>\n",
       "      <th>4</th>\n",
       "      <th>7</th>\n",
       "      <td>0.656189</td>\n",
       "    </tr>\n",
       "    <tr>\n",
       "      <th>constant</th>\n",
       "      <th>1</th>\n",
       "      <th>4</th>\n",
       "      <th>7</th>\n",
       "      <td>0.656189</td>\n",
       "    </tr>\n",
       "    <tr>\n",
       "      <th rowspan=\"4\" valign=\"top\">median</th>\n",
       "      <th>constant</th>\n",
       "      <th>2</th>\n",
       "      <th>4</th>\n",
       "      <th>7</th>\n",
       "      <td>0.648591</td>\n",
       "    </tr>\n",
       "    <tr>\n",
       "      <th rowspan=\"2\" valign=\"top\">most_frequent</th>\n",
       "      <th>2</th>\n",
       "      <th>4</th>\n",
       "      <th>7</th>\n",
       "      <td>0.648591</td>\n",
       "    </tr>\n",
       "    <tr>\n",
       "      <th>1</th>\n",
       "      <th>4</th>\n",
       "      <th>7</th>\n",
       "      <td>0.648491</td>\n",
       "    </tr>\n",
       "    <tr>\n",
       "      <th>constant</th>\n",
       "      <th>1</th>\n",
       "      <th>4</th>\n",
       "      <th>7</th>\n",
       "      <td>0.648491</td>\n",
       "    </tr>\n",
       "    <tr>\n",
       "      <th rowspan=\"8\" valign=\"top\">mean</th>\n",
       "      <th>constant</th>\n",
       "      <th>2</th>\n",
       "      <th>2</th>\n",
       "      <th>7</th>\n",
       "      <td>0.647232</td>\n",
       "    </tr>\n",
       "    <tr>\n",
       "      <th rowspan=\"2\" valign=\"top\">most_frequent</th>\n",
       "      <th>2</th>\n",
       "      <th>2</th>\n",
       "      <th>7</th>\n",
       "      <td>0.647232</td>\n",
       "    </tr>\n",
       "    <tr>\n",
       "      <th>1</th>\n",
       "      <th>2</th>\n",
       "      <th>7</th>\n",
       "      <td>0.646932</td>\n",
       "    </tr>\n",
       "    <tr>\n",
       "      <th rowspan=\"2\" valign=\"top\">constant</th>\n",
       "      <th>1</th>\n",
       "      <th>2</th>\n",
       "      <th>7</th>\n",
       "      <td>0.646932</td>\n",
       "    </tr>\n",
       "    <tr>\n",
       "      <th>2</th>\n",
       "      <th>4</th>\n",
       "      <th>3</th>\n",
       "      <td>0.646889</td>\n",
       "    </tr>\n",
       "    <tr>\n",
       "      <th rowspan=\"2\" valign=\"top\">most_frequent</th>\n",
       "      <th>2</th>\n",
       "      <th>4</th>\n",
       "      <th>3</th>\n",
       "      <td>0.646889</td>\n",
       "    </tr>\n",
       "    <tr>\n",
       "      <th>1</th>\n",
       "      <th>4</th>\n",
       "      <th>3</th>\n",
       "      <td>0.646789</td>\n",
       "    </tr>\n",
       "    <tr>\n",
       "      <th>constant</th>\n",
       "      <th>1</th>\n",
       "      <th>4</th>\n",
       "      <th>3</th>\n",
       "      <td>0.646789</td>\n",
       "    </tr>\n",
       "    <tr>\n",
       "      <th rowspan=\"4\" valign=\"top\">median</th>\n",
       "      <th>constant</th>\n",
       "      <th>1</th>\n",
       "      <th>2</th>\n",
       "      <th>7</th>\n",
       "      <td>0.641438</td>\n",
       "    </tr>\n",
       "    <tr>\n",
       "      <th rowspan=\"2\" valign=\"top\">most_frequent</th>\n",
       "      <th>1</th>\n",
       "      <th>2</th>\n",
       "      <th>7</th>\n",
       "      <td>0.641438</td>\n",
       "    </tr>\n",
       "    <tr>\n",
       "      <th>2</th>\n",
       "      <th>2</th>\n",
       "      <th>7</th>\n",
       "      <td>0.641289</td>\n",
       "    </tr>\n",
       "    <tr>\n",
       "      <th>constant</th>\n",
       "      <th>2</th>\n",
       "      <th>2</th>\n",
       "      <th>7</th>\n",
       "      <td>0.641289</td>\n",
       "    </tr>\n",
       "    <tr>\n",
       "      <th rowspan=\"4\" valign=\"top\">mean</th>\n",
       "      <th>constant</th>\n",
       "      <th>2</th>\n",
       "      <th>2</th>\n",
       "      <th>3</th>\n",
       "      <td>0.638734</td>\n",
       "    </tr>\n",
       "    <tr>\n",
       "      <th>most_frequent</th>\n",
       "      <th>2</th>\n",
       "      <th>2</th>\n",
       "      <th>3</th>\n",
       "      <td>0.638734</td>\n",
       "    </tr>\n",
       "    <tr>\n",
       "      <th>constant</th>\n",
       "      <th>1</th>\n",
       "      <th>2</th>\n",
       "      <th>3</th>\n",
       "      <td>0.638484</td>\n",
       "    </tr>\n",
       "    <tr>\n",
       "      <th>most_frequent</th>\n",
       "      <th>1</th>\n",
       "      <th>2</th>\n",
       "      <th>3</th>\n",
       "      <td>0.638484</td>\n",
       "    </tr>\n",
       "    <tr>\n",
       "      <th rowspan=\"8\" valign=\"top\">median</th>\n",
       "      <th>constant</th>\n",
       "      <th>2</th>\n",
       "      <th>4</th>\n",
       "      <th>3</th>\n",
       "      <td>0.637540</td>\n",
       "    </tr>\n",
       "    <tr>\n",
       "      <th rowspan=\"2\" valign=\"top\">most_frequent</th>\n",
       "      <th>2</th>\n",
       "      <th>4</th>\n",
       "      <th>3</th>\n",
       "      <td>0.637540</td>\n",
       "    </tr>\n",
       "    <tr>\n",
       "      <th>1</th>\n",
       "      <th>4</th>\n",
       "      <th>3</th>\n",
       "      <td>0.637440</td>\n",
       "    </tr>\n",
       "    <tr>\n",
       "      <th>constant</th>\n",
       "      <th>1</th>\n",
       "      <th>4</th>\n",
       "      <th>3</th>\n",
       "      <td>0.637440</td>\n",
       "    </tr>\n",
       "    <tr>\n",
       "      <th>most_frequent</th>\n",
       "      <th>1</th>\n",
       "      <th>2</th>\n",
       "      <th>3</th>\n",
       "      <td>0.631886</td>\n",
       "    </tr>\n",
       "    <tr>\n",
       "      <th rowspan=\"2\" valign=\"top\">constant</th>\n",
       "      <th>1</th>\n",
       "      <th>2</th>\n",
       "      <th>3</th>\n",
       "      <td>0.631886</td>\n",
       "    </tr>\n",
       "    <tr>\n",
       "      <th>2</th>\n",
       "      <th>2</th>\n",
       "      <th>3</th>\n",
       "      <td>0.631786</td>\n",
       "    </tr>\n",
       "    <tr>\n",
       "      <th>most_frequent</th>\n",
       "      <th>2</th>\n",
       "      <th>2</th>\n",
       "      <th>3</th>\n",
       "      <td>0.631786</td>\n",
       "    </tr>\n",
       "  </tbody>\n",
       "</table>\n",
       "</div>"
      ],
      "text/plain": [
       "                                                                                                                                         mean_test_score\n",
       "param_tf__num__imp__strategy param_tf__cat__imp__strategy param_stack__lr__C param_stack__lgbm__max_depth param_stack__knn__n_neighbors                 \n",
       "mean                         constant                     2                  4                            7                                     0.656489\n",
       "                             most_frequent                2                  4                            7                                     0.656489\n",
       "                                                          1                  4                            7                                     0.656189\n",
       "                             constant                     1                  4                            7                                     0.656189\n",
       "median                       constant                     2                  4                            7                                     0.648591\n",
       "                             most_frequent                2                  4                            7                                     0.648591\n",
       "                                                          1                  4                            7                                     0.648491\n",
       "                             constant                     1                  4                            7                                     0.648491\n",
       "mean                         constant                     2                  2                            7                                     0.647232\n",
       "                             most_frequent                2                  2                            7                                     0.647232\n",
       "                                                          1                  2                            7                                     0.646932\n",
       "                             constant                     1                  2                            7                                     0.646932\n",
       "                                                          2                  4                            3                                     0.646889\n",
       "                             most_frequent                2                  4                            3                                     0.646889\n",
       "                                                          1                  4                            3                                     0.646789\n",
       "                             constant                     1                  4                            3                                     0.646789\n",
       "median                       constant                     1                  2                            7                                     0.641438\n",
       "                             most_frequent                1                  2                            7                                     0.641438\n",
       "                                                          2                  2                            7                                     0.641289\n",
       "                             constant                     2                  2                            7                                     0.641289\n",
       "mean                         constant                     2                  2                            3                                     0.638734\n",
       "                             most_frequent                2                  2                            3                                     0.638734\n",
       "                             constant                     1                  2                            3                                     0.638484\n",
       "                             most_frequent                1                  2                            3                                     0.638484\n",
       "median                       constant                     2                  4                            3                                     0.637540\n",
       "                             most_frequent                2                  4                            3                                     0.637540\n",
       "                                                          1                  4                            3                                     0.637440\n",
       "                             constant                     1                  4                            3                                     0.637440\n",
       "                             most_frequent                1                  2                            3                                     0.631886\n",
       "                             constant                     1                  2                            3                                     0.631886\n",
       "                                                          2                  2                            3                                     0.631786\n",
       "                             most_frequent                2                  2                            3                                     0.631786"
      ]
     },
     "execution_count": 142,
     "metadata": {},
     "output_type": "execute_result"
    }
   ],
   "source": [
    "stack_results = pd.DataFrame(stack_gs.cv_results_)\n",
    "table = stack_results.pivot_table(values='mean_test_score',\n",
    "                                  index=['param_tf__num__imp__strategy',\n",
    "                                         'param_tf__cat__imp__strategy',\n",
    "                                         'param_stack__lr__C',\n",
    "                                         'param_stack__lgbm__max_depth',\n",
    "                                         'param_stack__knn__n_neighbors'])\n",
    "table.sort_values(by='mean_test_score', ascending=False)"
   ]
  },
  {
   "cell_type": "code",
   "execution_count": 143,
   "metadata": {
    "ExecuteTime": {
     "end_time": "2021-06-07T12:46:01.706928Z",
     "start_time": "2021-06-07T12:46:01.691968Z"
    }
   },
   "outputs": [],
   "source": [
    "best = stack_gs.cv_results_['mean_test_score'].max()\n",
    "model_result_7 = pd.DataFrame([best], \n",
    "                              index=['VotingClsf by LogReg & LGBMClassifier & KNNClassifier + SimpleImputer'], \n",
    "                              columns=['mean_test_score'])\n",
    "bestmodels_accuracy_list.append(model_result_7)"
   ]
  },
  {
   "cell_type": "code",
   "execution_count": 144,
   "metadata": {
    "ExecuteTime": {
     "end_time": "2021-06-07T12:46:02.936145Z",
     "start_time": "2021-06-07T12:46:02.906720Z"
    }
   },
   "outputs": [],
   "source": [
    "model_metrics_7 = get_scores(y_valid, y_pred, y_pred_proba, 'VotingClsf by LogReg & LGBMClassifier & KNNClassifier + SimpleImputer')\n",
    "bestmodels_metrics_list.append(model_metrics_7)"
   ]
  },
  {
   "cell_type": "markdown",
   "metadata": {},
   "source": [
    "# Overview"
   ]
  },
  {
   "cell_type": "code",
   "execution_count": 145,
   "metadata": {
    "ExecuteTime": {
     "end_time": "2021-06-07T12:46:04.013395Z",
     "start_time": "2021-06-07T12:46:04.000404Z"
    }
   },
   "outputs": [
    {
     "data": {
      "text/html": [
       "<div>\n",
       "<style scoped>\n",
       "    .dataframe tbody tr th:only-of-type {\n",
       "        vertical-align: middle;\n",
       "    }\n",
       "\n",
       "    .dataframe tbody tr th {\n",
       "        vertical-align: top;\n",
       "    }\n",
       "\n",
       "    .dataframe thead th {\n",
       "        text-align: right;\n",
       "    }\n",
       "</style>\n",
       "<table border=\"1\" class=\"dataframe\">\n",
       "  <thead>\n",
       "    <tr style=\"text-align: right;\">\n",
       "      <th></th>\n",
       "      <th>mean_test_score</th>\n",
       "    </tr>\n",
       "  </thead>\n",
       "  <tbody>\n",
       "    <tr>\n",
       "      <th>RandomForestClassifier + SMOTE + SimpleImputer</th>\n",
       "      <td>0.771168</td>\n",
       "    </tr>\n",
       "    <tr>\n",
       "      <th>CatBoost + SMOTE + SimpleImputer</th>\n",
       "      <td>0.758261</td>\n",
       "    </tr>\n",
       "    <tr>\n",
       "      <th>CatBoost + SimpleImputer</th>\n",
       "      <td>0.721221</td>\n",
       "    </tr>\n",
       "    <tr>\n",
       "      <th>CatBoost + KNNImputer</th>\n",
       "      <td>0.690860</td>\n",
       "    </tr>\n",
       "    <tr>\n",
       "      <th>RandomForestClassifier + SimpleImputer</th>\n",
       "      <td>0.671645</td>\n",
       "    </tr>\n",
       "    <tr>\n",
       "      <th>RandomForestClassifier + KNNImputer</th>\n",
       "      <td>0.671451</td>\n",
       "    </tr>\n",
       "    <tr>\n",
       "      <th>VotingClsf by LogReg &amp; LGBMClassifier &amp; KNNClassifier + SimpleImputer</th>\n",
       "      <td>0.656489</td>\n",
       "    </tr>\n",
       "  </tbody>\n",
       "</table>\n",
       "</div>"
      ],
      "text/plain": [
       "                                                    mean_test_score\n",
       "RandomForestClassifier + SMOTE + SimpleImputer             0.771168\n",
       "CatBoost + SMOTE + SimpleImputer                           0.758261\n",
       "CatBoost + SimpleImputer                                   0.721221\n",
       "CatBoost + KNNImputer                                      0.690860\n",
       "RandomForestClassifier + SimpleImputer                     0.671645\n",
       "RandomForestClassifier + KNNImputer                        0.671451\n",
       "VotingClsf by LogReg & LGBMClassifier & KNNClas...         0.656489"
      ]
     },
     "execution_count": 145,
     "metadata": {},
     "output_type": "execute_result"
    }
   ],
   "source": [
    "# Сводная таблица моделей по mean_test_score\n",
    "overview_accuracy_df = pd.concat(bestmodels_accuracy_list)\n",
    "overview_accuracy_df.sort_values(by='mean_test_score', ascending=False)"
   ]
  },
  {
   "cell_type": "code",
   "execution_count": 146,
   "metadata": {
    "ExecuteTime": {
     "end_time": "2021-06-07T12:46:04.928797Z",
     "start_time": "2021-06-07T12:46:04.904862Z"
    }
   },
   "outputs": [
    {
     "data": {
      "text/html": [
       "<div>\n",
       "<style scoped>\n",
       "    .dataframe tbody tr th:only-of-type {\n",
       "        vertical-align: middle;\n",
       "    }\n",
       "\n",
       "    .dataframe tbody tr th {\n",
       "        vertical-align: top;\n",
       "    }\n",
       "\n",
       "    .dataframe thead th {\n",
       "        text-align: right;\n",
       "    }\n",
       "</style>\n",
       "<table border=\"1\" class=\"dataframe\">\n",
       "  <thead>\n",
       "    <tr style=\"text-align: right;\">\n",
       "      <th></th>\n",
       "      <th>Accuracy</th>\n",
       "      <th>ROC-AUC</th>\n",
       "      <th>F1</th>\n",
       "      <th>Precision_0</th>\n",
       "      <th>Precision_1</th>\n",
       "      <th>Recall_0</th>\n",
       "      <th>Recall_1</th>\n",
       "    </tr>\n",
       "  </thead>\n",
       "  <tbody>\n",
       "    <tr>\n",
       "      <th>CatBoost + SimpleImputer</th>\n",
       "      <td>0.789988</td>\n",
       "      <td>0.792329</td>\n",
       "      <td>0.567218</td>\n",
       "      <td>0.853686</td>\n",
       "      <td>0.583580</td>\n",
       "      <td>0.869161</td>\n",
       "      <td>0.551748</td>\n",
       "    </tr>\n",
       "    <tr>\n",
       "      <th>CatBoost + SMOTE + SimpleImputer</th>\n",
       "      <td>0.789813</td>\n",
       "      <td>0.787260</td>\n",
       "      <td>0.601653</td>\n",
       "      <td>0.874335</td>\n",
       "      <td>0.570533</td>\n",
       "      <td>0.840809</td>\n",
       "      <td>0.636364</td>\n",
       "    </tr>\n",
       "    <tr>\n",
       "      <th>CatBoost + KNNImputer</th>\n",
       "      <td>0.787023</td>\n",
       "      <td>0.786174</td>\n",
       "      <td>0.531646</td>\n",
       "      <td>0.838235</td>\n",
       "      <td>0.588785</td>\n",
       "      <td>0.887520</td>\n",
       "      <td>0.484615</td>\n",
       "    </tr>\n",
       "    <tr>\n",
       "      <th>RandomForestClassifier + SimpleImputer</th>\n",
       "      <td>0.781092</td>\n",
       "      <td>0.789857</td>\n",
       "      <td>0.491285</td>\n",
       "      <td>0.824532</td>\n",
       "      <td>0.584378</td>\n",
       "      <td>0.899837</td>\n",
       "      <td>0.423776</td>\n",
       "    </tr>\n",
       "    <tr>\n",
       "      <th>RandomForestClassifier + SMOTE + SimpleImputer</th>\n",
       "      <td>0.778824</td>\n",
       "      <td>0.790163</td>\n",
       "      <td>0.615758</td>\n",
       "      <td>0.892829</td>\n",
       "      <td>0.543316</td>\n",
       "      <td>0.801534</td>\n",
       "      <td>0.710490</td>\n",
       "    </tr>\n",
       "    <tr>\n",
       "      <th>RandomForestClassifier + KNNImputer</th>\n",
       "      <td>0.780394</td>\n",
       "      <td>0.784084</td>\n",
       "      <td>0.492543</td>\n",
       "      <td>0.825075</td>\n",
       "      <td>0.581351</td>\n",
       "      <td>0.897746</td>\n",
       "      <td>0.427273</td>\n",
       "    </tr>\n",
       "    <tr>\n",
       "      <th>VotingClsf by LogReg &amp; LGBMClassifier &amp; KNNClassifier + SimpleImputer</th>\n",
       "      <td>0.776208</td>\n",
       "      <td>0.783784</td>\n",
       "      <td>0.458878</td>\n",
       "      <td>0.815109</td>\n",
       "      <td>0.578108</td>\n",
       "      <td>0.907739</td>\n",
       "      <td>0.380420</td>\n",
       "    </tr>\n",
       "  </tbody>\n",
       "</table>\n",
       "</div>"
      ],
      "text/plain": [
       "                                                    Accuracy   ROC-AUC  \\\n",
       "CatBoost + SimpleImputer                            0.789988  0.792329   \n",
       "CatBoost + SMOTE + SimpleImputer                    0.789813  0.787260   \n",
       "CatBoost + KNNImputer                               0.787023  0.786174   \n",
       "RandomForestClassifier + SimpleImputer              0.781092  0.789857   \n",
       "RandomForestClassifier + SMOTE + SimpleImputer      0.778824  0.790163   \n",
       "RandomForestClassifier + KNNImputer                 0.780394  0.784084   \n",
       "VotingClsf by LogReg & LGBMClassifier & KNNClas...  0.776208  0.783784   \n",
       "\n",
       "                                                          F1  Precision_0  \\\n",
       "CatBoost + SimpleImputer                            0.567218     0.853686   \n",
       "CatBoost + SMOTE + SimpleImputer                    0.601653     0.874335   \n",
       "CatBoost + KNNImputer                               0.531646     0.838235   \n",
       "RandomForestClassifier + SimpleImputer              0.491285     0.824532   \n",
       "RandomForestClassifier + SMOTE + SimpleImputer      0.615758     0.892829   \n",
       "RandomForestClassifier + KNNImputer                 0.492543     0.825075   \n",
       "VotingClsf by LogReg & LGBMClassifier & KNNClas...  0.458878     0.815109   \n",
       "\n",
       "                                                    Precision_1  Recall_0  \\\n",
       "CatBoost + SimpleImputer                               0.583580  0.869161   \n",
       "CatBoost + SMOTE + SimpleImputer                       0.570533  0.840809   \n",
       "CatBoost + KNNImputer                                  0.588785  0.887520   \n",
       "RandomForestClassifier + SimpleImputer                 0.584378  0.899837   \n",
       "RandomForestClassifier + SMOTE + SimpleImputer         0.543316  0.801534   \n",
       "RandomForestClassifier + KNNImputer                    0.581351  0.897746   \n",
       "VotingClsf by LogReg & LGBMClassifier & KNNClas...     0.578108  0.907739   \n",
       "\n",
       "                                                    Recall_1  \n",
       "CatBoost + SimpleImputer                            0.551748  \n",
       "CatBoost + SMOTE + SimpleImputer                    0.636364  \n",
       "CatBoost + KNNImputer                               0.484615  \n",
       "RandomForestClassifier + SimpleImputer              0.423776  \n",
       "RandomForestClassifier + SMOTE + SimpleImputer      0.710490  \n",
       "RandomForestClassifier + KNNImputer                 0.427273  \n",
       "VotingClsf by LogReg & LGBMClassifier & KNNClas...  0.380420  "
      ]
     },
     "execution_count": 146,
     "metadata": {},
     "output_type": "execute_result"
    }
   ],
   "source": [
    "# Сводная таблица моделей с метриками\n",
    "overview_metrics_df = pd.concat(bestmodels_metrics_list)\n",
    "overview_metrics_df"
   ]
  },
  {
   "cell_type": "code",
   "execution_count": 147,
   "metadata": {
    "ExecuteTime": {
     "end_time": "2021-06-07T12:46:05.984867Z",
     "start_time": "2021-06-07T12:46:05.971589Z"
    }
   },
   "outputs": [],
   "source": [
    "def highlight_max(s):\n",
    "    '''\n",
    "    highlight the maximum in a Series yellow.\n",
    "    '''\n",
    "    is_max = s == s.max()\n",
    "    return ['background-color: lightgreen' if v else '' for v in is_max]"
   ]
  },
  {
   "cell_type": "code",
   "execution_count": 148,
   "metadata": {
    "ExecuteTime": {
     "end_time": "2021-06-07T12:46:06.995374Z",
     "start_time": "2021-06-07T12:46:06.920544Z"
    }
   },
   "outputs": [
    {
     "data": {
      "text/html": [
       "<style  type=\"text/css\" >\n",
       "#T_e1de9_row0_col0,#T_e1de9_row0_col1,#T_e1de9_row2_col4,#T_e1de9_row4_col2,#T_e1de9_row4_col3,#T_e1de9_row4_col6,#T_e1de9_row6_col5{\n",
       "            background-color:  lightgreen;\n",
       "        }</style><table id=\"T_e1de9_\" ><thead>    <tr>        <th class=\"blank level0\" ></th>        <th class=\"col_heading level0 col0\" >Accuracy</th>        <th class=\"col_heading level0 col1\" >ROC-AUC</th>        <th class=\"col_heading level0 col2\" >F1</th>        <th class=\"col_heading level0 col3\" >Precision_0</th>        <th class=\"col_heading level0 col4\" >Precision_1</th>        <th class=\"col_heading level0 col5\" >Recall_0</th>        <th class=\"col_heading level0 col6\" >Recall_1</th>    </tr></thead><tbody>\n",
       "                <tr>\n",
       "                        <th id=\"T_e1de9_level0_row0\" class=\"row_heading level0 row0\" >0</th>\n",
       "                        <td id=\"T_e1de9_row0_col0\" class=\"data row0 col0\" >0.789988</td>\n",
       "                        <td id=\"T_e1de9_row0_col1\" class=\"data row0 col1\" >0.792329</td>\n",
       "                        <td id=\"T_e1de9_row0_col2\" class=\"data row0 col2\" >0.567218</td>\n",
       "                        <td id=\"T_e1de9_row0_col3\" class=\"data row0 col3\" >0.853686</td>\n",
       "                        <td id=\"T_e1de9_row0_col4\" class=\"data row0 col4\" >0.583580</td>\n",
       "                        <td id=\"T_e1de9_row0_col5\" class=\"data row0 col5\" >0.869161</td>\n",
       "                        <td id=\"T_e1de9_row0_col6\" class=\"data row0 col6\" >0.551748</td>\n",
       "            </tr>\n",
       "            <tr>\n",
       "                        <th id=\"T_e1de9_level0_row1\" class=\"row_heading level0 row1\" >1</th>\n",
       "                        <td id=\"T_e1de9_row1_col0\" class=\"data row1 col0\" >0.789813</td>\n",
       "                        <td id=\"T_e1de9_row1_col1\" class=\"data row1 col1\" >0.787260</td>\n",
       "                        <td id=\"T_e1de9_row1_col2\" class=\"data row1 col2\" >0.601653</td>\n",
       "                        <td id=\"T_e1de9_row1_col3\" class=\"data row1 col3\" >0.874335</td>\n",
       "                        <td id=\"T_e1de9_row1_col4\" class=\"data row1 col4\" >0.570533</td>\n",
       "                        <td id=\"T_e1de9_row1_col5\" class=\"data row1 col5\" >0.840809</td>\n",
       "                        <td id=\"T_e1de9_row1_col6\" class=\"data row1 col6\" >0.636364</td>\n",
       "            </tr>\n",
       "            <tr>\n",
       "                        <th id=\"T_e1de9_level0_row2\" class=\"row_heading level0 row2\" >2</th>\n",
       "                        <td id=\"T_e1de9_row2_col0\" class=\"data row2 col0\" >0.787023</td>\n",
       "                        <td id=\"T_e1de9_row2_col1\" class=\"data row2 col1\" >0.786174</td>\n",
       "                        <td id=\"T_e1de9_row2_col2\" class=\"data row2 col2\" >0.531646</td>\n",
       "                        <td id=\"T_e1de9_row2_col3\" class=\"data row2 col3\" >0.838235</td>\n",
       "                        <td id=\"T_e1de9_row2_col4\" class=\"data row2 col4\" >0.588785</td>\n",
       "                        <td id=\"T_e1de9_row2_col5\" class=\"data row2 col5\" >0.887520</td>\n",
       "                        <td id=\"T_e1de9_row2_col6\" class=\"data row2 col6\" >0.484615</td>\n",
       "            </tr>\n",
       "            <tr>\n",
       "                        <th id=\"T_e1de9_level0_row3\" class=\"row_heading level0 row3\" >3</th>\n",
       "                        <td id=\"T_e1de9_row3_col0\" class=\"data row3 col0\" >0.781092</td>\n",
       "                        <td id=\"T_e1de9_row3_col1\" class=\"data row3 col1\" >0.789857</td>\n",
       "                        <td id=\"T_e1de9_row3_col2\" class=\"data row3 col2\" >0.491285</td>\n",
       "                        <td id=\"T_e1de9_row3_col3\" class=\"data row3 col3\" >0.824532</td>\n",
       "                        <td id=\"T_e1de9_row3_col4\" class=\"data row3 col4\" >0.584378</td>\n",
       "                        <td id=\"T_e1de9_row3_col5\" class=\"data row3 col5\" >0.899837</td>\n",
       "                        <td id=\"T_e1de9_row3_col6\" class=\"data row3 col6\" >0.423776</td>\n",
       "            </tr>\n",
       "            <tr>\n",
       "                        <th id=\"T_e1de9_level0_row4\" class=\"row_heading level0 row4\" >4</th>\n",
       "                        <td id=\"T_e1de9_row4_col0\" class=\"data row4 col0\" >0.778824</td>\n",
       "                        <td id=\"T_e1de9_row4_col1\" class=\"data row4 col1\" >0.790163</td>\n",
       "                        <td id=\"T_e1de9_row4_col2\" class=\"data row4 col2\" >0.615758</td>\n",
       "                        <td id=\"T_e1de9_row4_col3\" class=\"data row4 col3\" >0.892829</td>\n",
       "                        <td id=\"T_e1de9_row4_col4\" class=\"data row4 col4\" >0.543316</td>\n",
       "                        <td id=\"T_e1de9_row4_col5\" class=\"data row4 col5\" >0.801534</td>\n",
       "                        <td id=\"T_e1de9_row4_col6\" class=\"data row4 col6\" >0.710490</td>\n",
       "            </tr>\n",
       "            <tr>\n",
       "                        <th id=\"T_e1de9_level0_row5\" class=\"row_heading level0 row5\" >5</th>\n",
       "                        <td id=\"T_e1de9_row5_col0\" class=\"data row5 col0\" >0.780394</td>\n",
       "                        <td id=\"T_e1de9_row5_col1\" class=\"data row5 col1\" >0.784084</td>\n",
       "                        <td id=\"T_e1de9_row5_col2\" class=\"data row5 col2\" >0.492543</td>\n",
       "                        <td id=\"T_e1de9_row5_col3\" class=\"data row5 col3\" >0.825075</td>\n",
       "                        <td id=\"T_e1de9_row5_col4\" class=\"data row5 col4\" >0.581351</td>\n",
       "                        <td id=\"T_e1de9_row5_col5\" class=\"data row5 col5\" >0.897746</td>\n",
       "                        <td id=\"T_e1de9_row5_col6\" class=\"data row5 col6\" >0.427273</td>\n",
       "            </tr>\n",
       "            <tr>\n",
       "                        <th id=\"T_e1de9_level0_row6\" class=\"row_heading level0 row6\" >6</th>\n",
       "                        <td id=\"T_e1de9_row6_col0\" class=\"data row6 col0\" >0.776208</td>\n",
       "                        <td id=\"T_e1de9_row6_col1\" class=\"data row6 col1\" >0.783784</td>\n",
       "                        <td id=\"T_e1de9_row6_col2\" class=\"data row6 col2\" >0.458878</td>\n",
       "                        <td id=\"T_e1de9_row6_col3\" class=\"data row6 col3\" >0.815109</td>\n",
       "                        <td id=\"T_e1de9_row6_col4\" class=\"data row6 col4\" >0.578108</td>\n",
       "                        <td id=\"T_e1de9_row6_col5\" class=\"data row6 col5\" >0.907739</td>\n",
       "                        <td id=\"T_e1de9_row6_col6\" class=\"data row6 col6\" >0.380420</td>\n",
       "            </tr>\n",
       "    </tbody></table>"
      ],
      "text/plain": [
       "<pandas.io.formats.style.Styler at 0x2384e06b2c8>"
      ]
     },
     "execution_count": 148,
     "metadata": {},
     "output_type": "execute_result"
    }
   ],
   "source": [
    "overview_metrics_df.reset_index(drop=True).style.apply(highlight_max)"
   ]
  },
  {
   "cell_type": "markdown",
   "metadata": {
    "id": "EGb58tZp2Stb"
   },
   "source": [
    "## Подготовка TRAIN и TEST"
   ]
  },
  {
   "cell_type": "code",
   "execution_count": 157,
   "metadata": {
    "ExecuteTime": {
     "end_time": "2021-06-07T12:59:47.394265Z",
     "start_time": "2021-06-07T12:59:47.356312Z"
    }
   },
   "outputs": [
    {
     "data": {
      "text/html": [
       "<div>\n",
       "<style scoped>\n",
       "    .dataframe tbody tr th:only-of-type {\n",
       "        vertical-align: middle;\n",
       "    }\n",
       "\n",
       "    .dataframe tbody tr th {\n",
       "        vertical-align: top;\n",
       "    }\n",
       "\n",
       "    .dataframe thead th {\n",
       "        text-align: right;\n",
       "    }\n",
       "</style>\n",
       "<table border=\"1\" class=\"dataframe\">\n",
       "  <thead>\n",
       "    <tr style=\"text-align: right;\">\n",
       "      <th></th>\n",
       "      <th>enrollee_id</th>\n",
       "      <th>city</th>\n",
       "      <th>city_development_index</th>\n",
       "      <th>gender</th>\n",
       "      <th>relevent_experience</th>\n",
       "      <th>enrolled_university</th>\n",
       "      <th>education_level</th>\n",
       "      <th>major_discipline</th>\n",
       "      <th>experience</th>\n",
       "      <th>company_size</th>\n",
       "      <th>company_type</th>\n",
       "      <th>last_new_job</th>\n",
       "      <th>training_hours</th>\n",
       "    </tr>\n",
       "  </thead>\n",
       "  <tbody>\n",
       "    <tr>\n",
       "      <th>0</th>\n",
       "      <td>32403</td>\n",
       "      <td>city_41</td>\n",
       "      <td>0.827</td>\n",
       "      <td>Male</td>\n",
       "      <td>Has relevent experience</td>\n",
       "      <td>Full time course</td>\n",
       "      <td>Graduate</td>\n",
       "      <td>STEM</td>\n",
       "      <td>9</td>\n",
       "      <td>&lt;10</td>\n",
       "      <td>NaN</td>\n",
       "      <td>1</td>\n",
       "      <td>21</td>\n",
       "    </tr>\n",
       "    <tr>\n",
       "      <th>1</th>\n",
       "      <td>9858</td>\n",
       "      <td>city_103</td>\n",
       "      <td>0.920</td>\n",
       "      <td>Female</td>\n",
       "      <td>Has relevent experience</td>\n",
       "      <td>no_enrollment</td>\n",
       "      <td>Graduate</td>\n",
       "      <td>STEM</td>\n",
       "      <td>5</td>\n",
       "      <td>NaN</td>\n",
       "      <td>Pvt Ltd</td>\n",
       "      <td>1</td>\n",
       "      <td>98</td>\n",
       "    </tr>\n",
       "    <tr>\n",
       "      <th>2</th>\n",
       "      <td>31806</td>\n",
       "      <td>city_21</td>\n",
       "      <td>0.624</td>\n",
       "      <td>Male</td>\n",
       "      <td>No relevent experience</td>\n",
       "      <td>no_enrollment</td>\n",
       "      <td>High School</td>\n",
       "      <td>NaN</td>\n",
       "      <td>&lt;1</td>\n",
       "      <td>NaN</td>\n",
       "      <td>Pvt Ltd</td>\n",
       "      <td>never</td>\n",
       "      <td>15</td>\n",
       "    </tr>\n",
       "    <tr>\n",
       "      <th>3</th>\n",
       "      <td>27385</td>\n",
       "      <td>city_13</td>\n",
       "      <td>0.827</td>\n",
       "      <td>Male</td>\n",
       "      <td>Has relevent experience</td>\n",
       "      <td>no_enrollment</td>\n",
       "      <td>Masters</td>\n",
       "      <td>STEM</td>\n",
       "      <td>11</td>\n",
       "      <td>10/49</td>\n",
       "      <td>Pvt Ltd</td>\n",
       "      <td>1</td>\n",
       "      <td>39</td>\n",
       "    </tr>\n",
       "    <tr>\n",
       "      <th>4</th>\n",
       "      <td>27724</td>\n",
       "      <td>city_103</td>\n",
       "      <td>0.920</td>\n",
       "      <td>Male</td>\n",
       "      <td>Has relevent experience</td>\n",
       "      <td>no_enrollment</td>\n",
       "      <td>Graduate</td>\n",
       "      <td>STEM</td>\n",
       "      <td>&gt;20</td>\n",
       "      <td>10000+</td>\n",
       "      <td>Pvt Ltd</td>\n",
       "      <td>&gt;4</td>\n",
       "      <td>72</td>\n",
       "    </tr>\n",
       "  </tbody>\n",
       "</table>\n",
       "</div>"
      ],
      "text/plain": [
       "   enrollee_id      city  city_development_index  gender  \\\n",
       "0        32403   city_41                   0.827    Male   \n",
       "1         9858  city_103                   0.920  Female   \n",
       "2        31806   city_21                   0.624    Male   \n",
       "3        27385   city_13                   0.827    Male   \n",
       "4        27724  city_103                   0.920    Male   \n",
       "\n",
       "       relevent_experience enrolled_university education_level  \\\n",
       "0  Has relevent experience    Full time course        Graduate   \n",
       "1  Has relevent experience       no_enrollment        Graduate   \n",
       "2   No relevent experience       no_enrollment     High School   \n",
       "3  Has relevent experience       no_enrollment         Masters   \n",
       "4  Has relevent experience       no_enrollment        Graduate   \n",
       "\n",
       "  major_discipline experience company_size company_type last_new_job  \\\n",
       "0             STEM          9          <10          NaN            1   \n",
       "1             STEM          5          NaN      Pvt Ltd            1   \n",
       "2              NaN         <1          NaN      Pvt Ltd        never   \n",
       "3             STEM         11        10/49      Pvt Ltd            1   \n",
       "4             STEM        >20       10000+      Pvt Ltd           >4   \n",
       "\n",
       "   training_hours  \n",
       "0              21  \n",
       "1              98  \n",
       "2              15  \n",
       "3              39  \n",
       "4              72  "
      ]
     },
     "execution_count": 157,
     "metadata": {},
     "output_type": "execute_result"
    }
   ],
   "source": [
    "TEST = pd.read_csv('C:/Users/malya/Desktop/Datasets/HR/HR Analytics Job Change of Data Scientists/aug_test.csv')\n",
    "TEST.head()"
   ]
  },
  {
   "cell_type": "code",
   "execution_count": 163,
   "metadata": {
    "ExecuteTime": {
     "end_time": "2021-06-07T13:00:20.229527Z",
     "start_time": "2021-06-07T13:00:20.219499Z"
    }
   },
   "outputs": [],
   "source": [
    "# ID для посылки\n",
    "iden = TEST['enrollee_id']\n",
    "del TEST['enrollee_id']"
   ]
  },
  {
   "cell_type": "code",
   "execution_count": 164,
   "metadata": {
    "ExecuteTime": {
     "end_time": "2021-06-07T13:00:21.333219Z",
     "start_time": "2021-06-07T13:00:21.319229Z"
    }
   },
   "outputs": [],
   "source": [
    "TRAIN = features.copy()"
   ]
  },
  {
   "cell_type": "markdown",
   "metadata": {},
   "source": [
    "### Укрупнение редких категорий"
   ]
  },
  {
   "cell_type": "code",
   "execution_count": 159,
   "metadata": {
    "ExecuteTime": {
     "end_time": "2021-06-07T12:59:51.106745Z",
     "start_time": "2021-06-07T12:59:51.089761Z"
    }
   },
   "outputs": [],
   "source": [
    "raregrouper = RareGrouper(threshold=(30/20000))\n",
    "raregrouper.fit(TRAIN[['city']])\n",
    "TRAIN['city'] = raregrouper.transform(TRAIN[['city']])\n",
    "TEST['city'] = raregrouper.transform(TEST[['city']])"
   ]
  },
  {
   "cell_type": "code",
   "execution_count": 160,
   "metadata": {
    "ExecuteTime": {
     "end_time": "2021-06-07T12:59:52.189036Z",
     "start_time": "2021-06-07T12:59:52.159117Z"
    }
   },
   "outputs": [
    {
     "data": {
      "text/plain": [
       "{}"
      ]
     },
     "execution_count": 160,
     "metadata": {},
     "output_type": "execute_result"
    }
   ],
   "source": [
    "# TRAIN - TEST\n",
    "check_diff_categories(TRAIN, TEST)"
   ]
  },
  {
   "cell_type": "code",
   "execution_count": 161,
   "metadata": {
    "ExecuteTime": {
     "end_time": "2021-06-07T12:59:53.179368Z",
     "start_time": "2021-06-07T12:59:53.150459Z"
    }
   },
   "outputs": [
    {
     "data": {
      "text/plain": [
       "{}"
      ]
     },
     "execution_count": 161,
     "metadata": {},
     "output_type": "execute_result"
    }
   ],
   "source": [
    "# TEST - TRAIN\n",
    "check_diff_categories(TEST, TRAIN)"
   ]
  },
  {
   "cell_type": "markdown",
   "metadata": {},
   "source": [
    "### Polynominal feature"
   ]
  },
  {
   "cell_type": "code",
   "execution_count": 165,
   "metadata": {
    "ExecuteTime": {
     "end_time": "2021-06-07T13:00:25.218597Z",
     "start_time": "2021-06-07T13:00:25.207627Z"
    }
   },
   "outputs": [],
   "source": [
    "num_columns =  TEST.select_dtypes(exclude='object').columns.tolist()"
   ]
  },
  {
   "cell_type": "code",
   "execution_count": 166,
   "metadata": {
    "ExecuteTime": {
     "end_time": "2021-06-07T13:00:32.069785Z",
     "start_time": "2021-06-07T13:00:32.052796Z"
    },
    "id": "tJWMhS_cdUjX",
    "outputId": "9ccea002-bc1b-4732-d2b4-ddbd336c093f"
   },
   "outputs": [
    {
     "data": {
      "text/html": [
       "<div>\n",
       "<style scoped>\n",
       "    .dataframe tbody tr th:only-of-type {\n",
       "        vertical-align: middle;\n",
       "    }\n",
       "\n",
       "    .dataframe tbody tr th {\n",
       "        vertical-align: top;\n",
       "    }\n",
       "\n",
       "    .dataframe thead th {\n",
       "        text-align: right;\n",
       "    }\n",
       "</style>\n",
       "<table border=\"1\" class=\"dataframe\">\n",
       "  <thead>\n",
       "    <tr style=\"text-align: right;\">\n",
       "      <th></th>\n",
       "      <th>city_development_index</th>\n",
       "      <th>training_hours</th>\n",
       "      <th>city_development_index^2</th>\n",
       "      <th>city_development_index training_hours</th>\n",
       "      <th>training_hours^2</th>\n",
       "    </tr>\n",
       "  </thead>\n",
       "  <tbody>\n",
       "    <tr>\n",
       "      <th>0</th>\n",
       "      <td>0.827</td>\n",
       "      <td>21.0</td>\n",
       "      <td>0.683929</td>\n",
       "      <td>17.367</td>\n",
       "      <td>441.0</td>\n",
       "    </tr>\n",
       "    <tr>\n",
       "      <th>1</th>\n",
       "      <td>0.920</td>\n",
       "      <td>98.0</td>\n",
       "      <td>0.846400</td>\n",
       "      <td>90.160</td>\n",
       "      <td>9604.0</td>\n",
       "    </tr>\n",
       "    <tr>\n",
       "      <th>2</th>\n",
       "      <td>0.624</td>\n",
       "      <td>15.0</td>\n",
       "      <td>0.389376</td>\n",
       "      <td>9.360</td>\n",
       "      <td>225.0</td>\n",
       "    </tr>\n",
       "    <tr>\n",
       "      <th>3</th>\n",
       "      <td>0.827</td>\n",
       "      <td>39.0</td>\n",
       "      <td>0.683929</td>\n",
       "      <td>32.253</td>\n",
       "      <td>1521.0</td>\n",
       "    </tr>\n",
       "    <tr>\n",
       "      <th>4</th>\n",
       "      <td>0.920</td>\n",
       "      <td>72.0</td>\n",
       "      <td>0.846400</td>\n",
       "      <td>66.240</td>\n",
       "      <td>5184.0</td>\n",
       "    </tr>\n",
       "  </tbody>\n",
       "</table>\n",
       "</div>"
      ],
      "text/plain": [
       "   city_development_index  training_hours  city_development_index^2  \\\n",
       "0                   0.827            21.0                  0.683929   \n",
       "1                   0.920            98.0                  0.846400   \n",
       "2                   0.624            15.0                  0.389376   \n",
       "3                   0.827            39.0                  0.683929   \n",
       "4                   0.920            72.0                  0.846400   \n",
       "\n",
       "   city_development_index training_hours  training_hours^2  \n",
       "0                                 17.367             441.0  \n",
       "1                                 90.160            9604.0  \n",
       "2                                  9.360             225.0  \n",
       "3                                 32.253            1521.0  \n",
       "4                                 66.240            5184.0  "
      ]
     },
     "execution_count": 166,
     "metadata": {},
     "output_type": "execute_result"
    }
   ],
   "source": [
    "# Генерация новых количественных признаков для TEST\n",
    "new_features_poly_test = poly_nam_features(TEST, num_columns, 2)\n",
    "new_features_poly_test.head()"
   ]
  },
  {
   "cell_type": "code",
   "execution_count": 167,
   "metadata": {
    "ExecuteTime": {
     "end_time": "2021-06-07T13:00:36.746642Z",
     "start_time": "2021-06-07T13:00:36.715718Z"
    },
    "id": "_BfsqKHbdUjY",
    "outputId": "1fdea04b-74d3-41b6-97d8-48b169c2d28c"
   },
   "outputs": [
    {
     "data": {
      "text/html": [
       "<div>\n",
       "<style scoped>\n",
       "    .dataframe tbody tr th:only-of-type {\n",
       "        vertical-align: middle;\n",
       "    }\n",
       "\n",
       "    .dataframe tbody tr th {\n",
       "        vertical-align: top;\n",
       "    }\n",
       "\n",
       "    .dataframe thead th {\n",
       "        text-align: right;\n",
       "    }\n",
       "</style>\n",
       "<table border=\"1\" class=\"dataframe\">\n",
       "  <thead>\n",
       "    <tr style=\"text-align: right;\">\n",
       "      <th></th>\n",
       "      <th>city</th>\n",
       "      <th>city_development_index</th>\n",
       "      <th>gender</th>\n",
       "      <th>relevent_experience</th>\n",
       "      <th>enrolled_university</th>\n",
       "      <th>education_level</th>\n",
       "      <th>major_discipline</th>\n",
       "      <th>experience</th>\n",
       "      <th>company_size</th>\n",
       "      <th>company_type</th>\n",
       "      <th>last_new_job</th>\n",
       "      <th>training_hours</th>\n",
       "      <th>city_development_index^2</th>\n",
       "      <th>city_development_index training_hours</th>\n",
       "      <th>training_hours^2</th>\n",
       "    </tr>\n",
       "  </thead>\n",
       "  <tbody>\n",
       "    <tr>\n",
       "      <th>0</th>\n",
       "      <td>city_41</td>\n",
       "      <td>0.920</td>\n",
       "      <td>Male</td>\n",
       "      <td>Has relevent experience</td>\n",
       "      <td>Full time course</td>\n",
       "      <td>Graduate</td>\n",
       "      <td>STEM</td>\n",
       "      <td>9</td>\n",
       "      <td>&lt;10</td>\n",
       "      <td>NaN</td>\n",
       "      <td>1</td>\n",
       "      <td>36.0</td>\n",
       "      <td>0.846400</td>\n",
       "      <td>33.120</td>\n",
       "      <td>1296.0</td>\n",
       "    </tr>\n",
       "    <tr>\n",
       "      <th>1</th>\n",
       "      <td>city_103</td>\n",
       "      <td>0.776</td>\n",
       "      <td>Female</td>\n",
       "      <td>Has relevent experience</td>\n",
       "      <td>no_enrollment</td>\n",
       "      <td>Graduate</td>\n",
       "      <td>STEM</td>\n",
       "      <td>5</td>\n",
       "      <td>NaN</td>\n",
       "      <td>Pvt Ltd</td>\n",
       "      <td>1</td>\n",
       "      <td>47.0</td>\n",
       "      <td>0.602176</td>\n",
       "      <td>36.472</td>\n",
       "      <td>2209.0</td>\n",
       "    </tr>\n",
       "    <tr>\n",
       "      <th>2</th>\n",
       "      <td>city_21</td>\n",
       "      <td>0.624</td>\n",
       "      <td>Male</td>\n",
       "      <td>No relevent experience</td>\n",
       "      <td>no_enrollment</td>\n",
       "      <td>High School</td>\n",
       "      <td>NaN</td>\n",
       "      <td>&lt;1</td>\n",
       "      <td>NaN</td>\n",
       "      <td>Pvt Ltd</td>\n",
       "      <td>never</td>\n",
       "      <td>83.0</td>\n",
       "      <td>0.389376</td>\n",
       "      <td>51.792</td>\n",
       "      <td>6889.0</td>\n",
       "    </tr>\n",
       "    <tr>\n",
       "      <th>3</th>\n",
       "      <td>city_13</td>\n",
       "      <td>0.789</td>\n",
       "      <td>Male</td>\n",
       "      <td>Has relevent experience</td>\n",
       "      <td>no_enrollment</td>\n",
       "      <td>Masters</td>\n",
       "      <td>STEM</td>\n",
       "      <td>11</td>\n",
       "      <td>10/49</td>\n",
       "      <td>Pvt Ltd</td>\n",
       "      <td>1</td>\n",
       "      <td>52.0</td>\n",
       "      <td>0.622521</td>\n",
       "      <td>41.028</td>\n",
       "      <td>2704.0</td>\n",
       "    </tr>\n",
       "    <tr>\n",
       "      <th>4</th>\n",
       "      <td>city_103</td>\n",
       "      <td>0.767</td>\n",
       "      <td>Male</td>\n",
       "      <td>Has relevent experience</td>\n",
       "      <td>no_enrollment</td>\n",
       "      <td>Graduate</td>\n",
       "      <td>STEM</td>\n",
       "      <td>&gt;20</td>\n",
       "      <td>10000+</td>\n",
       "      <td>Pvt Ltd</td>\n",
       "      <td>&gt;4</td>\n",
       "      <td>8.0</td>\n",
       "      <td>0.588289</td>\n",
       "      <td>6.136</td>\n",
       "      <td>64.0</td>\n",
       "    </tr>\n",
       "  </tbody>\n",
       "</table>\n",
       "</div>"
      ],
      "text/plain": [
       "       city  city_development_index  gender      relevent_experience  \\\n",
       "0   city_41                   0.920    Male  Has relevent experience   \n",
       "1  city_103                   0.776  Female  Has relevent experience   \n",
       "2   city_21                   0.624    Male   No relevent experience   \n",
       "3   city_13                   0.789    Male  Has relevent experience   \n",
       "4  city_103                   0.767    Male  Has relevent experience   \n",
       "\n",
       "  enrolled_university education_level major_discipline experience  \\\n",
       "0    Full time course        Graduate             STEM          9   \n",
       "1       no_enrollment        Graduate             STEM          5   \n",
       "2       no_enrollment     High School              NaN         <1   \n",
       "3       no_enrollment         Masters             STEM         11   \n",
       "4       no_enrollment        Graduate             STEM        >20   \n",
       "\n",
       "  company_size company_type last_new_job  training_hours  \\\n",
       "0          <10          NaN            1            36.0   \n",
       "1          NaN      Pvt Ltd            1            47.0   \n",
       "2          NaN      Pvt Ltd        never            83.0   \n",
       "3        10/49      Pvt Ltd            1            52.0   \n",
       "4       10000+      Pvt Ltd           >4             8.0   \n",
       "\n",
       "   city_development_index^2  city_development_index training_hours  \\\n",
       "0                  0.846400                                 33.120   \n",
       "1                  0.602176                                 36.472   \n",
       "2                  0.389376                                 51.792   \n",
       "3                  0.622521                                 41.028   \n",
       "4                  0.588289                                  6.136   \n",
       "\n",
       "   training_hours^2  \n",
       "0            1296.0  \n",
       "1            2209.0  \n",
       "2            6889.0  \n",
       "3            2704.0  \n",
       "4              64.0  "
      ]
     },
     "execution_count": 167,
     "metadata": {},
     "output_type": "execute_result"
    }
   ],
   "source": [
    "# Добавление новых количественных признаков в TEST\n",
    "TEST[new_features_poly.columns] = new_features_poly\n",
    "TEST.head()"
   ]
  },
  {
   "cell_type": "markdown",
   "metadata": {},
   "source": [
    "## Обучение итоговой модели"
   ]
  },
  {
   "cell_type": "code",
   "execution_count": 171,
   "metadata": {
    "ExecuteTime": {
     "end_time": "2021-06-07T13:03:46.065753Z",
     "start_time": "2021-06-07T13:03:46.046770Z"
    }
   },
   "outputs": [
    {
     "data": {
      "text/plain": [
       "{'randforest__max_depth': 8,\n",
       " 'tf__cat__imp__strategy': 'most_frequent',\n",
       " 'tf__num__imp__strategy': 'mean'}"
      ]
     },
     "execution_count": 171,
     "metadata": {},
     "output_type": "execute_result"
    }
   ],
   "source": [
    "best_params = randfor_gs_ossimp.best_params_\n",
    "best_params"
   ]
  },
  {
   "cell_type": "code",
   "execution_count": 177,
   "metadata": {
    "ExecuteTime": {
     "end_time": "2021-06-07T13:05:42.238747Z",
     "start_time": "2021-06-07T13:05:42.215835Z"
    },
    "scrolled": true
   },
   "outputs": [
    {
     "data": {
      "text/plain": [
       "Pipeline(steps=[('tf',\n",
       "                 ColumnTransformer(transformers=[('cat',\n",
       "                                                  Pipeline(steps=[('imp',\n",
       "                                                                   SimpleImputer(strategy='most_frequent'))]),\n",
       "                                                  []),\n",
       "                                                 ('num',\n",
       "                                                  Pipeline(steps=[('imp',\n",
       "                                                                   SimpleImputer()),\n",
       "                                                                  ('norm',\n",
       "                                                                   MinMaxScaler())]),\n",
       "                                                  ['city_development_index',\n",
       "                                                   'training_hours'])])),\n",
       "                ('sampling', SMOTE()),\n",
       "                ('randforest',\n",
       "                 RandomForestClassifier(max_depth=8, n_estimators=50))])"
      ]
     },
     "execution_count": 177,
     "metadata": {},
     "output_type": "execute_result"
    }
   ],
   "source": [
    "model.set_params(**best_params)"
   ]
  },
  {
   "cell_type": "code",
   "execution_count": 178,
   "metadata": {
    "ExecuteTime": {
     "end_time": "2021-06-07T13:06:49.686618Z",
     "start_time": "2021-06-07T13:05:58.747284Z"
    },
    "scrolled": true
   },
   "outputs": [
    {
     "data": {
      "text/plain": [
       "GridSearchCV(cv=5,\n",
       "             estimator=Pipeline(steps=[('tf',\n",
       "                                        ColumnTransformer(transformers=[('cat',\n",
       "                                                                         Pipeline(steps=[('imp',\n",
       "                                                                                          SimpleImputer(strategy='most_frequent'))]),\n",
       "                                                                         []),\n",
       "                                                                        ('num',\n",
       "                                                                         Pipeline(steps=[('imp',\n",
       "                                                                                          SimpleImputer()),\n",
       "                                                                                         ('norm',\n",
       "                                                                                          MinMaxScaler())]),\n",
       "                                                                         ['city_development_index',\n",
       "                                                                          'training_hours'])])),\n",
       "                                       ('sampling', SMOTE()),\n",
       "                                       ('randforest',\n",
       "                                        RandomForestClassifier(max_depth=8,\n",
       "                                                               n_estimators=50))]),\n",
       "             param_grid={'randforest__max_depth': [2, 3, 4, 6, 8],\n",
       "                         'tf__cat__imp__strategy': ['most_frequent',\n",
       "                                                    'constant'],\n",
       "                         'tf__num__imp__strategy': ['mean', 'median']},\n",
       "             scoring=make_scorer(balanced_accuracy_score))"
      ]
     },
     "execution_count": 178,
     "metadata": {},
     "output_type": "execute_result"
    }
   ],
   "source": [
    "randfor_gs_ossimp.fit(TRAIN, target)"
   ]
  },
  {
   "cell_type": "code",
   "execution_count": 179,
   "metadata": {
    "ExecuteTime": {
     "end_time": "2021-06-07T13:08:24.957190Z",
     "start_time": "2021-06-07T13:08:24.938208Z"
    }
   },
   "outputs": [
    {
     "data": {
      "text/plain": [
       "0.6678828569313525"
      ]
     },
     "execution_count": 179,
     "metadata": {},
     "output_type": "execute_result"
    }
   ],
   "source": [
    "randfor_gs_ossimp.best_score_"
   ]
  },
  {
   "cell_type": "markdown",
   "metadata": {},
   "source": [
    "# Submission"
   ]
  },
  {
   "cell_type": "code",
   "execution_count": 180,
   "metadata": {
    "ExecuteTime": {
     "end_time": "2021-06-07T13:09:23.770748Z",
     "start_time": "2021-06-07T13:09:23.738780Z"
    }
   },
   "outputs": [],
   "source": [
    "y_pred_proba = randfor_gs_ossimp.predict_proba(TEST)[:, -1]"
   ]
  },
  {
   "cell_type": "code",
   "execution_count": 181,
   "metadata": {
    "ExecuteTime": {
     "end_time": "2021-06-07T13:09:27.151155Z",
     "start_time": "2021-06-07T13:09:27.140156Z"
    },
    "scrolled": true
   },
   "outputs": [
    {
     "data": {
      "text/html": [
       "<div>\n",
       "<style scoped>\n",
       "    .dataframe tbody tr th:only-of-type {\n",
       "        vertical-align: middle;\n",
       "    }\n",
       "\n",
       "    .dataframe tbody tr th {\n",
       "        vertical-align: top;\n",
       "    }\n",
       "\n",
       "    .dataframe thead th {\n",
       "        text-align: right;\n",
       "    }\n",
       "</style>\n",
       "<table border=\"1\" class=\"dataframe\">\n",
       "  <thead>\n",
       "    <tr style=\"text-align: right;\">\n",
       "      <th></th>\n",
       "      <th>target</th>\n",
       "    </tr>\n",
       "    <tr>\n",
       "      <th>enrollee_id</th>\n",
       "      <th></th>\n",
       "    </tr>\n",
       "  </thead>\n",
       "  <tbody>\n",
       "    <tr>\n",
       "      <th>32403</th>\n",
       "      <td>0.411713</td>\n",
       "    </tr>\n",
       "    <tr>\n",
       "      <th>9858</th>\n",
       "      <td>0.410484</td>\n",
       "    </tr>\n",
       "    <tr>\n",
       "      <th>31806</th>\n",
       "      <td>0.756224</td>\n",
       "    </tr>\n",
       "    <tr>\n",
       "      <th>27385</th>\n",
       "      <td>0.406868</td>\n",
       "    </tr>\n",
       "    <tr>\n",
       "      <th>27724</th>\n",
       "      <td>0.406215</td>\n",
       "    </tr>\n",
       "  </tbody>\n",
       "</table>\n",
       "</div>"
      ],
      "text/plain": [
       "               target\n",
       "enrollee_id          \n",
       "32403        0.411713\n",
       "9858         0.410484\n",
       "31806        0.756224\n",
       "27385        0.406868\n",
       "27724        0.406215"
      ]
     },
     "execution_count": 181,
     "metadata": {},
     "output_type": "execute_result"
    }
   ],
   "source": [
    "# Посылка для Kaggle\n",
    "subm = pd.DataFrame(y_pred_proba, index=iden, columns=['target'])\n",
    "subm.head()"
   ]
  },
  {
   "cell_type": "code",
   "execution_count": 182,
   "metadata": {
    "ExecuteTime": {
     "end_time": "2021-06-07T13:09:36.571656Z",
     "start_time": "2021-06-07T13:09:36.541712Z"
    }
   },
   "outputs": [],
   "source": [
    "subm.to_csv('subm.csv')"
   ]
  }
 ],
 "metadata": {
  "kernelspec": {
   "display_name": "Python 3",
   "language": "python",
   "name": "python3"
  },
  "language_info": {
   "codemirror_mode": {
    "name": "ipython",
    "version": 3
   },
   "file_extension": ".py",
   "mimetype": "text/x-python",
   "name": "python",
   "nbconvert_exporter": "python",
   "pygments_lexer": "ipython3",
   "version": "3.7.6"
  },
  "toc": {
   "base_numbering": 1,
   "nav_menu": {},
   "number_sections": true,
   "sideBar": true,
   "skip_h1_title": false,
   "title_cell": "Table of Contents",
   "title_sidebar": "Contents",
   "toc_cell": false,
   "toc_position": {
    "height": "calc(100% - 180px)",
    "left": "10px",
    "top": "150px",
    "width": "341.297px"
   },
   "toc_section_display": true,
   "toc_window_display": true
  },
  "varInspector": {
   "cols": {
    "lenName": 16,
    "lenType": 16,
    "lenVar": 40
   },
   "kernels_config": {
    "python": {
     "delete_cmd_postfix": "",
     "delete_cmd_prefix": "del ",
     "library": "var_list.py",
     "varRefreshCmd": "print(var_dic_list())"
    },
    "r": {
     "delete_cmd_postfix": ") ",
     "delete_cmd_prefix": "rm(",
     "library": "var_list.r",
     "varRefreshCmd": "cat(var_dic_list()) "
    }
   },
   "types_to_exclude": [
    "module",
    "function",
    "builtin_function_or_method",
    "instance",
    "_Feature"
   ],
   "window_display": false
  }
 },
 "nbformat": 4,
 "nbformat_minor": 1
}
